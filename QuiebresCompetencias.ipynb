{
  "nbformat": 4,
  "nbformat_minor": 0,
  "metadata": {
    "colab": {
      "provenance": [],
      "authorship_tag": "ABX9TyPG74ZdZvO/s9aQGNKmnWoJ",
      "include_colab_link": true
    },
    "kernelspec": {
      "name": "python3",
      "display_name": "Python 3"
    },
    "language_info": {
      "name": "python"
    }
  },
  "cells": [
    {
      "cell_type": "markdown",
      "metadata": {
        "id": "view-in-github",
        "colab_type": "text"
      },
      "source": [
        "<a href=\"https://colab.research.google.com/github/MilciadesGonzalez/TradeLaVirginia/blob/main/QuiebresCompetencias.ipynb\" target=\"_parent\"><img src=\"https://colab.research.google.com/assets/colab-badge.svg\" alt=\"Open In Colab\"/></a>"
      ]
    },
    {
      "cell_type": "code",
      "execution_count": null,
      "metadata": {
        "id": "LQc4srpodwCH",
        "colab": {
          "base_uri": "https://localhost:8080/"
        },
        "outputId": "caf43f60-1f0a-4b1e-de24-df6894ad14a9"
      },
      "outputs": [
        {
          "output_type": "stream",
          "name": "stdout",
          "text": [
            "Mounted at /content/drive\n"
          ]
        }
      ],
      "source": [
        "import pandas as pd\n",
        "import numpy as np\n",
        "from google.colab import drive\n",
        "drive.mount('/content/drive')"
      ]
    },
    {
      "cell_type": "code",
      "source": [
        "crudo = pd.read_excel('/content/drive/Shareddrives/Trade Mktg/Trade/4 - Quiebres/Quiebres Competencia/0 - Crudo/DescargaEncuestasQuiebres.xlsx')\n",
        "consolidador = pd.read_excel('/content/drive/MyDrive/Quiebres/0 - Crudo/Consolidador.xlsx')\n",
        "reemplazo = pd.read_excel('/content/drive/MyDrive/Quiebres/0 - Crudo/Reemplazos.xlsx', sheet_name='Competencia')"
      ],
      "metadata": {
        "id": "xSsCl6UZd1pi"
      },
      "execution_count": null,
      "outputs": []
    },
    {
      "cell_type": "code",
      "source": [
        "crudo['Propio'] = np.where(crudo.CodigoProducto < 0, \"Competencia\", \"CLV\")\n",
        "crudo = crudo[crudo['Campaña'] =='CampañaQuiebrePOST']"
      ],
      "metadata": {
        "id": "Ry2FTQZygzos"
      },
      "execution_count": null,
      "outputs": []
    },
    {
      "cell_type": "code",
      "source": [
        "base = pd.merge(crudo, consolidador, on='CódigoBoca', how='left')\n",
        "\n",
        "base = pd.merge(base, reemplazo, on='CodigoProducto', how='left')\n",
        "base = base[['Encuesta', 'Campaña', 'Cluster', 'Sucursal', 'CódigoBoca', 'Boca', 'TipoCliente', 'Formato', 'Rubro', 'CodigoProducto', 'Producto_x', 'Supervisor', 'Repositor', 'Respuesta', 'Relevado',\n",
        "            'EncuestaID', 'Propio', 'Cliente Consolidador', 'Categoría Cliente', 'Subcategoria Cliente', 'EAN', 'Marca', 'Linea', 'SubLinea', 'Semana', 'CodNuevo', 'Clasificación']]\n",
        "base = base.rename(columns={'Producto_x':'Producto'})\n",
        "\n",
        "base = pd.merge(base, reemplazo, left_on='CodNuevo', right_on='CodigoProducto', how='left')\n",
        "base = base[['Campaña', 'Cluster', 'Sucursal', 'CódigoBoca', 'Boca', 'TipoCliente', 'Formato', 'Rubro', 'CodigoProducto_x', 'Producto_y', 'Supervisor', 'Repositor', 'Respuesta', 'Relevado',\n",
        "            'EncuestaID', 'Propio', 'Cliente Consolidador', 'Categoría Cliente', 'Subcategoria Cliente', 'EAN_y', 'Marca_x', 'Linea_y', 'SubLinea_y', 'Semana', 'Clasificación_x']]\n",
        "base = base.rename(columns={'Producto_y':'Producto', 'CodigoProducto_x':'CodigoProducto', 'EAN_y':'EAN', 'Marca_x':'Marca', 'Linea_y':'Linea', 'SubLinea_y':'SubLinea', 'Clasificación_x':'Encuesta'})\n",
        "\n",
        "base = base.dropna(subset=['EAN'])"
      ],
      "metadata": {
        "id": "plGbtfRahTEU"
      },
      "execution_count": null,
      "outputs": []
    },
    {
      "cell_type": "code",
      "source": [
        "base['Total'] = np.where(base.Respuesta != 'FS', 1, 0)\n",
        "base['QT'] = np.where(base.Respuesta == 'QT', 1, 0)"
      ],
      "metadata": {
        "id": "RFD06dDOjbSZ"
      },
      "execution_count": null,
      "outputs": []
    },
    {
      "cell_type": "code",
      "source": [
        "base['CódigoBoca'] = '0' + base['CódigoBoca'].astype(str)\n",
        "base['CodigoProducto'] = base['CodigoProducto'].astype(str)\n",
        "base['EAN'] = base['EAN'].astype(str).apply(lambda x: x.replace('.0',''))\n",
        "base['EAN'] = base['EAN'].astype(str)\n",
        "base = base.drop_duplicates(subset=['Encuesta', 'Campaña', 'Cluster', 'Sucursal', 'CódigoBoca', 'Boca', 'TipoCliente', 'Formato', 'Rubro', 'CodigoProducto', 'Producto', 'Supervisor', 'Repositor',\n",
        "                                    'Respuesta', 'Relevado', 'EncuestaID', 'Propio', 'Cliente Consolidador', 'Categoría Cliente', 'Subcategoria Cliente', 'EAN', 'Marca', 'Linea', 'SubLinea', 'Total',\n",
        "                                    'QT', 'Semana'])"
      ],
      "metadata": {
        "id": "8cbCApYpmV6m"
      },
      "execution_count": null,
      "outputs": []
    },
    {
      "cell_type": "code",
      "source": [
        "base.to_excel('BaseQuiebresCompetencias_.xlsx', index=False)\n",
        "!cp BaseQuiebresCompetencias_.xlsx \"/content/drive/Shareddrives/Trade Mktg/Trade/4 - Quiebres/Quiebres Competencia\""
      ],
      "metadata": {
        "id": "vO7oQ-GTnDTW"
      },
      "execution_count": null,
      "outputs": []
    }
  ]
}