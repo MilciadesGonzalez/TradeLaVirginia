{
  "nbformat": 4,
  "nbformat_minor": 0,
  "metadata": {
    "colab": {
      "provenance": [],
      "authorship_tag": "ABX9TyOaNpUoXleCkZcucBG3OTwZ",
      "include_colab_link": true
    },
    "kernelspec": {
      "name": "python3",
      "display_name": "Python 3"
    },
    "language_info": {
      "name": "python"
    }
  },
  "cells": [
    {
      "cell_type": "markdown",
      "metadata": {
        "id": "view-in-github",
        "colab_type": "text"
      },
      "source": [
        "<a href=\"https://colab.research.google.com/github/MilciadesGonzalez/TradeLaVirginia/blob/main/EGC.ipynb\" target=\"_parent\"><img src=\"https://colab.research.google.com/assets/colab-badge.svg\" alt=\"Open In Colab\"/></a>"
      ]
    },
    {
      "cell_type": "code",
      "execution_count": null,
      "metadata": {
        "colab": {
          "base_uri": "https://localhost:8080/"
        },
        "id": "-vbAcT-RNE5Y",
        "outputId": "a25e26c4-b918-4b30-bedd-da3982b9bd02"
      },
      "outputs": [
        {
          "output_type": "stream",
          "name": "stdout",
          "text": [
            "Drive already mounted at /content/drive; to attempt to forcibly remount, call drive.mount(\"/content/drive\", force_remount=True).\n"
          ]
        }
      ],
      "source": [
        "import pandas as pd\n",
        "import numpy as np\n",
        "from datetime import datetime\n",
        "from google.colab import drive\n",
        "drive.mount('/content/drive')"
      ]
    },
    {
      "cell_type": "markdown",
      "source": [
        "---------------------------------------------------------------INICIO HECHAS------------------------------------------------------------"
      ],
      "metadata": {
        "id": "Hq2GtoEnof5W"
      }
    },
    {
      "cell_type": "code",
      "source": [
        "crudo = pd.read_excel('/content/drive/Shareddrives/Trade Mktg/Trade/2 - FEG Reposición/3 - EGC/EGC con Python/0 - Crudo/DescargaEncuestaExhibicion1.xlsx')\n",
        "crudo = crudo.drop(['Ubicacion','TipoCliente','Formato','Relevamiento','TipoEncuesta','CodigoPregunta','TipoDePregunta','NoAplica','EncuestaID'], axis=1)\n",
        "crudo['Valor'] = crudo['Valor'].fillna(-1)"
      ],
      "metadata": {
        "id": "uI4kcK6fNY4R"
      },
      "execution_count": null,
      "outputs": []
    },
    {
      "cell_type": "code",
      "source": [
        "consolidador = pd.read_excel('/content/drive/Shareddrives/Trade Mktg/Trade/2 - FEG Reposición/3 - EGC/EGC con Python/1 - DatosExterno/DatosExterno.xlsx', sheet_name='Consolidador')\n",
        "leyGondola = pd.read_excel('/content/drive/Shareddrives/Trade Mktg/Trade/2 - FEG Reposición/3 - EGC/EGC con Python/1 - DatosExterno/DatosExterno.xlsx', sheet_name='LeyGondola')\n",
        "espacioNegociado = pd.read_excel('/content/drive/Shareddrives/Trade Mktg/Trade/2 - FEG Reposición/3 - EGC/EGC con Python/1 - DatosExterno/DatosExterno.xlsx', sheet_name='EspacioNegociado')\n",
        "objetivos = pd.read_excel('/content/drive/Shareddrives/Trade Mktg/Trade/2 - FEG Reposición/3 - EGC/EGC con Python/1 - DatosExterno/DatosExterno.xlsx', sheet_name='Objetivos')\n",
        "incentivos = pd.read_excel('/content/drive/Shareddrives/Trade Mktg/Trade/2 - FEG Reposición/3 - EGC/EGC con Python/1 - DatosExterno/DatosExterno.xlsx', sheet_name='Incentivos')\n",
        "incentivosCordoba = pd.read_excel('/content/drive/Shareddrives/Trade Mktg/Trade/2 - FEG Reposición/3 - EGC/EGC con Python/1 - DatosExterno/DatosExterno.xlsx', sheet_name='IncentivosCordoba')\n",
        "ordenPreguntas = pd.read_excel('/content/drive/Shareddrives/Trade Mktg/Trade/2 - FEG Reposición/3 - EGC/EGC con Python/1 - DatosExterno/DatosExterno.xlsx', sheet_name='OrdenPreguntas')\n",
        "cargaTrabajo = pd.read_excel('/content/drive/Shareddrives/Trade Mktg/Trade/2 - FEG Reposición/3 - EGC/EGC con Python/1 - DatosExterno/DatosExterno.xlsx', sheet_name='CargaTrabajo')\n",
        "quiebres = pd.read_excel('/content/drive/Shareddrives/Trade Mktg/Trade/2 - FEG Reposición/3 - EGC/EGC con Python/1 - DatosExterno/DatosExterno.xlsx', sheet_name='Quiebres')\n",
        "regionales = pd.read_excel('/content/drive/Shareddrives/Trade Mktg/Trade/2 - FEG Reposición/3 - EGC/EGC con Python/1 - DatosExterno/DatosExterno.xlsx', sheet_name='Regionales')\n",
        "programacionExhibicion = pd.read_excel('/content/drive/Shareddrives/Trade Mktg/Trade/2 - FEG Reposición/3 - EGC/EGC con Python/1 - DatosExterno/DatosExterno.xlsx', sheet_name='ProgramacionExhibicion')\n",
        "clientesObj = pd.read_excel('/content/drive/Shareddrives/Trade Mktg/Trade/2 - FEG Reposición/3 - EGC/EGC con Python/1 - DatosExterno/DatosExterno.xlsx', sheet_name='ClientesObjetivo')\n",
        "recorrido = pd.read_excel('/content/drive/Shareddrives/Trade Mktg/Trade/2 - FEG Reposición/3 - EGC/EGC con Python/1 - DatosExterno/Recorridos.xlsx')\n",
        "KgSac = pd.read_excel('/content/drive/Shareddrives/Trade Mktg/Trade/2 - FEG Reposición/3 - EGC/EGC con Python/1 - DatosExterno/DatosExterno.xlsx', sheet_name='KgSac')"
      ],
      "metadata": {
        "id": "AewdhSg9Ow0k"
      },
      "execution_count": null,
      "outputs": []
    },
    {
      "cell_type": "code",
      "source": [
        "baseEgc = pd.merge(crudo,consolidador,on='Codigo',how='left')\n",
        "baseEgc = pd.merge(baseEgc,leyGondola,on='Codigo',how='left')\n",
        "baseEgc = pd.merge(baseEgc,espacioNegociado,on='Consolidador',how='left')\n",
        "baseEgc = pd.merge(baseEgc,incentivos,on='Supervisor',how='left')\n",
        "baseEgc = pd.merge(baseEgc,incentivosCordoba,on=['Sucursal','Consolidador'],how='left')\n",
        "baseEgc = pd.merge(baseEgc,ordenPreguntas,on='TituloPregunta',how='left')\n",
        "baseEgc = pd.merge(baseEgc,cargaTrabajo,on='Codigo',how='left')\n",
        "baseEgc = pd.merge(baseEgc,quiebres,on='Codigo',how='left')\n",
        "baseEgc = pd.merge(baseEgc,regionales,on='Sucursal',how='left')\n",
        "baseEgc = pd.merge(baseEgc,programacionExhibicion,on='Codigo',how='left')\n",
        "baseEgc = pd.merge(baseEgc,objetivos,on='Supervisor',how='left')"
      ],
      "metadata": {
        "id": "HAFgxSMtQbsa"
      },
      "execution_count": null,
      "outputs": []
    },
    {
      "cell_type": "code",
      "source": [
        "baseEgc['Incentivos'] = baseEgc.Incentivo_x.fillna(baseEgc.Incentivo_y)\n",
        "baseEgc['JefeSupervisores'] = baseEgc.JefeSupervisores_x.fillna(baseEgc.JefeSupervisores_y)\n",
        "baseEgc = baseEgc.drop(['Incentivo_x','Incentivo_y','JefeSupervisores_x','JefeSupervisores_y','TituloPregunta'], axis=1)\n",
        "baseEgc['Consolidador'] = baseEgc.Consolidador.fillna('vacio')\n",
        "baseEgc['CategoriaCliente'] = baseEgc.CategoriaCliente.fillna('vacio')\n",
        "baseEgc['SubcategoriaCliente'] = baseEgc.SubcategoriaCliente.fillna('vacio')\n",
        "baseEgc['LeyGondola'] = baseEgc.LeyGondola.fillna('vacio')\n",
        "baseEgc['EspacioNegociado'] = baseEgc.EspacioNegociado.fillna('vacio')\n",
        "baseEgc['Total (hs)'] = baseEgc['Total (hs)'].fillna(0)\n",
        "baseEgc['Visitas'] = baseEgc.Visitas.fillna('vacio')\n",
        "baseEgc['Kg. Equivalente'] = baseEgc['Kg. Equivalente'].fillna(0)\n",
        "baseEgc['Kg. /hora'] = baseEgc['Kg. /hora'].fillna(0)\n",
        "baseEgc['QuiebresPost'] = baseEgc.QuiebresPost.fillna('vacio')\n",
        "baseEgc['FechaProgramada'] = baseEgc.FechaProgramada.fillna('vacio')"
      ],
      "metadata": {
        "id": "CF8HLOjoWnFP"
      },
      "execution_count": null,
      "outputs": []
    },
    {
      "cell_type": "code",
      "source": [
        "# baseEgc.to_excel('crudo.xlsx', index=False)\n",
        "# !cp crudo.xlsx \"/content/drive/Shareddrives/Trade Mktg/Trade/2 - FEG Reposición/3 - EGC/EGC con Python/\""
      ],
      "metadata": {
        "id": "G-9SeCEPiO3V"
      },
      "execution_count": null,
      "outputs": []
    },
    {
      "cell_type": "code",
      "source": [
        "baseEgc = baseEgc.drop_duplicates()"
      ],
      "metadata": {
        "id": "6GaB7lRKmFi9"
      },
      "execution_count": null,
      "outputs": []
    },
    {
      "cell_type": "code",
      "source": [
        "baseEgc['FechaRelvamiento'] = baseEgc['FechaRelvamiento'].astype(str)"
      ],
      "metadata": {
        "id": "cM0PRCgWtXzk",
        "colab": {
          "base_uri": "https://localhost:8080/"
        },
        "outputId": "984b10c3-3fac-48ee-cc60-747e9084057d"
      },
      "execution_count": null,
      "outputs": [
        {
          "output_type": "stream",
          "name": "stderr",
          "text": [
            "<ipython-input-147-a83ef3d056e7>:1: SettingWithCopyWarning: \n",
            "A value is trying to be set on a copy of a slice from a DataFrame.\n",
            "Try using .loc[row_indexer,col_indexer] = value instead\n",
            "\n",
            "See the caveats in the documentation: https://pandas.pydata.org/pandas-docs/stable/user_guide/indexing.html#returning-a-view-versus-a-copy\n",
            "  baseEgc['FechaRelvamiento'] = baseEgc['FechaRelvamiento'].astype(str)\n"
          ]
        }
      ]
    },
    {
      "cell_type": "code",
      "source": [
        "td_Egc = baseEgc.pivot_table(index=['Sucursal','Supervisor','Repositor','Codigo','Cliente','Consolidador','CategoriaCliente','SubcategoriaCliente','LeyGondola','EspacioNegociado',\n",
        "                                    'Incentivos','JefeSupervisores','FechaRelvamiento','Total (hs)','Visitas','Kg. Equivalente','Kg. /hora','QuiebresPost','Obj. - Cápsula Sobre Total Café',\n",
        "                                    'Obj. - Cápsula NC CLVSA/Cap. NC Total Cat.','Obj - Café Saq Tot. Cat./ Molido Tot. Cat.',\n",
        "                                    'Obj. - Molido CLVSA (Paq + granos + Saq) / Molido Total Categoría (Paq + granos +Saq)','Obj. - Molido Paquete CLVSA / Molido Paquete Tot. Cat.',\n",
        "                                    'Obj. - Café en Saquitos CLVSA / Café en Saquitos Total Categoria','Obj. - Instantaneo CLVSA / Instantaneo Total Categoría',\n",
        "                                    'Obj. - Mixes (CLVSA + competencia) / Total Instantáneo (CLVSA + competencia)','Obj. - Instant. sin Mixes CLVSA / Instant. sin Mixes Total Categoría',\n",
        "                                    'Obj. BONUS - Instant. sin Mixes CLVSA / Instant. sin Mixes Total Categoría','Obj. - Mixes CLVSA / Mixes Total Categoría',\n",
        "                                    'Obj. BONUS - Mixes CLVSA / Mixes Total Categoría','Obj. - Cacao CLVSA/Cacao Total Cat.','Obj. - Té CLVSA / Té Total Categoria',\n",
        "                                    'Obj. - Té Negro CLVSA / Té Negro Total Categoría','Obj. Alicante s/total especias','Bonus Obj. Alicante s/total especias','Obj. - Giacomo s/ pastas rellenas',\n",
        "                                    'Obj. BONUS - Giacomo s/ pastas rellenas','20 - Real Pastas rellenas s/ total pastas','20 - Tuy p+l/total cat p+l','FechaProgramada'],\n",
        "                             columns='OrdenPregunta', values='Valor', aggfunc='sum', fill_value= None)"
      ],
      "metadata": {
        "id": "GNgnA530h3BH"
      },
      "execution_count": null,
      "outputs": []
    },
    {
      "cell_type": "code",
      "source": [
        "td_Egc =  td_Egc.reset_index()\n",
        "td_Egc['Consolidador'] = np.where((td_Egc.Consolidador=='vacio'),' ',td_Egc.Consolidador)\n",
        "td_Egc['CategoriaCliente'] = np.where((td_Egc.CategoriaCliente=='vacio'),' ',td_Egc.CategoriaCliente)\n",
        "td_Egc['SubcategoriaCliente'] = np.where((td_Egc.SubcategoriaCliente=='vacio'),' ',td_Egc.SubcategoriaCliente)\n",
        "td_Egc['LeyGondola'] = np.where((td_Egc.LeyGondola=='vacio'),' ',td_Egc.LeyGondola)\n",
        "td_Egc['EspacioNegociado'] = np.where((td_Egc.EspacioNegociado=='vacio'),' ',td_Egc.EspacioNegociado)\n",
        "td_Egc['Visitas'] = np.where((td_Egc.Visitas=='vacio'),' ',td_Egc.Visitas)\n",
        "td_Egc['QuiebresPost'] = np.where((td_Egc.QuiebresPost=='vacio'),np.nan,td_Egc.QuiebresPost)\n",
        "td_Egc['FechaProgramada'] = np.where((td_Egc.FechaProgramada=='vacio'),np.nan,td_Egc.FechaProgramada)"
      ],
      "metadata": {
        "id": "YZOYzjlbTz8X"
      },
      "execution_count": null,
      "outputs": []
    },
    {
      "cell_type": "code",
      "source": [
        "td_Egc[\"Cápsula Nes. Comp. Total Cat./Cáps Total Cat.\"] = np.where((td_Egc['2 - Cápsulas Nespresso Compatible (CLVSA + Competencia)']>td_Egc['1 - Cápsulas Total Categoría']),\n",
        "                                                                   0,(td_Egc['2 - Cápsulas Nespresso Compatible (CLVSA + Competencia)']/td_Egc['1 - Cápsulas Total Categoría']))\n",
        "td_Egc['Real - Cápsula Sobre Total Café'] = td_Egc['1 - Cápsulas Total Categoría']/(td_Egc['1 - Cápsulas Total Categoría']+td_Egc['8 - Café Molido Total Categoría (molido, en granos, saquitos)']+\n",
        "                                                                                     td_Egc['18 - Instantaneos Total Categoría (comunes, puros, descafeinados y mixes)'])\n",
        "td_Egc['Real - Cápsula NC CLVSA/Cap. NC Total Cat.'] = np.where((td_Egc['4 - Cápsulas Nespresso Compatible CLVSA (LV + MO)']>td_Egc['2 - Cápsulas Nespresso Compatible (CLVSA + Competencia)']),\n",
        "                                                                0,(td_Egc['4 - Cápsulas Nespresso Compatible CLVSA (LV + MO)']/td_Egc['2 - Cápsulas Nespresso Compatible (CLVSA + Competencia)']))\n",
        "td_Egc['Real - 50% Mol./ 50%Inst.'] = td_Egc['8 - Café Molido Total Categoría (molido, en granos, saquitos)']/(td_Egc['8 - Café Molido Total Categoría (molido, en granos, saquitos)']+\n",
        "                                                                                                               td_Egc['18 - Instantaneos Total Categoría (comunes, puros, descafeinados y mixes)'])\n",
        "td_Egc['Real - Café Saq Tot. Cat./ Molido Tot. Cat.'] = np.where((td_Egc['10 - Café en saquitos Total Categoría (CLVSA + competencia)']>td_Egc['8 - Café Molido Total Categoría (molido, en granos, saquitos)']),\n",
        "                                                                 0,(td_Egc['10 - Café en saquitos Total Categoría (CLVSA + competencia)']/td_Egc['8 - Café Molido Total Categoría (molido, en granos, saquitos)']))\n",
        "td_Egc['Real - Molido CLVSA (Paq + granos + Saq) / Molido Total Categoría (Paq + granos +Saq)'] = np.where((td_Egc['11 - Café Molido Total CLVSA (molido, en granos, saquitos)']>td_Egc['8 - Café Molido Total Categoría (molido, en granos, saquitos)']),\n",
        "                                                                                                           0,(td_Egc['11 - Café Molido Total CLVSA (molido, en granos, saquitos)']/td_Egc['8 - Café Molido Total Categoría (molido, en granos, saquitos)']))\n",
        "td_Egc['Real - Molido Paquete CLVSA / Molido Paquete Tot. Cat.'] = np.where((td_Egc['12 - Café Molido y Tostado Total CLVSA (No contar Café en Saquitos)']>td_Egc['9 - Café Molido y Tostado Total Categoría (No contar Café en Saquitos)']),\n",
        "                                                                            0,(td_Egc['12 - Café Molido y Tostado Total CLVSA (No contar Café en Saquitos)']/td_Egc['9 - Café Molido y Tostado Total Categoría (No contar Café en Saquitos)']))\n",
        "td_Egc['Real - Café en Saquitos CLVSA / Café en Saquitos Total Categoria'] = np.where((td_Egc['13 - Café en saquitos Total CLVSA (LV + MO)']>td_Egc['10 - Café en saquitos Total Categoría (CLVSA + competencia)']),\n",
        "                                                                                      0,(td_Egc['13 - Café en saquitos Total CLVSA (LV + MO)']/td_Egc['10 - Café en saquitos Total Categoría (CLVSA + competencia)']))\n",
        "td_Egc['Real - Instantaneo CLVSA / Instantaneo Total Categoría'] = np.where((td_Egc['21 - Instantaneos Total CLVSA (comunes, puros, descafeinados y mixes)']>td_Egc['18 - Instantaneos Total Categoría (comunes, puros, descafeinados y mixes)']),\n",
        "                                                                            0,(td_Egc['21 - Instantaneos Total CLVSA (comunes, puros, descafeinados y mixes)']/td_Egc['18 - Instantaneos Total Categoría (comunes, puros, descafeinados y mixes)']))\n",
        "td_Egc['Real - Mixes (CLVSA + competencia) / Total Instantáneo (CLVSA + competencia)'] = np.where((td_Egc['19 - Mixes Total Segmento (CLVSA+competencia)']>td_Egc['18 - Instantaneos Total Categoría (comunes, puros, descafeinados y mixes)']),\n",
        "                                                                                                  0,(td_Egc['19 - Mixes Total Segmento (CLVSA+competencia)']/td_Egc['18 - Instantaneos Total Categoría (comunes, puros, descafeinados y mixes)']))\n",
        "td_Egc['Real - Instant. sin Mixes CLVSA / Instant. sin Mixes Total Categoría'] = np.where((td_Egc['23 - Instantaneos sin Mixes Total CLVSA (comunes+puros+descafeinados)']>td_Egc['20 - Instantaneos sin Mixes Total Segmento (comunes+puros+descafeinados)']),\n",
        "                                                                                          0,(td_Egc['23 - Instantaneos sin Mixes Total CLVSA (comunes+puros+descafeinados)']/td_Egc['20 - Instantaneos sin Mixes Total Segmento (comunes+puros+descafeinados)']))\n",
        "td_Egc['Real - Mixes CLVSA / Mixes Total Categoría'] = np.where((td_Egc['22 - Mixes Total CLVSA']>td_Egc['19 - Mixes Total Segmento (CLVSA+competencia)']),\n",
        "                                                                0,(td_Egc['22 - Mixes Total CLVSA']/td_Egc['19 - Mixes Total Segmento (CLVSA+competencia)']))\n",
        "td_Egc['Real - Cacao CLVSA/Cacao Total Cat.'] = np.where((td_Egc['27 - Cacao Total CLVSA']>td_Egc['26 - Cacao Total Categoría']),\n",
        "                                                         0,(td_Egc['27 - Cacao Total CLVSA']/td_Egc['26 - Cacao Total Categoría']))\n",
        "td_Egc['Real - Té CLVSA / Té Total Categoria'] = np.where((td_Egc['31 - Tes Total CLVSA']>td_Egc['30 - Tes Total Categoría']),\n",
        "                                                          0,(td_Egc['31 - Tes Total CLVSA']/td_Egc['30 - Tes Total Categoría']))\n",
        "td_Egc['Real - Té Negro CLVSA / Té Negro Total Categoría'] = np.where((td_Egc['33 - Té Negro Total CLVSA']>td_Egc['32 - Té Negro Total Categoría (CLVSA + Competencia)']),\n",
        "                                                                      0,(td_Egc['33 - Té Negro Total CLVSA']/td_Egc['32 - Té Negro Total Categoría (CLVSA + Competencia)']))\n",
        "td_Egc['Real - Alicante s/total especias'] = np.where((td_Egc['37 - Especias Total CLVSA']>td_Egc['36 - Especias Total Categoría']),\n",
        "                                                      0,(td_Egc['37 - Especias Total CLVSA']/td_Egc['36 - Especias Total Categoría']))\n",
        "td_Egc['Real - Giacomo s/ pastas rellenas'] = np.where((td_Egc['51 - Pastas Rellenas Total CLVSA']>td_Egc['50 - Pastas Rellenas Total Categoría (Giacomo, Lucchettinis)']),\n",
        "                                                       0,(td_Egc['51 - Pastas Rellenas Total CLVSA']/td_Egc['50 - Pastas Rellenas Total Categoría (Giacomo, Lucchettinis)']))\n",
        "td_Egc['Real - Pastas rellenas s/ total pastas'] = np.where((td_Egc['51 - Pastas Rellenas Total CLVSA']>td_Egc['49 - Total Pastas Secas']),\n",
        "                                                            0,(td_Egc['51 - Pastas Rellenas Total CLVSA']/td_Egc['49 - Total Pastas Secas']))\n",
        "td_Egc['Real - Tuy (p+l)/ Total Cat (p+l)'] = np.where((td_Egc['56 - Edulcorante Total CLVSA (Polvo + Líquido)']>td_Egc['53 - Edulcorante Total Categoría (Polvo + Líquido)']),\n",
        "                                                       0,(td_Egc['56 - Edulcorante Total CLVSA (Polvo + Líquido)']/td_Egc['53 - Edulcorante Total Categoría (Polvo + Líquido)']))"
      ],
      "metadata": {
        "id": "K4hsufNEz0j9"
      },
      "execution_count": null,
      "outputs": []
    },
    {
      "cell_type": "code",
      "source": [
        "td_Egc = td_Egc.replace({-1:0.00001,-2:0.00001,-3:0.00001,-4:0.00001,-5:0.00001,-6:0.00001,-7:0.00001,-8:0.00001,-9:0.00001,-10:0.00001})"
      ],
      "metadata": {
        "id": "Iv0VQDwzKjVP"
      },
      "execution_count": null,
      "outputs": []
    },
    {
      "cell_type": "code",
      "source": [
        "td_Egc['Cump. - Cápsula Sobre Total Café'] = np.where((td_Egc['Real - Cápsula Sobre Total Café']>=(td_Egc['Obj. - Cápsula Sobre Total Café']-0.01)),((1*150)/90),0)\n",
        "td_Egc['Cump. - Cápsula NC CLVSA/Cap. NC Total Cat.'] = np.where((td_Egc['Real - Cápsula NC CLVSA/Cap. NC Total Cat.']>=td_Egc['Obj. - Cápsula NC CLVSA/Cap. NC Total Cat.']-0.01),((1*150)/90),0)\n",
        "td_Egc['Cump. - Bloque de Marca Cápsulas (LV - MO)'] = (td_Egc['6 - Bloque de Marca Cápsulas (LV - MO)']*150)/90\n",
        "td_Egc['Cump. Caps. Mat. POP'] = np.where((td_Egc['7 - Cápsulas Material POP (Anular SOLO si es municipio conflictivo)']==0.00001),0.00001,\n",
        "                                          ((td_Egc['7 - Cápsulas Material POP (Anular SOLO si es municipio conflictivo)']*150)/90))\n",
        "td_Egc['Cump - 50% Mol./ 50%Inst.'] = np.where((td_Egc['Real - 50% Mol./ 50%Inst.']>0.49),((2*150)/90),0)\n",
        "td_Egc['Cump. - Café Saq Tot. Cat./ Molido Tot. Cat.'] = np.where((td_Egc['Real - Café Saq Tot. Cat./ Molido Tot. Cat.']>=td_Egc['Obj - Café Saq Tot. Cat./ Molido Tot. Cat.']-0.01),((1*150)/90),0)\n",
        "td_Egc['Cump. - Molido CLVSA (Paq + granos + Saq) / Molido Total Categoría (Paq + granos +Saq)'] = np.where((td_Egc['Real - Molido CLVSA (Paq + granos + Saq) / Molido Total Categoría (Paq + granos +Saq)']>=\n",
        "                                                                                                             td_Egc['Obj. - Molido CLVSA (Paq + granos + Saq) / Molido Total Categoría (Paq + granos +Saq)']-0.01),\n",
        "                                                                                                            ((1*150)/90),0)\n",
        "td_Egc['Cump. - Molido Paquete CLVSA / Molido Paquete Tot. Cat.'] = np.where((td_Egc['Real - Molido Paquete CLVSA / Molido Paquete Tot. Cat.']>=td_Egc['Obj. - Molido Paquete CLVSA / Molido Paquete Tot. Cat.']-0.01),\n",
        "                                                                             ((1*150)/90),0)\n",
        "td_Egc['Cump. - Café en Saquitos CLVSA / Café en Saquitos Total Categoria'] = np.where((td_Egc['Real - Café en Saquitos CLVSA / Café en Saquitos Total Categoria']>=td_Egc['Obj. - Café en Saquitos CLVSA / Café en Saquitos Total Categoria']-0.01),\n",
        "                                                                                       ((1*150)/90),0)\n",
        "td_Egc['Cump. - Molido POP'] = np.where((td_Egc['16 - Café Molido Material POP (Anular SOLO si es municipio conflictivo)']==0.00001),0.00001,(((td_Egc['16 - Café Molido Material POP (Anular SOLO si es municipio conflictivo)']/2)*150)/90))\n",
        "td_Egc['Cump. - Bloque de Marca Café Molido CLVSA (molido, en granos, saquitos)'] = ((td_Egc['14 - Bloque de Marca Café Molido CLVSA (molido, en granos, saquitos)']*150)/90)\n",
        "td_Egc['Cump. - Tostados entre saquitos y torrados masivos'] = ((td_Egc['15 - Tostados entre saquitos y torrados masivos']*150)/90)\n",
        "td_Egc['Cump. - Bloque Azul Molido e Instantáneo LV'] = np.where((td_Egc['17 - Bloque Azul Molido e Instantáneo LV']==0.00001),0.00001,((td_Egc['17 - Bloque Azul Molido e Instantáneo LV']*150)/90))\n",
        "td_Egc['Cump. - Instantaneo CLVSA / Instantaneo Total Categoría'] = np.where((td_Egc['Real - Instantaneo CLVSA / Instantaneo Total Categoría']>=td_Egc['Obj. - Instantaneo CLVSA / Instantaneo Total Categoría']-0.01),\n",
        "                                                                             ((1*150)/90),0)\n",
        "td_Egc['Cump. - Mixes (CLVSA + competencia) / Total Instantáneo (CLVSA + competencia)'] = np.where((td_Egc['Real - Mixes (CLVSA + competencia) / Total Instantáneo (CLVSA + competencia)']>=td_Egc['Obj. - Mixes (CLVSA + competencia) / Total Instantáneo (CLVSA + competencia)']-0.01),\n",
        "                                                                                                   ((1*150)/90),0)\n",
        "td_Egc['Cump. - Instant. sin Mixes CLVSA / Instant. sin Mixes Total Categoría'] = np.where((td_Egc['Real - Instant. sin Mixes CLVSA / Instant. sin Mixes Total Categoría']>=td_Egc['Obj. - Instant. sin Mixes CLVSA / Instant. sin Mixes Total Categoría']-0.01),\n",
        "                                                                                           ((1*150)/90),0)\n",
        "td_Egc['Cump. BONUS - Instant. sin Mixes CLVSA / Instant. sin Mixes Total Categoría'] = np.where((td_Egc['Real - Instant. sin Mixes CLVSA / Instant. sin Mixes Total Categoría']>=td_Egc['Obj. BONUS - Instant. sin Mixes CLVSA / Instant. sin Mixes Total Categoría']-0.01),\n",
        "                                                                                                 ((0.5*150)/90),0)\n",
        "td_Egc['Cump. - Mixes CLVSA / Mixes Total Categoría'] = np.where((td_Egc['Real - Mixes CLVSA / Mixes Total Categoría']>=td_Egc['Obj. - Mixes CLVSA / Mixes Total Categoría']-0.01),((1*150)/90),0)\n",
        "td_Egc['Cump. BONUS - Mixes CLVSA / Mixes Total Categoría'] = np.where((td_Egc['Real - Mixes CLVSA / Mixes Total Categoría']>=td_Egc['Obj. BONUS - Mixes CLVSA / Mixes Total Categoría']-0.01),((0.5*150)/90),0)\n",
        "td_Egc['Cump - Bloque de Marca Inst + Mixes'] = ((td_Egc['24 - Bloque de Marca Inst + Mixes']*150)/90)\n",
        "td_Egc['Cump. - Instantaneo POP'] = np.where((td_Egc['25 - Café Instantáneo Material POP (Anular SOLO si es municipio conflictivo)']==0.00001),0.00001,(((td_Egc['25 - Café Instantáneo Material POP (Anular SOLO si es municipio conflictivo)']/2)*150)/90))\n",
        "td_Egc['Cump. - Cacao CLVSA/Cacao Total Cat.'] = np.where((td_Egc['Real - Cacao CLVSA/Cacao Total Cat.']>=td_Egc['Obj. - Cacao CLVSA/Cacao Total Cat.']),((1*150)/90),0)\n",
        "td_Egc['Cump. - Cacao POP'] = np.where((td_Egc['29 - Cacao Material POP (Anular SOLO si es municipio conflictivo)']==0.00001),0.00001,(((td_Egc['29 - Cacao Material POP (Anular SOLO si es municipio conflictivo)']/2)*150)/90))\n",
        "td_Egc['Cump. - Bloque Chocolino junto a Nesquik'] = ((td_Egc['28 - Bloque Chocolino junto a Nesquik']*150)/90)\n",
        "td_Egc['Cump. - Té CLVSA / Té Total Categoria'] = np.where((td_Egc['Real - Té CLVSA / Té Total Categoria']>=td_Egc['Obj. - Té CLVSA / Té Total Categoria']-0.01),((1*150)/90),0)\n",
        "td_Egc['Cump. - Té Negro CLVSA / Té Negro Total Categoría'] = np.where((td_Egc['Real - Té Negro CLVSA / Té Negro Total Categoría']>=td_Egc['Obj. - Té Negro CLVSA / Té Negro Total Categoría']-0.01),((1*150)/90),0)\n",
        "td_Egc['Cump. - Te POP'] = np.where((td_Egc['35 - Te Material POP (Anular SOLO si es municipio conflictivo)']==0.00001),0.00001,(((td_Egc['35 - Te Material POP (Anular SOLO si es municipio conflictivo)']/2)*150)/90))\n",
        "td_Egc['Cump - Bloque Virgin Islands/Green Hills'] = (((td_Egc['62 - Virgin Islands junto a Green Hills']*2)*150)/90)\n",
        "td_Egc['Cump. - Bloque de marca Herboristería + Especial + Saborizado + Común'] = ((td_Egc['34 - Bloque de marca Herboristería + Especial + Saborizado + Común']*150)/90)\n",
        "td_Egc['Cump. - Alicante s/total especias'] = np.where((td_Egc['Real - Alicante s/total especias']>=td_Egc['Obj. Alicante s/total especias']-0.01),((2*150)/90),0)\n",
        "td_Egc['Cump. BONUS - Alicante s/total especias'] = np.where((td_Egc['Real - Alicante s/total especias']>=td_Egc['Bonus Obj. Alicante s/total especias']-0.01),((1*150)/90),0)\n",
        "td_Egc['Caldos entre H y C'] = np.where((td_Egc['41 - Caldos Alicante en góndola entre Hombros y Cintura']==0.00001),0.00001,(((td_Egc['41 - Caldos Alicante en góndola entre Hombros y Cintura']/2)*150)/90))\n",
        "td_Egc['Bolsas entre H y C'] = np.where((td_Egc['43 - Cocina en Bolsa Alicante en góndola entre Hombros y Cintura']==0.00001),0.00001,(((td_Egc['43 - Cocina en Bolsa Alicante en góndola entre Hombros y Cintura']/2)*150)/90))\n",
        "td_Egc['Sopas entre H y C'] = np.where((td_Egc['45 - Sopas Alicante en góndola entre Hombros y Cintura']==0.00001),0.00001,(((td_Egc['45 - Sopas Alicante en góndola entre Hombros y Cintura']/2)*150)/90))\n",
        "td_Egc['Cump. - Caldos/ Bolsas/ Sopas Mat. POP'] = np.where((td_Egc['48 - Caldos/ Bolsas/ Sopas Material POP (Anular SOLO si es municipio conflictivo)']==0.00001),0.00001,(((td_Egc['48 - Caldos/ Bolsas/ Sopas Material POP (Anular SOLO si es municipio conflictivo)']/2)*150)/90))\n",
        "td_Egc['Cump. - Bloque Condimentos + Semáforo'] = ((td_Egc['38 - Bloque Condimentos + Semáforo']*150)/90)\n",
        "td_Egc['Cump. - Uso de Bandeja para especias (si no hay mueble)'] = ((td_Egc['39 - Uso de Bandeja para especias (si no hay mueble)']*150)/90)\n",
        "td_Egc['Cump. - Bloque Alicante en repostería minimo 10 frentes'] = ((td_Egc['40 - Bloque Alicante en repostería minimo 10 frentes']*150)/90)\n",
        "td_Egc['Cump. - Caldos Alicante en góndola minimo 11 frentes 2'] = np.where((td_Egc['41 - Caldos Alicante en góndola minimo 11 frentes']==0.00001),0.00001,((td_Egc['41 - Caldos Alicante en góndola minimo 11 frentes']*150)/90))\n",
        "td_Egc['Cump - Cocina en Bolsa Alicante en góndola minimo 7 frentes'] = np.where((td_Egc['42 - Cocina en Bolsa Alicante en góndola minimo 7 frentes']==0.00001),0.00001,((td_Egc['42 - Cocina en Bolsa Alicante en góndola minimo 7 frentes']*150)/90))\n",
        "td_Egc['Cump. - Sopas Alicante en góndola minimo 14 frentes'] = np.where((td_Egc['44 - Sopas Alicante en góndola minimo 14 frentes']==0.00001),0.00001,((td_Egc['44 - Sopas Alicante en góndola minimo 14 frentes']*150)/90))\n",
        "td_Egc['Cump. - Giacomo s/ pastas rellenas'] = np.where((td_Egc['Real - Giacomo s/ pastas rellenas']>=td_Egc['Obj. - Giacomo s/ pastas rellenas']-0.01),((1*150)/90),0)\n",
        "td_Egc['Cump. BONUS - Giacomo s/ pastas rellenas'] = np.where((td_Egc['Real - Giacomo s/ pastas rellenas']>=td_Egc['Obj. BONUS - Giacomo s/ pastas rellenas']-0.01),((0.5*150)/90),0)\n",
        "td_Egc['Cump. Pastas rellenas s/ total pastas'] = np.where((td_Egc['Real - Pastas rellenas s/ total pastas']>=0.075),((1*150)/90),0)\n",
        "td_Egc['Pastas Rellenas Mat. POP'] = np.where((td_Egc['52 - Giacomo Material POP (Anular SOLO si es municipio conflictivo)']==0.00001),0.00001,(((td_Egc['52 - Giacomo Material POP (Anular SOLO si es municipio conflictivo)']/2)*150)/90))\n",
        "td_Egc['Cump. - Tuy (p+l)/ Total Cat (p+l)'] = np.where((td_Egc['Real - Tuy (p+l)/ Total Cat (p+l)']>=td_Egc['20 - Tuy p+l/total cat p+l']-0.01),((1*150)/90),0)\n",
        "td_Egc['Tuy - Mat. POP'] = np.where((td_Egc['61 - Tuy Material POP (Anular SOLO si es municipio conflictivo)']==0.00001),0.00001,(((td_Egc['61 - Tuy Material POP (Anular SOLO si es municipio conflictivo)']/2)*150)/90))\n",
        "td_Egc['Cump. - Tuy Junto a Hileret'] = ((td_Egc['59 - Tuy Junto a Hileret']*150)/90)\n",
        "td_Egc['Cump. - Bloque de Marca Tuy (Polvo + Líquido)'] = ((td_Egc['60 - Bloque de Marca Tuy (Polvo + Líquido)']*150)/90)"
      ],
      "metadata": {
        "id": "8iAo5J2aGkuS"
      },
      "execution_count": null,
      "outputs": []
    },
    {
      "cell_type": "code",
      "source": [
        "td_Egc['FechaRelvamiento'] = pd.to_datetime(td_Egc['FechaRelvamiento']).dt.date\n",
        "td_Egc = td_Egc.replace({0.00001:np.nan})\n",
        "td_Egc['Fuente'] = 'EGC'\n",
        "td_Egc['Hecha - No Hecha'] = 'Hecha'\n",
        "td_Egc['Total General'] = 'Total General'\n",
        "td_Egc['¿En fecha?'] = np.where((td_Egc.FechaRelvamiento==td_Egc.FechaProgramada),'En Fecha','Re Programada')"
      ],
      "metadata": {
        "id": "RT-ezkNS6RoU"
      },
      "execution_count": null,
      "outputs": []
    },
    {
      "cell_type": "code",
      "source": [
        "td_Egc['Café'] = td_Egc[['Cump. - Cápsula Sobre Total Café','Cump. - Cápsula NC CLVSA/Cap. NC Total Cat.','Cump. - Bloque de Marca Cápsulas (LV - MO)','Cump. Caps. Mat. POP','Cump - 50% Mol./ 50%Inst.',\n",
        "                         'Cump. - Café Saq Tot. Cat./ Molido Tot. Cat.','Cump. - Molido CLVSA (Paq + granos + Saq) / Molido Total Categoría (Paq + granos +Saq)',\n",
        "                         'Cump. - Molido Paquete CLVSA / Molido Paquete Tot. Cat.','Cump. - Café en Saquitos CLVSA / Café en Saquitos Total Categoria','Cump. - Molido POP',\n",
        "                         'Cump. - Bloque de Marca Café Molido CLVSA (molido, en granos, saquitos)','Cump. - Tostados entre saquitos y torrados masivos','Cump. - Bloque Azul Molido e Instantáneo LV',\n",
        "                         'Cump. - Instantaneo CLVSA / Instantaneo Total Categoría','Cump. - Mixes (CLVSA + competencia) / Total Instantáneo (CLVSA + competencia)',\n",
        "                         'Cump. - Instant. sin Mixes CLVSA / Instant. sin Mixes Total Categoría','Cump. BONUS - Instant. sin Mixes CLVSA / Instant. sin Mixes Total Categoría',\n",
        "                         'Cump. - Mixes CLVSA / Mixes Total Categoría','Cump. BONUS - Mixes CLVSA / Mixes Total Categoría','Cump - Bloque de Marca Inst + Mixes','Cump. - Instantaneo POP']].sum(axis=1, skipna=True)/33.3333333333333\n",
        "td_Egc['Especias y Cond.'] = td_Egc[['Cump. - Alicante s/total especias','Cump. BONUS - Alicante s/total especias','Caldos entre H y C','Bolsas entre H y C','Sopas entre H y C',\n",
        "                                     'Cump. - Caldos/ Bolsas/ Sopas Mat. POP','Cump. - Bloque Condimentos + Semáforo','Cump. - Uso de Bandeja para especias (si no hay mueble)',\n",
        "                                     'Cump. - Bloque Alicante en repostería minimo 10 frentes','Cump. - Caldos Alicante en góndola minimo 11 frentes 2',\n",
        "                                     'Cump - Cocina en Bolsa Alicante en góndola minimo 7 frentes','Cump. - Sopas Alicante en góndola minimo 14 frentes']].sum(axis=1, skipna=True)/18.3333333333333\n",
        "td_Egc['Cacao'] = td_Egc[['Cump. - Cacao CLVSA/Cacao Total Cat.','Cump. - Cacao POP','Cump. - Bloque Chocolino junto a Nesquik']].sum(axis=1, skipna=True)/4.16666666666667\n",
        "td_Egc['Té'] = td_Egc[['Cump. - Té CLVSA / Té Total Categoria','Cump. - Té Negro CLVSA / Té Negro Total Categoría','Cump. - Te POP','Cump - Bloque Virgin Islands/Green Hills',\n",
        "                       'Cump. - Bloque de marca Herboristería + Especial + Saborizado + Común']].sum(axis=1, skipna=True)/9.16666666666667\n",
        "td_Egc['Pastas'] = td_Egc[['Cump. - Giacomo s/ pastas rellenas','Cump. BONUS - Giacomo s/ pastas rellenas','Cump. Pastas rellenas s/ total pastas','Pastas Rellenas Mat. POP']].sum(axis=1, skipna=True)/5\n",
        "td_Egc['Edulcorantes'] = td_Egc[['Cump. - Tuy (p+l)/ Total Cat (p+l)','Tuy - Mat. POP','Cump. - Tuy Junto a Hileret','Cump. - Bloque de Marca Tuy (Polvo + Líquido)']].sum(axis=1, skipna=True)/5.83333333333333\n",
        "\n",
        "\n",
        "\n",
        "\n"
      ],
      "metadata": {
        "id": "cI2iMEEzpC6S"
      },
      "execution_count": null,
      "outputs": []
    },
    {
      "cell_type": "code",
      "source": [
        "td_Egc['Nota Cruda'] = td_Egc[['Cump. - Cápsula Sobre Total Café','Cump. - Cápsula NC CLVSA/Cap. NC Total Cat.','Cump. - Bloque de Marca Cápsulas (LV - MO)','Cump. Caps. Mat. POP',\n",
        "                                'Cump - 50% Mol./ 50%Inst.','Cump. - Café Saq Tot. Cat./ Molido Tot. Cat.','Cump. - Molido CLVSA (Paq + granos + Saq) / Molido Total Categoría (Paq + granos +Saq)',\n",
        "                                'Cump. - Molido Paquete CLVSA / Molido Paquete Tot. Cat.','Cump. - Café en Saquitos CLVSA / Café en Saquitos Total Categoria','Cump. - Molido POP',\n",
        "                                'Cump. - Bloque de Marca Café Molido CLVSA (molido, en granos, saquitos)','Cump. - Tostados entre saquitos y torrados masivos','Cump. - Bloque Azul Molido e Instantáneo LV',\n",
        "                                'Cump. - Instantaneo CLVSA / Instantaneo Total Categoría','Cump. - Mixes (CLVSA + competencia) / Total Instantáneo (CLVSA + competencia)',\n",
        "                                'Cump. - Instant. sin Mixes CLVSA / Instant. sin Mixes Total Categoría','Cump. BONUS - Instant. sin Mixes CLVSA / Instant. sin Mixes Total Categoría',\n",
        "                                'Cump. - Mixes CLVSA / Mixes Total Categoría','Cump. BONUS - Mixes CLVSA / Mixes Total Categoría','Cump - Bloque de Marca Inst + Mixes','Cump. - Instantaneo POP',\n",
        "                                'Cump. - Alicante s/total especias','Cump. BONUS - Alicante s/total especias','Caldos entre H y C','Bolsas entre H y C','Sopas entre H y C',\n",
        "                                'Cump. - Caldos/ Bolsas/ Sopas Mat. POP','Cump. - Bloque Condimentos + Semáforo','Cump. - Uso de Bandeja para especias (si no hay mueble)',\n",
        "                                'Cump. - Bloque Alicante en repostería minimo 10 frentes','Cump. - Caldos Alicante en góndola minimo 11 frentes 2',\n",
        "                                'Cump - Cocina en Bolsa Alicante en góndola minimo 7 frentes','Cump. - Sopas Alicante en góndola minimo 14 frentes','Cump. - Cacao CLVSA/Cacao Total Cat.',\n",
        "                                'Cump. - Cacao POP','Cump. - Bloque Chocolino junto a Nesquik','Cump. - Té CLVSA / Té Total Categoria','Cump. - Té Negro CLVSA / Té Negro Total Categoría',\n",
        "                                'Cump. - Te POP','Cump - Bloque Virgin Islands/Green Hills','Cump. - Bloque de marca Herboristería + Especial + Saborizado + Común','Cump. - Giacomo s/ pastas rellenas',\n",
        "                                'Cump. BONUS - Giacomo s/ pastas rellenas','Cump. Pastas rellenas s/ total pastas','Pastas Rellenas Mat. POP','Cump. - Tuy (p+l)/ Total Cat (p+l)',\n",
        "                                'Tuy - Mat. POP','Cump. - Tuy Junto a Hileret','Cump. - Bloque de Marca Tuy (Polvo + Líquido)']].mean(axis=1, skipna=True)\n",
        "td_Egc['Nota Reco'] = np.where((td_Egc['Nota Cruda']<0.70),'De 0% a 69%',(np.where(((td_Egc['Nota Cruda']>0.69)&(td_Egc['Nota Cruda']<0.90)),'De 70% a 89%',(np.where(((td_Egc['Nota Cruda']>0.89)&(td_Egc['Nota Cruda']<1.10)),'De 90% a 109%',(np.where((td_Egc['Nota Cruda']>1.09),'De 110% a 150%',np.nan)))))))"
      ],
      "metadata": {
        "id": "OBcF_wnWiz-a"
      },
      "execution_count": null,
      "outputs": []
    },
    {
      "cell_type": "code",
      "source": [
        "# td_Egc.to_excel('td_Egc.xlsx', index=False)\n",
        "# !cp td_Egc.xlsx \"/content/drive/Shareddrives/Trade Mktg/Trade/2 - FEG Reposición/3 - EGC/EGC con Python/\""
      ],
      "metadata": {
        "id": "01B94iTN2lLS"
      },
      "execution_count": null,
      "outputs": []
    },
    {
      "cell_type": "markdown",
      "source": [
        "---------------------------------------------------------------FIN HECHAS------------------------------------------------------------"
      ],
      "metadata": {
        "id": "cmygYqcJBYdL"
      }
    },
    {
      "cell_type": "markdown",
      "source": [
        "---------------------------------------------------------------INICIO NO HECHAS------------------------------------------------------------"
      ],
      "metadata": {
        "id": "hyQAEYN_ozAc"
      }
    },
    {
      "cell_type": "code",
      "source": [
        "unionBase = pd.merge(td_Egc,clientesObj,on='Codigo', how='right')\n",
        "baseFiltrada = unionBase[unionBase['Sucursal'].isnull()]\n",
        "noHechas = pd.DataFrame()\n",
        "noHechas['Codigo'] = baseFiltrada.Codigo"
      ],
      "metadata": {
        "id": "juFbPSqRBhpn"
      },
      "execution_count": null,
      "outputs": []
    },
    {
      "cell_type": "code",
      "source": [
        "noHechas = pd.merge(noHechas,recorrido,left_on='Codigo',right_on='CodigoClienteSAP',how='left',suffixes=None)\n",
        "noHechas = noHechas.drop(['CodigoSucursal','Recorrido','Franco','CodigoClienteSGC','CodigoClienteSAP','Consolidador','TIPOCLIENTE','Formato','Categoria','Cluster','CodigoRepositor','CodigoSupervisor',\n",
        "                          'Lunes','Martes','Miércoles','Jueves','Viernes','Sábado','Domingo','Total (hs)'], axis=1)"
      ],
      "metadata": {
        "colab": {
          "base_uri": "https://localhost:8080/"
        },
        "id": "4zRSAdajJ442",
        "outputId": "d75e28ad-8056-4584-a8fa-3c4d4ec7b57f"
      },
      "execution_count": null,
      "outputs": [
        {
          "output_type": "stream",
          "name": "stderr",
          "text": [
            "<ipython-input-158-0e3d97da0a4c>:1: FutureWarning: Passing 'suffixes' as a <class 'NoneType'>, is not supported and may give unexpected results. Provide 'suffixes' as a tuple instead. In the future a 'TypeError' will be raised.\n",
            "  noHechas = pd.merge(noHechas,recorrido,left_on='Codigo',right_on='CodigoClienteSAP',how='left',suffixes=None)\n"
          ]
        }
      ]
    },
    {
      "cell_type": "code",
      "source": [
        "noHechas = pd.merge(noHechas,consolidador,on='Codigo',how='left',suffixes=None)\n",
        "noHechas = pd.merge(noHechas,cargaTrabajo,on='Codigo',how='left',suffixes=None)\n",
        "noHechas = pd.merge(noHechas,quiebres,on='Codigo',how='left',suffixes=None)\n",
        "noHechas['Fuente'] = 'EGC'\n",
        "noHechas['Hecha - No Hecha'] = 'No Hecha'\n",
        "noHechas['FechaRelvamiento'] = datetime.today().strftime('%Y-%m-%d')\n",
        "noHechas['Total General'] = 'Total General'\n",
        "noHechas = noHechas.rename(columns={'NombreCliente':'Cliente'})\n",
        "noHechas['FechaRelvamiento'] = pd.to_datetime(noHechas['FechaRelvamiento']).dt.date"
      ],
      "metadata": {
        "id": "sM3MJDhvcUpW",
        "colab": {
          "base_uri": "https://localhost:8080/"
        },
        "outputId": "00512d38-bb87-4fee-86d3-550c4854e4f2"
      },
      "execution_count": null,
      "outputs": [
        {
          "output_type": "stream",
          "name": "stderr",
          "text": [
            "<ipython-input-159-6a3956f91a95>:1: FutureWarning: Passing 'suffixes' as a <class 'NoneType'>, is not supported and may give unexpected results. Provide 'suffixes' as a tuple instead. In the future a 'TypeError' will be raised.\n",
            "  noHechas = pd.merge(noHechas,consolidador,on='Codigo',how='left',suffixes=None)\n",
            "<ipython-input-159-6a3956f91a95>:2: FutureWarning: Passing 'suffixes' as a <class 'NoneType'>, is not supported and may give unexpected results. Provide 'suffixes' as a tuple instead. In the future a 'TypeError' will be raised.\n",
            "  noHechas = pd.merge(noHechas,cargaTrabajo,on='Codigo',how='left',suffixes=None)\n",
            "<ipython-input-159-6a3956f91a95>:3: FutureWarning: Passing 'suffixes' as a <class 'NoneType'>, is not supported and may give unexpected results. Provide 'suffixes' as a tuple instead. In the future a 'TypeError' will be raised.\n",
            "  noHechas = pd.merge(noHechas,quiebres,on='Codigo',how='left',suffixes=None)\n"
          ]
        }
      ]
    },
    {
      "cell_type": "code",
      "source": [
        "noHechas.drop(noHechas[(noHechas['Sucursal'].isnull())].index, inplace=True)\n",
        "noHechas = noHechas.drop_duplicates(['Codigo'], keep='last')"
      ],
      "metadata": {
        "id": "-6VPYv2N3sOX"
      },
      "execution_count": null,
      "outputs": []
    },
    {
      "cell_type": "code",
      "source": [
        "# noHechas.to_excel('noHechas.xlsx', index=False)\n",
        "# !cp noHechas.xlsx \"/content/drive/Shareddrives/Trade Mktg/Trade/2 - FEG Reposición/3 - EGC/EGC con Python/\""
      ],
      "metadata": {
        "id": "G6fSbNhWwtqR"
      },
      "execution_count": null,
      "outputs": []
    },
    {
      "cell_type": "markdown",
      "source": [
        "---------------------------------------------------------------FIN NO HECHAS------------------------------------------------------------"
      ],
      "metadata": {
        "id": "HYC_pWeLo3O-"
      }
    },
    {
      "cell_type": "markdown",
      "source": [
        "---------------------------------------------------------------INICIO KG SAC------------------------------------------------------------"
      ],
      "metadata": {
        "id": "NZp2DAurqMAX"
      }
    },
    {
      "cell_type": "code",
      "source": [
        "KgSac['Fuente'] = 'KG SAC'\n",
        "KgSac['Hecha - No Hecha'] = ''\n",
        "KgSac['Total General'] = 'Total General'\n",
        "KgSac['FechaRelvamiento'] = datetime.today().strftime('%Y-%m-%d')\n",
        "KgSac['FechaRelvamiento'] = pd.to_datetime(KgSac['FechaRelvamiento']).dt.date"
      ],
      "metadata": {
        "id": "ZI59FR1tmQVd"
      },
      "execution_count": null,
      "outputs": []
    },
    {
      "cell_type": "code",
      "source": [
        "# KgSac.to_excel('KgSac.xlsx', index=False)\n",
        "# !cp KgSac.xlsx \"/content/drive/Shareddrives/Trade Mktg/Trade/2 - FEG Reposición/3 - EGC/EGC con Python/\""
      ],
      "metadata": {
        "id": "GJlo_pnH2j58"
      },
      "execution_count": null,
      "outputs": []
    },
    {
      "cell_type": "markdown",
      "source": [
        "---------------------------------------------------------------FIN KG SAC------------------------------------------------------------"
      ],
      "metadata": {
        "id": "Z6Yg4SQSqSEk"
      }
    },
    {
      "cell_type": "code",
      "source": [
        "BaseEGC = pd.concat([td_Egc,noHechas,KgSac],ignore_index=True)\n",
        "BaseEGC['Codigo'] = BaseEGC['Codigo'].astype(str).apply(lambda x: x.replace('.0',''))\n",
        "BaseEGC['Codigo'] = '0' + BaseEGC['Codigo'].astype(str)\n",
        "BaseEGC['Nombre de la Boca'] = BaseEGC['Codigo'] +' - '+ BaseEGC['Cliente']"
      ],
      "metadata": {
        "id": "fpo9Vv620TIw"
      },
      "execution_count": null,
      "outputs": []
    },
    {
      "cell_type": "code",
      "source": [
        "BaseEGC['FechaRelvamiento'] = pd.to_datetime(BaseEGC.FechaRelvamiento, format='%Y/%m/%d')\n",
        "BaseEGC['FechaRelvamiento'] = BaseEGC.FechaRelvamiento.dt.strftime('%m/%d/%Y')"
      ],
      "metadata": {
        "id": "HOcxEauLoSOl"
      },
      "execution_count": null,
      "outputs": []
    },
    {
      "cell_type": "code",
      "source": [
        "BaseEGC = BaseEGC[['Fuente','Hecha - No Hecha','Sucursal','Supervisor','Repositor','Codigo','Cliente','Consolidador','CategoriaCliente','SubcategoriaCliente','LeyGondola','EspacioNegociado',\n",
        "                   'Incentivos','JefeSupervisores','FechaRelvamiento','Total (hs)','Visitas','Kg. Equivalente','Kg. /hora','QuiebresPost','Obj. - Cápsula Sobre Total Café','Obj. - Cápsula NC CLVSA/Cap. NC Total Cat.',\n",
        "                   'Obj - Café Saq Tot. Cat./ Molido Tot. Cat.','Obj. - Molido CLVSA (Paq + granos + Saq) / Molido Total Categoría (Paq + granos +Saq)','Obj. - Molido Paquete CLVSA / Molido Paquete Tot. Cat.',\n",
        "                   'Obj. - Café en Saquitos CLVSA / Café en Saquitos Total Categoria','Obj. - Instantaneo CLVSA / Instantaneo Total Categoría','Obj. - Mixes (CLVSA + competencia) / Total Instantáneo (CLVSA + competencia)',\n",
        "                   'Obj. - Instant. sin Mixes CLVSA / Instant. sin Mixes Total Categoría','Obj. BONUS - Instant. sin Mixes CLVSA / Instant. sin Mixes Total Categoría','Obj. - Mixes CLVSA / Mixes Total Categoría',\n",
        "                   'Obj. BONUS - Mixes CLVSA / Mixes Total Categoría','Obj. - Cacao CLVSA/Cacao Total Cat.','Obj. - Té CLVSA / Té Total Categoria','Obj. - Té Negro CLVSA / Té Negro Total Categoría',\n",
        "                   'Obj. Alicante s/total especias','Bonus Obj. Alicante s/total especias','Obj. - Giacomo s/ pastas rellenas','Obj. BONUS - Giacomo s/ pastas rellenas','20 - Real Pastas rellenas s/ total pastas',\n",
        "                   '20 - Tuy p+l/total cat p+l','FechaProgramada','1 - Cápsulas Total Categoría','2 - Cápsulas Nespresso Compatible (CLVSA + Competencia)','4 - Cápsulas Nespresso Compatible CLVSA (LV + MO)',\n",
        "                   '6 - Bloque de Marca Cápsulas (LV - MO)','7 - Cápsulas Material POP (Anular SOLO si es municipio conflictivo)','8 - Café Molido Total Categoría (molido, en granos, saquitos)',\n",
        "                   '9 - Café Molido y Tostado Total Categoría (No contar Café en Saquitos)','10 - Café en saquitos Total Categoría (CLVSA + competencia)','11 - Café Molido Total CLVSA (molido, en granos, saquitos)',\n",
        "                   '12 - Café Molido y Tostado Total CLVSA (No contar Café en Saquitos)','13 - Café en saquitos Total CLVSA (LV + MO)','14 - Bloque de Marca Café Molido CLVSA (molido, en granos, saquitos)',\n",
        "                   '15 - Tostados entre saquitos y torrados masivos','16 - Café Molido Material POP (Anular SOLO si es municipio conflictivo)','17 - Bloque Azul Molido e Instantáneo LV','18 - Instantaneos Total Categoría (comunes, puros, descafeinados y mixes)',\n",
        "                   '19 - Mixes Total Segmento (CLVSA+competencia)','20 - Instantaneos sin Mixes Total Segmento (comunes+puros+descafeinados)','21 - Instantaneos Total CLVSA (comunes, puros, descafeinados y mixes)',\n",
        "                   '22 - Mixes Total CLVSA','23 - Instantaneos sin Mixes Total CLVSA (comunes+puros+descafeinados)','24 - Bloque de Marca Inst + Mixes','25 - Café Instantáneo Material POP (Anular SOLO si es municipio conflictivo)',\n",
        "                   '26 - Cacao Total Categoría','27 - Cacao Total CLVSA','28 - Bloque Chocolino junto a Nesquik','29 - Cacao Material POP (Anular SOLO si es municipio conflictivo)','30 - Tes Total Categoría',\n",
        "                   '31 - Tes Total CLVSA','32 - Té Negro Total Categoría (CLVSA + Competencia)','33 - Té Negro Total CLVSA','34 - Bloque de marca Herboristería + Especial + Saborizado + Común',\n",
        "                   '35 - Te Material POP (Anular SOLO si es municipio conflictivo)','36 - Especias Total Categoría','37 - Especias Total CLVSA','38 - Bloque Condimentos + Semáforo','39 - Uso de Bandeja para especias (si no hay mueble)',\n",
        "                   '40 - Bloque Alicante en repostería minimo 10 frentes','41 - Caldos Alicante en góndola entre Hombros y Cintura','41 - Caldos Alicante en góndola minimo 11 frentes','42 - Cocina en Bolsa Alicante en góndola minimo 7 frentes',\n",
        "                   '43 - Cocina en Bolsa Alicante en góndola entre Hombros y Cintura','44 - Sopas Alicante en góndola minimo 14 frentes','45 - Sopas Alicante en góndola entre Hombros y Cintura','48 - Caldos/ Bolsas/ Sopas Material POP (Anular SOLO si es municipio conflictivo)',\n",
        "                   '49 - Total Pastas Secas','50 - Pastas Rellenas Total Categoría (Giacomo, Lucchettinis)','51 - Pastas Rellenas Total CLVSA','52 - Giacomo Material POP (Anular SOLO si es municipio conflictivo)',\n",
        "                   '53 - Edulcorante Total Categoría (Polvo + Líquido)','56 - Edulcorante Total CLVSA (Polvo + Líquido)','59 - Tuy Junto a Hileret','60 - Bloque de Marca Tuy (Polvo + Líquido)','61 - Tuy Material POP (Anular SOLO si es municipio conflictivo)',\n",
        "                   '62 - Virgin Islands junto a Green Hills','Cápsula Nes. Comp. Total Cat./Cáps Total Cat.','Real - Cápsula Sobre Total Café','Real - Cápsula NC CLVSA/Cap. NC Total Cat.','Real - 50% Mol./ 50%Inst.',\n",
        "                   'Real - Café Saq Tot. Cat./ Molido Tot. Cat.','Real - Molido CLVSA (Paq + granos + Saq) / Molido Total Categoría (Paq + granos +Saq)','Real - Molido Paquete CLVSA / Molido Paquete Tot. Cat.',\n",
        "                   'Real - Café en Saquitos CLVSA / Café en Saquitos Total Categoria','Real - Instantaneo CLVSA / Instantaneo Total Categoría','Real - Mixes (CLVSA + competencia) / Total Instantáneo (CLVSA + competencia)',\n",
        "                   'Real - Instant. sin Mixes CLVSA / Instant. sin Mixes Total Categoría','Real - Mixes CLVSA / Mixes Total Categoría','Real - Cacao CLVSA/Cacao Total Cat.','Real - Té CLVSA / Té Total Categoria',\n",
        "                   'Real - Té Negro CLVSA / Té Negro Total Categoría','Real - Alicante s/total especias','Real - Giacomo s/ pastas rellenas','Real - Pastas rellenas s/ total pastas','Real - Tuy (p+l)/ Total Cat (p+l)',\n",
        "                   'Cump. - Cápsula Sobre Total Café','Cump. - Cápsula NC CLVSA/Cap. NC Total Cat.','Cump. - Bloque de Marca Cápsulas (LV - MO)','Cump. Caps. Mat. POP','Cump - 50% Mol./ 50%Inst.','Cump. - Café Saq Tot. Cat./ Molido Tot. Cat.',\n",
        "                   'Cump. - Molido CLVSA (Paq + granos + Saq) / Molido Total Categoría (Paq + granos +Saq)','Cump. - Molido Paquete CLVSA / Molido Paquete Tot. Cat.','Cump. - Café en Saquitos CLVSA / Café en Saquitos Total Categoria',\n",
        "                   'Cump. - Molido POP','Cump. - Bloque de Marca Café Molido CLVSA (molido, en granos, saquitos)','Cump. - Tostados entre saquitos y torrados masivos','Cump. - Bloque Azul Molido e Instantáneo LV',\n",
        "                   'Cump. - Instantaneo CLVSA / Instantaneo Total Categoría','Cump. - Mixes (CLVSA + competencia) / Total Instantáneo (CLVSA + competencia)','Cump. - Instant. sin Mixes CLVSA / Instant. sin Mixes Total Categoría',\n",
        "                   'Cump. BONUS - Instant. sin Mixes CLVSA / Instant. sin Mixes Total Categoría','Cump. - Mixes CLVSA / Mixes Total Categoría','Cump. BONUS - Mixes CLVSA / Mixes Total Categoría','Cump - Bloque de Marca Inst + Mixes',\n",
        "                   'Cump. - Instantaneo POP','Cump. - Cacao CLVSA/Cacao Total Cat.','Cump. - Cacao POP','Cump. - Bloque Chocolino junto a Nesquik','Cump. - Té CLVSA / Té Total Categoria','Cump. - Té Negro CLVSA / Té Negro Total Categoría',\n",
        "                   'Cump. - Te POP','Cump - Bloque Virgin Islands/Green Hills','Cump. - Bloque de marca Herboristería + Especial + Saborizado + Común','Cump. - Alicante s/total especias','Cump. BONUS - Alicante s/total especias',\n",
        "                   'Caldos entre H y C','Bolsas entre H y C','Sopas entre H y C','Cump. - Caldos/ Bolsas/ Sopas Mat. POP','Cump. - Bloque Condimentos + Semáforo','Cump. - Uso de Bandeja para especias (si no hay mueble)',\n",
        "                   'Cump. - Bloque Alicante en repostería minimo 10 frentes','Cump. - Caldos Alicante en góndola minimo 11 frentes 2','Cump - Cocina en Bolsa Alicante en góndola minimo 7 frentes','Cump. - Sopas Alicante en góndola minimo 14 frentes',\n",
        "                   'Cump. - Giacomo s/ pastas rellenas','Cump. BONUS - Giacomo s/ pastas rellenas','Cump. Pastas rellenas s/ total pastas','Pastas Rellenas Mat. POP','Cump. - Tuy (p+l)/ Total Cat (p+l)','Tuy - Mat. POP',\n",
        "                   'Cump. - Tuy Junto a Hileret','Cump. - Bloque de Marca Tuy (Polvo + Líquido)','Nota Cruda','Café','Especias y Cond.','Cacao','Té','Pastas','Edulcorantes','Nombre de la Boca','Kg SAC','¿En fecha?',\n",
        "                   'Nota Reco','Total General']]"
      ],
      "metadata": {
        "id": "yxFNYe0i8Ulq"
      },
      "execution_count": null,
      "outputs": []
    },
    {
      "cell_type": "code",
      "source": [
        "BaseEGC['Codigo'] = np.where((BaseEGC.Codigo=='0nan'),np.nan,BaseEGC.Codigo)"
      ],
      "metadata": {
        "id": "svwoAsey8cKJ"
      },
      "execution_count": null,
      "outputs": []
    },
    {
      "cell_type": "code",
      "source": [
        "BaseEGC = BaseEGC.drop(['Codigo','Cliente','LeyGondola','EspacioNegociado','Visitas','Obj. - Cápsula Sobre Total Café','Obj. - Cápsula NC CLVSA/Cap. NC Total Cat.','Obj - Café Saq Tot. Cat./ Molido Tot. Cat.',\n",
        "                        'Obj. - Molido CLVSA (Paq + granos + Saq) / Molido Total Categoría (Paq + granos +Saq)','Obj. - Molido Paquete CLVSA / Molido Paquete Tot. Cat.','Obj. - Café en Saquitos CLVSA / Café en Saquitos Total Categoria',\n",
        "                        'Obj. - Instantaneo CLVSA / Instantaneo Total Categoría','Obj. - Mixes (CLVSA + competencia) / Total Instantáneo (CLVSA + competencia)','Obj. - Instant. sin Mixes CLVSA / Instant. sin Mixes Total Categoría',\n",
        "                        'Obj. BONUS - Instant. sin Mixes CLVSA / Instant. sin Mixes Total Categoría','Obj. - Mixes CLVSA / Mixes Total Categoría','Obj. BONUS - Mixes CLVSA / Mixes Total Categoría','Obj. - Cacao CLVSA/Cacao Total Cat.',\n",
        "                        'Obj. - Té CLVSA / Té Total Categoria','Obj. - Té Negro CLVSA / Té Negro Total Categoría','Obj. Alicante s/total especias','Bonus Obj. Alicante s/total especias','Obj. - Giacomo s/ pastas rellenas',\n",
        "                        'Obj. BONUS - Giacomo s/ pastas rellenas','20 - Real Pastas rellenas s/ total pastas','20 - Tuy p+l/total cat p+l','FechaProgramada','1 - Cápsulas Total Categoría','2 - Cápsulas Nespresso Compatible (CLVSA + Competencia)',\n",
        "                        '4 - Cápsulas Nespresso Compatible CLVSA (LV + MO)','6 - Bloque de Marca Cápsulas (LV - MO)','7 - Cápsulas Material POP (Anular SOLO si es municipio conflictivo)','8 - Café Molido Total Categoría (molido, en granos, saquitos)',\n",
        "                        '9 - Café Molido y Tostado Total Categoría (No contar Café en Saquitos)','10 - Café en saquitos Total Categoría (CLVSA + competencia)','11 - Café Molido Total CLVSA (molido, en granos, saquitos)',\n",
        "                        '12 - Café Molido y Tostado Total CLVSA (No contar Café en Saquitos)','13 - Café en saquitos Total CLVSA (LV + MO)','14 - Bloque de Marca Café Molido CLVSA (molido, en granos, saquitos)',\n",
        "                        '15 - Tostados entre saquitos y torrados masivos','16 - Café Molido Material POP (Anular SOLO si es municipio conflictivo)','17 - Bloque Azul Molido e Instantáneo LV','18 - Instantaneos Total Categoría (comunes, puros, descafeinados y mixes)',\n",
        "                        '19 - Mixes Total Segmento (CLVSA+competencia)','20 - Instantaneos sin Mixes Total Segmento (comunes+puros+descafeinados)','21 - Instantaneos Total CLVSA (comunes, puros, descafeinados y mixes)',\n",
        "                        '22 - Mixes Total CLVSA','23 - Instantaneos sin Mixes Total CLVSA (comunes+puros+descafeinados)','24 - Bloque de Marca Inst + Mixes','25 - Café Instantáneo Material POP (Anular SOLO si es municipio conflictivo)',\n",
        "                        '26 - Cacao Total Categoría','27 - Cacao Total CLVSA','28 - Bloque Chocolino junto a Nesquik','29 - Cacao Material POP (Anular SOLO si es municipio conflictivo)','30 - Tes Total Categoría','31 - Tes Total CLVSA',\n",
        "                        '32 - Té Negro Total Categoría (CLVSA + Competencia)','33 - Té Negro Total CLVSA','34 - Bloque de marca Herboristería + Especial + Saborizado + Común','35 - Te Material POP (Anular SOLO si es municipio conflictivo)',\n",
        "                        '36 - Especias Total Categoría','37 - Especias Total CLVSA','38 - Bloque Condimentos + Semáforo','39 - Uso de Bandeja para especias (si no hay mueble)','40 - Bloque Alicante en repostería minimo 10 frentes',\n",
        "                        '41 - Caldos Alicante en góndola entre Hombros y Cintura','41 - Caldos Alicante en góndola minimo 11 frentes','42 - Cocina en Bolsa Alicante en góndola minimo 7 frentes','43 - Cocina en Bolsa Alicante en góndola entre Hombros y Cintura',\n",
        "                        '44 - Sopas Alicante en góndola minimo 14 frentes','45 - Sopas Alicante en góndola entre Hombros y Cintura','48 - Caldos/ Bolsas/ Sopas Material POP (Anular SOLO si es municipio conflictivo)','49 - Total Pastas Secas',\n",
        "                        '50 - Pastas Rellenas Total Categoría (Giacomo, Lucchettinis)','51 - Pastas Rellenas Total CLVSA','52 - Giacomo Material POP (Anular SOLO si es municipio conflictivo)','53 - Edulcorante Total Categoría (Polvo + Líquido)',\n",
        "                        '56 - Edulcorante Total CLVSA (Polvo + Líquido)','59 - Tuy Junto a Hileret','60 - Bloque de Marca Tuy (Polvo + Líquido)','61 - Tuy Material POP (Anular SOLO si es municipio conflictivo)','62 - Virgin Islands junto a Green Hills'], axis=1)"
      ],
      "metadata": {
        "id": "XJz6ELmlhFT2"
      },
      "execution_count": null,
      "outputs": []
    },
    {
      "cell_type": "code",
      "source": [
        "BaseEGC.to_excel('BaseEGC.xlsx', index=False)\n",
        "!cp BaseEGC.xlsx \"/content/drive/Shareddrives/Trade Mktg/Trade/2 - FEG Reposición/3 - EGC/EGC con Python/\""
      ],
      "metadata": {
        "id": "_8QgB8X8MP3Z"
      },
      "execution_count": null,
      "outputs": []
    }
  ]
}