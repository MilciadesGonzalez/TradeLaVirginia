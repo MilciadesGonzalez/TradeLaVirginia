{
  "nbformat": 4,
  "nbformat_minor": 0,
  "metadata": {
    "colab": {
      "provenance": [],
      "authorship_tag": "ABX9TyN3pMU/GaxJHdJSCEFJ3ioo",
      "include_colab_link": true
    },
    "kernelspec": {
      "name": "python3",
      "display_name": "Python 3"
    },
    "language_info": {
      "name": "python"
    }
  },
  "cells": [
    {
      "cell_type": "markdown",
      "metadata": {
        "id": "view-in-github",
        "colab_type": "text"
      },
      "source": [
        "<a href=\"https://colab.research.google.com/github/MilciadesGonzalez/TradeLaVirginia/blob/main/ControlHorarios.ipynb\" target=\"_parent\"><img src=\"https://colab.research.google.com/assets/colab-badge.svg\" alt=\"Open In Colab\"/></a>"
      ]
    },
    {
      "cell_type": "code",
      "execution_count": null,
      "metadata": {
        "id": "8v2utZsvvzk8"
      },
      "outputs": [],
      "source": [
        "import pandas as pd\n",
        "import numpy as np\n",
        "import calendar\n",
        "import math\n",
        "from datetime import datetime, timedelta\n",
        "from google.colab import drive\n",
        "drive.mount('/content/drive')"
      ]
    },
    {
      "cell_type": "code",
      "source": [
        "crudo = pd.read_excel('/content/drive/Shareddrives/Trade Mktg/Trade/1.1 - Control de entradas y salidas/ControlHorarios con Python/0 - Crudo/DescargaHorarios.xlsx')\n",
        "geoCorrecta = pd.read_excel('/content/drive/Shareddrives/Trade Mktg/Trade/1.1 - Control de entradas y salidas/ControlHorarios con Python/1 - DatosExternos/Geo Correcta VF10.xlsx')\n",
        "supervisor = pd.read_excel('/content/drive/Shareddrives/Trade Mktg/Trade/1.1 - Control de entradas y salidas/ControlHorarios con Python/1 - DatosExternos/Supervisor.xlsx')"
      ],
      "metadata": {
        "id": "qIrrwSpswIEf"
      },
      "execution_count": null,
      "outputs": []
    },
    {
      "cell_type": "code",
      "source": [
        "base = crudo[['Cliente','DescripcionCliente','Cargo','CodigoCargo','DescripcionCargo','Recorrido','FechaEntrada','LatitudEntrada','LongitudEntrada','FechaSalida','LatitudSalida','LongitudSalida',\n",
        "              'LatitudCliente','LongitudCliente','Dia','Plan de Visita']]\n",
        "base = base[base['Cargo']=='Repositor']\n",
        "base = pd.merge(base, geoCorrecta, on='Cliente', how='left')\n",
        "base = pd.merge(base, supervisor, on='CodigoCargo', how='left')\n",
        "base['LatitudCliente'] = np.where((base.LatitudCliente_y.isna()), base.LatitudCliente_x, base.LatitudCliente_y)\n",
        "base['LongitudCliente'] = np.where((base.LongitudCliente_y.isna()), base.LongitudCliente_x, base.LongitudCliente_y)\n",
        "base['LongitudCliente'] = base['LongitudCliente'].astype(float)\n",
        "base['LatitudCliente'] = base['LatitudCliente'].astype(float)"
      ],
      "metadata": {
        "id": "aNK9-wp2wgvH"
      },
      "execution_count": null,
      "outputs": []
    },
    {
      "cell_type": "code",
      "source": [
        "base['dif_in'] = 6371000*np.arccos(np.cos(np.radians(90-base.LatitudEntrada))*np.cos(np.radians(90-base.LatitudCliente))+np.sin(np.radians(90-base.LatitudEntrada))*np.sin(np.radians(90-base.LatitudCliente))*np.cos(np.radians(base.LongitudEntrada-base.LongitudCliente)))\n",
        "base['dif_out'] = 6371000*np.arccos(np.cos(np.radians(90-base.LatitudSalida))*np.cos(np.radians(90-base.LatitudCliente))+np.sin(np.radians(90-base.LatitudSalida))*np.sin(np.radians(90-base.LatitudCliente))*np.cos(np.radians(base.LongitudSalida-base.LongitudCliente)))\n",
        "base['Ver_In'] = np.where((base.LatitudCliente.isna()),\"0Falta XY STD\",np.where((base.LatitudEntrada.isna()),\"1Sin GPS\",np.where((base.dif_in>500),\"6Rev +500\",np.where((base.dif_in>200),\"5Rev +200\",\n",
        "                          np.where((base.dif_in>100),\"4Rev +100\",np.where((base.dif_in>50),\"3Rev +50\",\"2OK\"))))))\n",
        "base['Ver_Out'] = np.where((base.LatitudCliente.isna()),\"0Falta XY STD\",np.where((base.LatitudSalida.isna()),\"1Sin GPS\",np.where((base.dif_out>500),\"6Rev +500\",np.where((base.dif_out>200),\"5Rev +200\",\n",
        "                          np.where((base.dif_out>100),\"4Rev +100\",np.where((base.dif_out>50),\"3Rev +50\",\"2OK\"))))))\n",
        "formato = \"%H:%M\"\n",
        "h1 = pd.to_datetime(base['FechaEntrada'], formato)\n",
        "h2 = pd.to_datetime(base['FechaSalida'], formato)"
      ],
      "metadata": {
        "id": "2wFblIQ5Ig9D"
      },
      "execution_count": null,
      "outputs": []
    },
    {
      "cell_type": "code",
      "source": [
        "base['real_Horas'] = (h2 - h1)*24\n",
        "base[['entrada','salida']] = base['Plan de Visita'].str.split(' - ',expand=True)\n",
        "base['entrada'] = base['entrada'].fillna(0)\n",
        "base['salida'] = base['salida'].fillna(0)\n",
        "base['entrada'] = pd.to_datetime(base['entrada'])\n",
        "base['salida'] = pd.to_datetime(base['salida'])\n",
        "base['plan_Horas'] = (base.salida-base.entrada)*24\n",
        "base['dif_Horas'] = base.real_Horas - base.plan_Horas\n",
        "base = base.drop(['LatitudCliente_x','LongitudCliente_x','LatitudCliente_y','LongitudCliente_y','entrada','salida'], axis=1)"
      ],
      "metadata": {
        "id": "VC_WC3-CbV0Z"
      },
      "execution_count": null,
      "outputs": []
    },
    {
      "cell_type": "code",
      "source": [
        "base2 = base[['Cliente','DescripcionCliente','Cargo','CodigoCargo','DescripcionCargo','Recorrido','FechaEntrada','LatitudEntrada','LongitudEntrada','LatitudCliente','LongitudCliente',\n",
        "              'Dia','Plan de Visita','dif_in','Ver_In','real_Horas','plan_Horas','dif_Horas','Supervisor']]\n",
        "base2['In/Out'] = 'VerIn'\n",
        "base3 = base[['Cliente','DescripcionCliente','Cargo','CodigoCargo','DescripcionCargo','Recorrido','FechaSalida','LatitudSalida','LongitudSalida','LatitudCliente','LongitudCliente',\n",
        "              'Dia','Plan de Visita','dif_out','Ver_Out','real_Horas','plan_Horas','dif_Horas','Supervisor']]\n",
        "base3['In/Out'] = 'VerOut'\n",
        "base2 = base2.rename(columns={'FechaEntrada':'FechaEntrada/salida','LatitudEntrada':'LatitudEntrada/salida','LongitudEntrada':'LongitudEntrada/salida','dif_in':'dif','Ver_In':'Ver'})\n",
        "base3 = base3.rename(columns={'FechaSalida':'FechaEntrada/salida','LatitudSalida':'LatitudEntrada/salida','LongitudSalida':'LongitudEntrada/salida','dif_out':'dif','Ver_Out':'Ver'})\n",
        "baseDinamica = pd.concat([base2, base3])"
      ],
      "metadata": {
        "id": "u6RSamHRVKmc"
      },
      "execution_count": null,
      "outputs": []
    },
    {
      "cell_type": "code",
      "source": [
        "base['Cliente'] = '0' + base['Cliente'].astype(str)\n",
        "baseDinamica['Cliente'] = '0' + baseDinamica['Cliente'].astype(str)"
      ],
      "metadata": {
        "id": "687BufoZkFuo"
      },
      "execution_count": null,
      "outputs": []
    },
    {
      "cell_type": "code",
      "source": [
        "base.to_excel('base_.xlsx', index=False)\n",
        "!cp base_.xlsx \"/content/drive/Shareddrives/Trade Mktg/Trade/1.1 - Control de entradas y salidas/ControlHorarios con Python\""
      ],
      "metadata": {
        "id": "fYA1VOwRp6eN"
      },
      "execution_count": null,
      "outputs": []
    },
    {
      "cell_type": "code",
      "source": [
        "baseDinamica.to_excel('baseDinamica_.xlsx', index=False)\n",
        "!cp baseDinamica_.xlsx \"/content/drive/Shareddrives/Trade Mktg/Trade/1.1 - Control de entradas y salidas/ControlHorarios con Python\""
      ],
      "metadata": {
        "id": "0GYczncWiMZL"
      },
      "execution_count": null,
      "outputs": []
    }
  ]
}