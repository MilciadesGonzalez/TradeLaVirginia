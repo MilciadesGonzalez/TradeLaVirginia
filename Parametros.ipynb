{
  "nbformat": 4,
  "nbformat_minor": 0,
  "metadata": {
    "colab": {
      "provenance": [],
      "authorship_tag": "ABX9TyPgSSc8S8UuovUhE8EOydiO",
      "include_colab_link": true
    },
    "kernelspec": {
      "name": "python3",
      "display_name": "Python 3"
    },
    "language_info": {
      "name": "python"
    }
  },
  "cells": [
    {
      "cell_type": "markdown",
      "metadata": {
        "id": "view-in-github",
        "colab_type": "text"
      },
      "source": [
        "<a href=\"https://colab.research.google.com/github/MilciadesGonzalez/TradeLaVirginia/blob/main/Parametros.ipynb\" target=\"_parent\"><img src=\"https://colab.research.google.com/assets/colab-badge.svg\" alt=\"Open In Colab\"/></a>"
      ]
    },
    {
      "cell_type": "code",
      "execution_count": null,
      "metadata": {
        "id": "3aiWv2luJx0n",
        "colab": {
          "base_uri": "https://localhost:8080/"
        },
        "outputId": "4a7ee044-1397-4400-afe2-837a2053f18e"
      },
      "outputs": [
        {
          "output_type": "stream",
          "name": "stdout",
          "text": [
            "Mounted at /content/drive\n"
          ]
        }
      ],
      "source": [
        "import pandas as pd\n",
        "import numpy as np\n",
        "from datetime import datetime\n",
        "from google.colab import drive\n",
        "drive.mount('/content/drive')"
      ]
    },
    {
      "cell_type": "markdown",
      "source": [
        "Crudo Dorinka"
      ],
      "metadata": {
        "id": "XgG0IxwIoMl8"
      }
    },
    {
      "cell_type": "code",
      "source": [
        "crudoDorinka = pd.read_excel('/content/drive/Shareddrives/Trade Mktg/Trade/1.5 - Parametros/0 - Parametros con Python/1 - Crudo/kx1l7wl_801682041.xlsx', \n",
        "                             skiprows=26, names=['nro tienda','Tienda','UPC','Item Nbr','Item Flags','Modular Items Flag','Range 1 Curr Traited Store/Item Comb.',\n",
        "                                                 'Range 1 Venta u','Range 1 Stock tienda','Range 1 Stock en tansito','Range 1 Stock CD','Range 1 Stock on order',\n",
        "                                                 'Range 1 Store Weeks Supply','Range 1 Carga gondola','Range 2 Curr Traited Store/Item Comb.','Range 2 Venta u',\n",
        "                                                 'Range 2 Stock tienda','Range 2 Stock en tansito','Range 2 Stock CD','Range 2 Stock on order','Range 2 Store Weeks Supply',\n",
        "                                                 'Range 2 Carga gondola'])"
      ],
      "metadata": {
        "id": "UEJdVPBzKVyM"
      },
      "execution_count": null,
      "outputs": []
    },
    {
      "cell_type": "markdown",
      "source": [
        "Datos externo: Boca - Paletizado - Jerarquia"
      ],
      "metadata": {
        "id": "Am-xzUORoW0Y"
      }
    },
    {
      "cell_type": "code",
      "source": [
        "bocasDorinka = pd.read_excel('/content/drive/Shareddrives/Trade Mktg/Trade/1.5 - Parametros/0 - Parametros con Python/1 - DatosExternos/Bocas.xlsx', sheet_name='Dorinka')\n",
        "bocasCencosud = pd.read_excel('/content/drive/Shareddrives/Trade Mktg/Trade/1.5 - Parametros/0 - Parametros con Python/1 - DatosExternos/Bocas.xlsx', sheet_name='Cencosud')\n",
        "bocasLaAnonima = pd.read_excel('/content/drive/Shareddrives/Trade Mktg/Trade/1.5 - Parametros/0 - Parametros con Python/1 - DatosExternos/Bocas.xlsx', sheet_name='La Anonima')\n",
        "bocasInc = pd.read_excel('/content/drive/Shareddrives/Trade Mktg/Trade/1.5 - Parametros/0 - Parametros con Python/1 - DatosExternos/Bocas.xlsx', sheet_name='INC')\n",
        "paletizado = pd.read_excel('/content/drive/Shareddrives/Trade Mktg/Trade/1.5 - Parametros/0 - Parametros con Python/1 - DatosExternos/Paletizado.xlsx')\n",
        "jerarquia = pd.read_excel('/content/drive/Shareddrives/Trade Mktg/Trade/1.5 - Parametros/0 - Parametros con Python/1 - DatosExternos/1 - Master Jerarquia de Materiales.xlsx')"
      ],
      "metadata": {
        "id": "K6er6Nj9okJg"
      },
      "execution_count": null,
      "outputs": []
    },
    {
      "cell_type": "markdown",
      "source": [
        "Union de bases"
      ],
      "metadata": {
        "id": "SLo2vYM--X_D"
      }
    },
    {
      "cell_type": "code",
      "source": [
        "dorinka = crudoDorinka.merge(bocasDorinka, on='nro tienda')\n",
        "dorinka = dorinka.merge(jerarquia, on='UPC')\n",
        "dorinka = dorinka.merge(paletizado, on='UPC')"
      ],
      "metadata": {
        "id": "8Vbv3Z4347V_"
      },
      "execution_count": null,
      "outputs": []
    },
    {
      "cell_type": "markdown",
      "source": [
        "Limpieza y modificación"
      ],
      "metadata": {
        "id": "nJCVNfQy-enL"
      }
    },
    {
      "cell_type": "code",
      "source": [
        "dorinka['Range 1 Curr Traited Store/Item Comb.'] = np.select([dorinka['Range 1 Curr Traited Store/Item Comb.']>0,\n",
        "                                                              dorinka['Range 1 Curr Traited Store/Item Comb.']==0],('M', 'I'))\n",
        "dorinka['Modular Items Flag'] = np.select([dorinka['Modular Items Flag']=='M',dorinka['Modular Items Flag']==\"\"],(1, 0))\n",
        "dorinka = dorinka.rename(columns={\"Range 1 Curr Traited Store/Item Comb.\":\"Status\",\"Modular Items Flag\":\"Modular\",\"UPC\":\"EAN\",\"Item Nbr\":\"CodigoArticulo\",\n",
        "                                  \"Texto breve de material\":\"DescripcionProducto\",\"Range 1 Stock tienda\":\"StockTienda\",\"Range 1 Stock en tansito\":\"StockTransito\",\n",
        "                                  \"Range 1 Stock CD\":\"StockCD\",\"Range 1 Carga gondola\":\"CargaGondola\",\"Range 1 Venta u\":\"VentaSemanal\"})\n",
        "dorinka['CoberturaDias'] = np.select([dorinka['VentaSemanal']>0,dorinka['VentaSemanal']<=0],[dorinka['StockTienda']/dorinka['VentaSemanal'],0])\n",
        "dorinka['Observaciones'] = np.select([dorinka['StockTienda']<0,((dorinka['StockTienda']>0) & (dorinka['VentaSemanal']==0))],['STOCK NEGATIVO','SIN VENTAS UNA SEMANA'])\n",
        "dorinka['CargaMinima'] = \"\"\n",
        "dorinka['Fecha'] = ''"
      ],
      "metadata": {
        "id": "ZRyNUA2y-h_K"
      },
      "execution_count": null,
      "outputs": []
    },
    {
      "cell_type": "markdown",
      "source": [
        "Orden de columnas"
      ],
      "metadata": {
        "id": "WvMfwUPYcWnK"
      }
    },
    {
      "cell_type": "code",
      "source": [
        "dorinka = dorinka.drop([\"nro tienda\", \"Tienda\", \"Item Flags\", \"Range 1 Stock on order\", \"Range 1 Store Weeks Supply\", \"Range 2 Curr Traited Store/Item Comb.\",\n",
        "                       \"Range 2 Venta u\", \"Range 2 Stock tienda\", \"Range 2 Stock en tansito\", \"Range 2 Stock CD\", \"Range 2 Stock on order\", \"Range 2 Store Weeks Supply\",\n",
        "                       \"Range 2 Carga gondola\"], axis=1)\n",
        "dorinka = dorinka[['Codigo','Status','Modular','EAN','CodigoArticulo','DescripcionProducto','VentaSemanal','CoberturaDias','StockTienda','StockTransito','StockCD',\n",
        "                   'CargaGondola','CargaMinima','Observaciones','Fecha','Jerarquia']]\n",
        "dorinka['Observaciones'] = np.where((dorinka.Observaciones=='0'), ' ', dorinka.Observaciones)"
      ],
      "metadata": {
        "id": "2CwJOdAETEcc"
      },
      "execution_count": null,
      "outputs": []
    },
    {
      "cell_type": "code",
      "source": [
        "dorinka = dorinka.rename(columns={'Codigo':'CodigoCliente','Status':'StatusDelArticulo','Modular':'ItemModulado','CodigoArticulo':'CodigoArticuloCliente','DescripcionProducto':'DescripcionLV',\n",
        "                                  'VentaSemanal':'VentaQsemanal','Fecha':'FechaImportacion'})"
      ],
      "metadata": {
        "id": "FJlYj3xO0iBF"
      },
      "execution_count": null,
      "outputs": []
    },
    {
      "cell_type": "markdown",
      "source": [
        "Exportar resultado"
      ],
      "metadata": {
        "id": "1x04gamzccCW"
      }
    },
    {
      "cell_type": "code",
      "source": [
        "# dorinka.to_excel('ParDorinka.xlsx')\n",
        "# !cp ParDorinka.xlsx \"/content/drive/Shareddrives/Trade Mktg/Trade/1.5 - Parametros/0 - Parametros con Python/\""
      ],
      "metadata": {
        "id": "hciIsuHMYPK1"
      },
      "execution_count": null,
      "outputs": []
    },
    {
      "cell_type": "markdown",
      "source": [
        "Crudo La Anonima"
      ],
      "metadata": {
        "id": "3jW3E65-1_FK"
      }
    },
    {
      "cell_type": "code",
      "source": [
        "crudoVentaLaAnonima = pd.read_excel('/content/drive/Shareddrives/Trade Mktg/Trade/1.5 - Parametros/0 - Parametros con Python/1 - Crudo/Dossier - Venta x Dia.xlsx',\n",
        "                                    skiprows=3, names=['Proveedor_SAP_Portal','Proveedor - Division','Region','Zona','Sucursal','Sector','Familia','SubFamilia','Articulo ID',\n",
        "                                                       'Articulo DESC','Articulo Marca','Articulo Contenido','Articulo Unidad de Medida','Scancode CD','ind','u1','v1','u2','v2',\n",
        "                                                       'u3','v3','u4','v4','u5','v5','u6','v6','u7','v7'])\n",
        "crudoStockLaAnonima = pd.read_excel('/content/drive/Shareddrives/Trade Mktg/Trade/1.5 - Parametros/0 - Parametros con Python/1 - Crudo/Dossier - Stock x Dia.xlsx',\n",
        "                                    skiprows=3, names=['Proveedor - Division','Region','Zona','Sucursal','Sector','Familia','SubFamilia','Articulo ID','Articulo DESC',\n",
        "                                                       'Articulo Marca','Articulo Contenido','Articulo Unidad de Medida','ind','st1','st2','st3','st4','st5','st6','st7'])"
      ],
      "metadata": {
        "id": "ablB9HRW2BDZ"
      },
      "execution_count": null,
      "outputs": []
    },
    {
      "cell_type": "markdown",
      "source": [
        "Modificaciones La Anonima"
      ],
      "metadata": {
        "id": "q5Nq7lwCfQ6H"
      }
    },
    {
      "cell_type": "code",
      "source": [
        "crudoVentaLaAnonima = crudoVentaLaAnonima.replace(np.nan,0)\n",
        "crudoVentaLaAnonima['VentaSemanal'] = crudoVentaLaAnonima['u1']+crudoVentaLaAnonima['u2']+crudoVentaLaAnonima['u3']+crudoVentaLaAnonima['u4']+crudoVentaLaAnonima['u5']+crudoVentaLaAnonima['u6']+crudoVentaLaAnonima['u7']\n",
        "crudoVentaLaAnonima['Concat'] = crudoVentaLaAnonima['Sucursal'].astype(str)+'-'+crudoVentaLaAnonima['Articulo ID'].astype(str)\n",
        "crudoStockLaAnonima = crudoStockLaAnonima.replace(np.nan,0)\n",
        "crudoStockLaAnonima['Stock'] = crudoStockLaAnonima['st1']+crudoStockLaAnonima['st2']+crudoStockLaAnonima['st3']+crudoStockLaAnonima['st4']+crudoStockLaAnonima['st5']+crudoStockLaAnonima['st6']+crudoStockLaAnonima['st7']\n",
        "crudoStockLaAnonima['Concat'] = crudoStockLaAnonima['Sucursal'].astype(str)+'-'+crudoStockLaAnonima['Articulo ID'].astype(str)"
      ],
      "metadata": {
        "id": "ThwiqUsBcjN_"
      },
      "execution_count": null,
      "outputs": []
    },
    {
      "cell_type": "markdown",
      "source": [
        "Union y Limpieza"
      ],
      "metadata": {
        "id": "NTwh29KDgLlo"
      }
    },
    {
      "cell_type": "code",
      "source": [
        "from numpy.core.numeric import outer\n",
        "crudoVentaLaAnonima = pd.merge(crudoVentaLaAnonima,bocasLaAnonima, on='Sucursal')\n",
        "crudoStockLaAnonima = pd.merge(crudoStockLaAnonima,bocasLaAnonima, on='Sucursal')\n",
        "auxVta = crudoVentaLaAnonima.copy()\n",
        "crudoVentaLaAnonima = crudoVentaLaAnonima.drop(['Proveedor_SAP_Portal','Proveedor - Division','Sucursal','Scancode CD','Region','Zona','Sector','Familia','SubFamilia',\n",
        "                                                'Articulo DESC','Articulo Marca','Articulo Contenido','Articulo Unidad de Medida','ind','u1','v1','u2','v2',\n",
        "                                                'u3','v3','u4','v4','u5','v5','u6','v6','u7','v7'], axis=1)\n",
        "auxVta = auxVta.drop(['Proveedor_SAP_Portal','Proveedor - Division','Sucursal','VentaSemanal','Concat','Codigo','Region','Zona','Sector','Familia','SubFamilia',\n",
        "                                                'Articulo DESC','Articulo Marca','Articulo Contenido','Articulo Unidad de Medida','ind','u1','v1','u2','v2',\n",
        "                                                'u3','v3','u4','v4','u5','v5','u6','v6','u7','v7'], axis=1)\n",
        "auxVta = auxVta.drop_duplicates()\n",
        "crudoStockLaAnonima = crudoStockLaAnonima.drop(['Proveedor - Division','Region','Zona','Sector','Sucursal','Familia','SubFamilia','Articulo DESC',\n",
        "                                                'Articulo Marca','Articulo Contenido','Articulo Unidad de Medida','ind','st1','st2','st3','st4','st5','st6','st7'], axis=1)\n",
        "ventaLaAnonima = pd.merge(crudoVentaLaAnonima,crudoStockLaAnonima, on='Concat', how='left')\n",
        "sinVentaLaAnonima = pd.merge(crudoVentaLaAnonima,crudoStockLaAnonima, on='Concat', how='right')\n",
        "sinVentaLaAnonima = sinVentaLaAnonima.loc[sinVentaLaAnonima['VentaSemanal'].isnull()]\n",
        "laAnonima = pd.concat([ventaLaAnonima,sinVentaLaAnonima],ignore_index=True)\n",
        "laAnonima = laAnonima.drop(['Articulo ID_x','Articulo ID_x','Concat','Codigo_x'], axis=1)\n",
        "laAnonima = pd.merge(laAnonima,auxVta,left_on='Articulo ID_y',right_on='Articulo ID',how='left')\n",
        "laAnonima = laAnonima.drop(['Articulo ID'], axis=1)\n",
        "laAnonima = pd.merge(laAnonima,paletizado,left_on='Scancode CD',right_on='EAN')\n",
        "laAnonima = laAnonima.drop(['UPC', 'Scancode CD'], axis=1)\n",
        "laAnonima['Cobertura'] = np.select([laAnonima['VentaSemanal']>0,laAnonima['VentaSemanal']<=0],[laAnonima['Stock']/laAnonima['VentaSemanal'],0])\n",
        "laAnonima['Observaciones'] = np.select([laAnonima['Stock']<0,((laAnonima['Stock']>0) & (laAnonima['VentaSemanal']==0))],['STOCK NEGATIVO','SIN VENTAS UNA SEMANA'])\n",
        "laAnonima = pd.merge(laAnonima,jerarquia,on='EAN')\n",
        "laAnonima = laAnonima.drop(['UPC'], axis=1)"
      ],
      "metadata": {
        "id": "Lj9ASZLSfh2u"
      },
      "execution_count": null,
      "outputs": []
    },
    {
      "cell_type": "markdown",
      "source": [
        "Orden de columnas"
      ],
      "metadata": {
        "id": "e51kdKef0pgT"
      }
    },
    {
      "cell_type": "code",
      "source": [
        "laAnonima['StatusDelArticulo'] = \"\"\n",
        "laAnonima['ItemModulado'] = \"\"\n",
        "laAnonima['StockTransito'] = \"\"\n",
        "laAnonima['StockCD'] = \"\"\n",
        "laAnonima['CargaGondola'] = \"\"\n",
        "laAnonima['CargaMinima'] = \"\"\n",
        "laAnonima['FechaImportacion'] = ''\n",
        "laAnonima = laAnonima[['Codigo_y','StatusDelArticulo','ItemModulado','EAN','Articulo ID_y','Texto breve de material','VentaSemanal','Cobertura','Stock',\n",
        "                       'StockTransito','StockCD','CargaGondola','CargaMinima','Observaciones','FechaImportacion','Jerarquia']]\n",
        "laAnonima['Observaciones'] = np.where((laAnonima.Observaciones=='0'), ' ', laAnonima.Observaciones)\n",
        "laAnonima = laAnonima[laAnonima['VentaSemanal'].notna()]\n",
        "laAnonima = laAnonima.rename(columns={'Codigo_y':'CodigoCliente','Articulo ID_y':'CodigoArticuloCliente','Texto breve de material':'DescripcionLV','VentaSemanal':'VentaQsemanal',\n",
        "                                  'Cobertura':'CoberturaDias','Stock':'StockTienda'})"
      ],
      "metadata": {
        "id": "46NMCXy6-Ayr"
      },
      "execution_count": null,
      "outputs": []
    },
    {
      "cell_type": "markdown",
      "source": [
        "Exportar resultado"
      ],
      "metadata": {
        "id": "wSYFtnVC0ylk"
      }
    },
    {
      "cell_type": "code",
      "source": [
        "# laAnonima.to_excel('laAnonima.xlsx')\n",
        "# !cp laAnonima.xlsx \"/content/drive/Shareddrives/Trade Mktg/Trade/1.5 - Parametros/0 - Parametros con Python/\""
      ],
      "metadata": {
        "id": "rRLM09d_kZgN"
      },
      "execution_count": null,
      "outputs": []
    },
    {
      "cell_type": "markdown",
      "source": [
        "Crudo Cencosud"
      ],
      "metadata": {
        "id": "XStG6pnD06rS"
      }
    },
    {
      "cell_type": "code",
      "source": [
        "crudoCencoReg1 = pd.read_csv('/content/drive/Shareddrives/Trade Mktg/Trade/1.5 - Parametros/0 - Parametros con Python/1 - Crudo/NivServ_AM_Reg1.csv',skiprows=4,index_col=0, encoding='latin-1',sep=';',\n",
        "                             decimal=\",\", names=['Region','Cadena','Local','Seccion','Familia','Item','Descripcion','Codigo Interno','% NS','% NS1','% NS2','Stock','Pend Entrega','Dias Stock',\n",
        "                                    'Dias Obj','Cob Obj Un','Vta Prom DiariaNeta','Pco Uni','Promo','UxB','Fecha Ult Vta','Dias Sin Vta con Stk','Forma Entrega','Vigencia',\n",
        "                                    'Rol Local','Costo','Carga Gondola','CD Abastece','vacio'])\n",
        "crudoCencoReg3 = pd.read_csv('/content/drive/Shareddrives/Trade Mktg/Trade/1.5 - Parametros/0 - Parametros con Python/1 - Crudo/NivServ_AM_Reg3.csv',skiprows=4,index_col=0, encoding='latin-1',sep=';',\n",
        "                             decimal=\",\", names=['Region','Cadena','Local','Seccion','Familia','Item','Descripcion','Codigo Interno','% NS','% NS1','% NS2','Stock','Pend Entrega','Dias Stock',\n",
        "                                    'Dias Obj','Cob Obj Un','Vta Prom DiariaNeta','Pco Uni','Promo','UxB','Fecha Ult Vta','Dias Sin Vta con Stk','Forma Entrega','Vigencia',\n",
        "                                    'Rol Local','Costo','Carga Gondola','CD Abastece','vacio'])\n",
        "crudoCencoReg5 = pd.read_csv('/content/drive/Shareddrives/Trade Mktg/Trade/1.5 - Parametros/0 - Parametros con Python/1 - Crudo/NivServ_AM_Reg5.csv',skiprows=4,index_col=0, encoding='latin-1',sep=';',\n",
        "                             decimal=\",\", names=['Region','Cadena','Local','Seccion','Familia','Item','Descripcion','Codigo Interno','% NS','% NS1','% NS2','Stock','Pend Entrega','Dias Stock',\n",
        "                                    'Dias Obj','Cob Obj Un','Vta Prom DiariaNeta','Pco Uni','Promo','UxB','Fecha Ult Vta','Dias Sin Vta con Stk','Forma Entrega','Vigencia',\n",
        "                                    'Rol Local','Costo','Carga Gondola','CD Abastece','vacio'])"
      ],
      "metadata": {
        "id": "VFYTRqAAaGPQ"
      },
      "execution_count": null,
      "outputs": []
    },
    {
      "cell_type": "markdown",
      "source": [
        "Filtrado de stock de CDS"
      ],
      "metadata": {
        "id": "ZsB6pB8eIDfD"
      }
    },
    {
      "cell_type": "code",
      "source": [
        "filtroCDReg1 = crudoCencoReg1['Local']=='217 - Centro Distribución Ezei'\n",
        "cdReg1 = crudoCencoReg1[filtroCDReg1]\n",
        "cdReg1 = cdReg1.drop(['Cadena','Local','Seccion','Familia','Descripcion','Codigo Interno','% NS','% NS1','% NS2','Pend Entrega','Dias Stock',\n",
        "                      'Dias Obj','Cob Obj Un','Vta Prom DiariaNeta','Pco Uni','Promo','UxB','Fecha Ult Vta','Dias Sin Vta con Stk','Forma Entrega','Vigencia',\n",
        "                      'Rol Local','Costo','Carga Gondola','CD Abastece','vacio'], axis=1)\n",
        "filtroCDReg3 = crudoCencoReg3['Local']=='779 - Centro Distribución Córd'\n",
        "cdReg3= crudoCencoReg3[filtroCDReg3]\n",
        "cdReg3= cdReg3.drop(['Cadena','Local','Seccion','Familia','Descripcion','Codigo Interno','% NS','% NS1','% NS2','Pend Entrega','Dias Stock',\n",
        "                      'Dias Obj','Cob Obj Un','Vta Prom DiariaNeta','Pco Uni','Promo','UxB','Fecha Ult Vta','Dias Sin Vta con Stk','Forma Entrega','Vigencia',\n",
        "                      'Rol Local','Costo','Carga Gondola','CD Abastece','vacio'], axis=1)\n",
        "filtroCDReg5 = crudoCencoReg5['Local']=='221 - Centro Distribución Cuyo'\n",
        "cdReg5 = crudoCencoReg5[filtroCDReg5]\n",
        "cdReg5 = cdReg5.drop(['Cadena','Local','Seccion','Familia','Descripcion','Codigo Interno','% NS','% NS1','% NS2','Pend Entrega','Dias Stock',\n",
        "                      'Dias Obj','Cob Obj Un','Vta Prom DiariaNeta','Pco Uni','Promo','UxB','Fecha Ult Vta','Dias Sin Vta con Stk','Forma Entrega','Vigencia',\n",
        "                      'Rol Local','Costo','Carga Gondola','CD Abastece','vacio'], axis=1)"
      ],
      "metadata": {
        "id": "gOOCY81R-K3R"
      },
      "execution_count": null,
      "outputs": []
    },
    {
      "cell_type": "markdown",
      "source": [
        "Union de bases"
      ],
      "metadata": {
        "id": "jGor25g4Onr4"
      }
    },
    {
      "cell_type": "code",
      "source": [
        "crudoCencoReg1 = pd.merge(crudoCencoReg1,cdReg1,on='Item',how='left')\n",
        "crudoCencoReg3 = pd.merge(crudoCencoReg3,cdReg3,on='Item',how='left')\n",
        "crudoCencoReg5 = pd.merge(crudoCencoReg5,cdReg5,on='Item',how='left')\n",
        "crudoCencoReg1['Stock CD'] = crudoCencoReg1['Stock_y']\n",
        "crudoCencoReg3['Stock CD'] = crudoCencoReg3['Stock_y']\n",
        "crudoCencoReg5['Stock CD'] = crudoCencoReg5['Stock_y']\n",
        "cencosud = pd.concat([crudoCencoReg1,crudoCencoReg3,crudoCencoReg5], ignore_index=True)"
      ],
      "metadata": {
        "id": "pun7E2bxIZGm"
      },
      "execution_count": null,
      "outputs": []
    },
    {
      "cell_type": "markdown",
      "source": [
        "Transformacion"
      ],
      "metadata": {
        "id": "FnXBn05AK8sX"
      }
    },
    {
      "cell_type": "code",
      "source": [
        "cencosud[['CodLocal','Local','Local1']] = cencosud.Local.str.split('-',expand=True)\n",
        "cencosud['CodLocal'] = cencosud['CodLocal'].astype(int)\n",
        "cencosud = pd.merge(cencosud,bocasCencosud, on='CodLocal')\n",
        "cencosud[['EAN1','EAN']] = cencosud.Item.str.split(\"'\",expand=True)\n",
        "cencosud['EAN'] = cencosud['EAN'].astype(int)\n",
        "cencosud = pd.merge(cencosud,paletizado, on='EAN')\n",
        "cencosud['Vigencia'] = cencosud['Vigencia'].replace('V','A')\n",
        "cencosud['Rol Local'] = cencosud['Rol Local'].replace('SI',1)\n",
        "cencosud['Rol Local'] = cencosud['Rol Local'].replace('NO',0)\n",
        "cencosud['ventaSemanal'] = cencosud['Vta Prom DiariaNeta']*7\n",
        "cencosud['CoberturaDias'] = np.select([cencosud['ventaSemanal']>0,cencosud['ventaSemanal']<=0],[(cencosud['Stock_x']/cencosud['ventaSemanal']),0])\n",
        "cencosud['Observaciones'] = np.select([cencosud['Vigencia']=='A',cencosud['Vigencia']!='A'],[(np.select([cencosud['Stock_x']<0,((cencosud['Stock_x']>0) & \n",
        "                                                                                                                                ((cencosud['ventaSemanal']==0) & (cencosud['Dias Sin Vta con Stk']>9)))],\n",
        "                                                                                                        ['STOCK NEGATIVO','SiN VENTAS CON STOCK'])),\"\"])\n",
        "cencosud['Observaciones'] = np.where((cencosud.Observaciones=='0'), ' ', cencosud.Observaciones)\n",
        "cencosud['Observaciones'] = np.where((cencosud.Observaciones=='SiN VENTAS CON STOCK'), ((cencosud['Dias Sin Vta con Stk'].astype(str))+' DIAS SiN VENTAS CON STOCK'), cencosud.Observaciones)\n",
        "cencosud = cencosud.drop(['Cadena','Local','Seccion','Familia','Item','Descripcion','% NS','% NS1','% NS2','Dias Stock','Dias Obj','Cob Obj Un','Vta Prom DiariaNeta','Pco Uni','Promo','UxB',\n",
        "                          'Fecha Ult Vta','Dias Sin Vta con Stk','Forma Entrega','Costo','CD Abastece','vacio','Stock_y','CodLocal','Local1','EAN1','UPC'], axis=1)\n",
        "cencosud['CargaMinima'] = \"\"\n",
        "cencosud['FechaImportacion'] = ''\n",
        "cencosud = pd.merge(cencosud,jerarquia,on='EAN')\n",
        "cencosud = cencosud.drop(['UPC'], axis=1)"
      ],
      "metadata": {
        "id": "HOQVIpG4OwUo"
      },
      "execution_count": null,
      "outputs": []
    },
    {
      "cell_type": "markdown",
      "source": [
        "Orden de columnas"
      ],
      "metadata": {
        "id": "OmFbCfEJxZgz"
      }
    },
    {
      "cell_type": "code",
      "source": [
        "cencosud = cencosud[['Codigo','Vigencia','Rol Local','EAN','Codigo Interno','Texto breve de material','ventaSemanal','CoberturaDias','Stock_x','Pend Entrega','Stock CD','Carga Gondola','CargaMinima','Observaciones','FechaImportacion','Jerarquia']]"
      ],
      "metadata": {
        "id": "R5kj-qp1REYF"
      },
      "execution_count": null,
      "outputs": []
    },
    {
      "cell_type": "code",
      "source": [
        "cencosud = cencosud.rename(columns={'Codigo':'CodigoCliente','Vigencia':'StatusDelArticulo','Rol Local':'ItemModulado','Codigo Interno':'CodigoArticuloCliente', 'Texto breve de material':'DescripcionLV',\n",
        "                                    'ventaSemanal':'VentaQsemanal','Stock_x':'StockTienda','Pend Entrega':'StockTransito','Stock CD':'StockCD','Carga Gondola':'CargaGondola'})"
      ],
      "metadata": {
        "id": "wSnCFKbP2-vJ"
      },
      "execution_count": null,
      "outputs": []
    },
    {
      "cell_type": "markdown",
      "source": [
        "Exportar resultado"
      ],
      "metadata": {
        "id": "LFdPNBa7wdEZ"
      }
    },
    {
      "cell_type": "code",
      "source": [
        "# cencosud.to_excel('cencosud.xlsx')\n",
        "# !cp cencosud.xlsx \"/content/drive/Shareddrives/Trade Mktg/Trade/1.5 - Parametros/0 - Parametros con Python/\""
      ],
      "metadata": {
        "id": "IF4paTnOTv6n"
      },
      "execution_count": null,
      "outputs": []
    },
    {
      "cell_type": "markdown",
      "source": [
        "Crudo INC"
      ],
      "metadata": {
        "id": "kZ4x5K8O9uRR"
      }
    },
    {
      "cell_type": "code",
      "source": [
        "crudoINC = pd.read_excel('/content/drive/Shareddrives/Trade Mktg/Trade/1.5 - Parametros/0 - Parametros con Python/1 - Crudo/20190219 Parametros Carrefour v1.xlsx')"
      ],
      "metadata": {
        "id": "XHgYy3XqFaCJ"
      },
      "execution_count": null,
      "outputs": []
    },
    {
      "cell_type": "markdown",
      "source": [
        "Transformaciones INC"
      ],
      "metadata": {
        "id": "qVrZFx979uCY"
      }
    },
    {
      "cell_type": "code",
      "source": [
        "crudoINC['CoberturaDias'] = np.select([crudoINC['VentaQsemanal']!=0,crudoINC['VentaQsemanal']==0],[((crudoINC['StockTienda']/crudoINC['VentaQsemanal'])/7),0])\n",
        "crudoINC['Observaciones'] = np.select([crudoINC['StockTienda']<0,((crudoINC['StockTienda']>0) & (crudoINC['VentaQsemanal']==0))],['STOCK NEGATIVO','SIN VENTAS UN MES'])\n",
        "crudoINC['Observaciones'] = np.where((crudoINC.Observaciones=='0'), ' ', crudoINC.Observaciones)\n",
        "crudoINC['StatusDelArticulo'] = ''\n",
        "crudoINC['ItemModulado'] = ''\n",
        "crudoINC['CodigoArticuloCliente'] = ''\n",
        "crudoINC['CargaGondola'] = ''\n",
        "crudoINC['CargaMinima'] = ''\n",
        "crudoINC['FechaImportacion'] = ''"
      ],
      "metadata": {
        "id": "zYajScy3FZ13"
      },
      "execution_count": null,
      "outputs": []
    },
    {
      "cell_type": "markdown",
      "source": [
        "Union de bases"
      ],
      "metadata": {
        "id": "ieS9HoE4CJdF"
      }
    },
    {
      "cell_type": "code",
      "source": [
        "inc = crudoINC.merge(bocasInc, on='Local')\n",
        "inc = inc.merge(jerarquia, on='EAN')\n",
        "inc = inc.merge(paletizado, on='EAN')"
      ],
      "metadata": {
        "id": "A4y7xdd7FZrq"
      },
      "execution_count": null,
      "outputs": []
    },
    {
      "cell_type": "markdown",
      "source": [
        "Limpieza"
      ],
      "metadata": {
        "id": "rEPjDYP9CTS3"
      }
    },
    {
      "cell_type": "code",
      "source": [
        "inc = inc.drop(['Aux2','Local','Vta Media','UPC_x','UPC_y'], axis=1)\n",
        "inc = inc.rename(columns={'Texto breve de material':'DescripcionLV'})"
      ],
      "metadata": {
        "id": "muNmbSKTFZiH"
      },
      "execution_count": null,
      "outputs": []
    },
    {
      "cell_type": "markdown",
      "source": [
        "Orden de columnas"
      ],
      "metadata": {
        "id": "N9hAbGOVGINm"
      }
    },
    {
      "cell_type": "code",
      "source": [
        "inc = inc[['CodigoCliente','StatusDelArticulo','ItemModulado','EAN','CodigoArticuloCliente','DescripcionLV','VentaQsemanal','CoberturaDias',\n",
        "           'StockTienda','StockTransito','StockCD','CargaGondola','CargaMinima','Observaciones','FechaImportacion','Jerarquia']]"
      ],
      "metadata": {
        "id": "jdyO8NE7GLHv"
      },
      "execution_count": null,
      "outputs": []
    },
    {
      "cell_type": "markdown",
      "source": [
        "Exportar resultado"
      ],
      "metadata": {
        "id": "DF_06nGLGAX3"
      }
    },
    {
      "cell_type": "code",
      "source": [
        "# inc.to_excel('inc.xlsx')\n",
        "# !cp inc.xlsx \"/content/drive/Shareddrives/Trade Mktg/Trade/1.5 - Parametros/0 - Parametros con Python/\""
      ],
      "metadata": {
        "id": "RaQiUSmDF_EM"
      },
      "execution_count": null,
      "outputs": []
    },
    {
      "cell_type": "markdown",
      "source": [
        "Union de parametros"
      ],
      "metadata": {
        "id": "neX4WrWjy23B"
      }
    },
    {
      "cell_type": "code",
      "source": [
        "parametro = pd.concat([dorinka,laAnonima,cencosud,inc],ignore_index=True)"
      ],
      "metadata": {
        "id": "nJ_FgpaiOwdQ"
      },
      "execution_count": null,
      "outputs": []
    },
    {
      "cell_type": "markdown",
      "source": [
        "Transformaciones"
      ],
      "metadata": {
        "id": "ok0uWxmOwqDa"
      }
    },
    {
      "cell_type": "code",
      "source": [
        "from pandas.io.formats.format import decimal\n",
        "parametro['CodigoCliente'] = '0' + parametro['CodigoCliente'].astype(str)\n",
        "parametro['EAN'] = parametro['EAN'].astype(str)\n",
        "parametro['CodigoArticuloCliente'] = parametro['CodigoArticuloCliente'].astype(str)\n",
        "parametro['Jerarquia'] = parametro['Jerarquia'].astype(str)\n",
        "parametro['CodigoArticuloCliente'] = parametro['CodigoArticuloCliente'].astype(str).apply(lambda x: x.replace('.0',''))\n",
        "parametro['VentaQsemanal'] = parametro['VentaQsemanal'].astype(int)\n",
        "parametro['CoberturaDias'] = parametro['CoberturaDias'].astype(int)\n",
        "parametro['StockTienda'] = parametro['StockTienda'].astype(int)\n",
        "parametro[['Jerarquia','j']] = parametro.Jerarquia.str.split('-',expand=True)\n",
        "parametro = parametro.drop(['j'], axis=1)"
      ],
      "metadata": {
        "id": "0gXJ_Z_E6VYg"
      },
      "execution_count": null,
      "outputs": []
    },
    {
      "cell_type": "markdown",
      "source": [
        "Exportar resultado"
      ],
      "metadata": {
        "id": "7tjBS8Hkwypq"
      }
    },
    {
      "cell_type": "code",
      "source": [
        "parametro.to_excel('ImportadorParametros.xlsx', index=False)\n",
        "!cp ImportadorParametros.xlsx \"/content/drive/Shareddrives/Trade Mktg/Trade/1.5 - Parametros/0 - Parametros con Python/\""
      ],
      "metadata": {
        "id": "5WlpYZpDe76t"
      },
      "execution_count": null,
      "outputs": []
    }
  ]
}