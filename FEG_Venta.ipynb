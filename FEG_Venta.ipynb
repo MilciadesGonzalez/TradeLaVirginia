{
  "cells": [
    {
      "cell_type": "markdown",
      "metadata": {
        "id": "view-in-github",
        "colab_type": "text"
      },
      "source": [
        "<a href=\"https://colab.research.google.com/github/MilciadesGonzalez/TradeLaVirginia/blob/main/FEG_Venta.ipynb\" target=\"_parent\"><img src=\"https://colab.research.google.com/assets/colab-badge.svg\" alt=\"Open In Colab\"/></a>"
      ]
    },
    {
      "cell_type": "code",
      "execution_count": null,
      "metadata": {
        "id": "EqMmb84iBZed",
        "colab": {
          "base_uri": "https://localhost:8080/"
        },
        "outputId": "66b945e7-49e8-44a9-d522-e106821fc9dc"
      },
      "outputs": [
        {
          "output_type": "stream",
          "name": "stdout",
          "text": [
            "Mounted at /content/drive\n"
          ]
        }
      ],
      "source": [
        "import pandas as pd\n",
        "import numpy as np\n",
        "import datetime\n",
        "import calendar\n",
        "from google.colab import drive\n",
        "drive.mount('/content/drive')"
      ]
    },
    {
      "cell_type": "code",
      "execution_count": null,
      "metadata": {
        "id": "rZZjuSy9DMwu"
      },
      "outputs": [],
      "source": [
        "crudo = pd.read_excel('/content/drive/Shareddrives/Trade Mktg/Trade/3 - FEG Venta/1 - Dashboard Mensual/FEG Mensual con Python/1 - Crudo/DescargaEncuestasFEG.xlsx')\n",
        "kg30_consol = pd.read_excel('/content/drive/Shareddrives/Trade Mktg/Trade/3 - FEG Venta/1 - Dashboard Mensual/FEG Mensual con Python/1.5 - Kgs/Kg 30 bocas.xlsx', sheet_name='Hoja1')\n",
        "kg30_boca = pd.read_excel('/content/drive/Shareddrives/Trade Mktg/Trade/3 - FEG Venta/1 - Dashboard Mensual/FEG Mensual con Python/1.5 - Kgs/Kg 30 bocas.xlsx', sheet_name='Kg 30 bocas')\n",
        "kg30_consol_12M = pd.read_excel('/content/drive/Shareddrives/Trade Mktg/Trade/3 - FEG Venta/1 - Dashboard Mensual/FEG Mensual con Python/1.5 - Kgs/Kg 30 bocas_12-Meses.xlsx', sheet_name='Hoja1')\n",
        "kg30_boca_12M = pd.read_excel('/content/drive/Shareddrives/Trade Mktg/Trade/3 - FEG Venta/1 - Dashboard Mensual/FEG Mensual con Python/1.5 - Kgs/Kg 30 bocas_12-Meses.xlsx', sheet_name='Kg 30 bocas_12-Meses')\n",
        "kgCartera = pd.read_excel('/content/drive/Shareddrives/Trade Mktg/Trade/3 - FEG Venta/1 - Dashboard Mensual/FEG Mensual con Python/1.5 - Kgs/Kg Cartera.xlsx')\n",
        "kgSic = pd.read_excel('/content/drive/Shareddrives/Trade Mktg/Trade/3 - FEG Venta/1 - Dashboard Mensual/FEG Mensual con Python/1.5 - Kgs/Kg Sic.xlsx')\n",
        "kgSic_12M = pd.read_excel('/content/drive/Shareddrives/Trade Mktg/Trade/3 - FEG Venta/1 - Dashboard Mensual/FEG Mensual con Python/1.5 - Kgs/Kg Sic_12-Meses.xlsx')\n",
        "kgCarga_12M = pd.read_excel('/content/drive/Shareddrives/Trade Mktg/Trade/3 - FEG Venta/1 - Dashboard Mensual/FEG Mensual con Python/1.5 - Kgs/Kg_Carga-12M.xlsx')\n",
        "pondera = pd.read_excel('/content/drive/Shareddrives/Trade Mktg/Trade/3 - FEG Venta/1 - Dashboard Mensual/FEG Mensual con Python/1.5 - Kgs/DatosExternos.xlsx', sheet_name='Pondera')\n",
        "usuario = pd.read_excel('/content/drive/Shareddrives/Trade Mktg/Trade/3 - FEG Venta/1 - Dashboard Mensual/FEG Mensual con Python/1.5 - Kgs/DatosExternos.xlsx', sheet_name='Usuarios')\n",
        "nombreSac = pd.read_excel('/content/drive/Shareddrives/Trade Mktg/Trade/3 - FEG Venta/1 - Dashboard Mensual/FEG Mensual con Python/1.5 - Kgs/DatosExternos.xlsx', sheet_name='ControlNombreSac')\n",
        "objBoca = pd.read_excel('/content/drive/Shareddrives/Trade Mktg/Trade/3 - FEG Venta/1 - Dashboard Mensual/FEG Mensual con Python/1.5 - Kgs/DatosExternos.xlsx', sheet_name='ObjetivosBoca')\n"
      ]
    },
    {
      "cell_type": "markdown",
      "metadata": {
        "id": "NCYOebnp7-bt"
      },
      "source": []
    },
    {
      "cell_type": "code",
      "execution_count": null,
      "metadata": {
        "id": "LZJpglR9MMOT"
      },
      "outputs": [],
      "source": [
        "encHechas = crudo.rename(columns={'RealizadaPor':'NombreVendedor','codigoVendedorRepositor':'CodVendedor'})\n",
        "encHechas = pd.merge(encHechas, pondera, on='TituloPregunta', how='left')\n",
        "encHechas['Pondera3'] = (encHechas['Valor']/100)*encHechas['Pondera2']\n",
        "encHechas['FechaRelvamiento'] = encHechas['FechaRelvamiento'].astype(str)"
      ]
    },
    {
      "cell_type": "code",
      "execution_count": null,
      "metadata": {
        "id": "kwElLNIcoudS"
      },
      "outputs": [],
      "source": [
        "hoy=datetime.datetime.now()\n",
        "fechaHoy=\"%s/%s/2\" % (hoy.year, hoy.month)"
      ]
    },
    {
      "cell_type": "code",
      "execution_count": null,
      "metadata": {
        "id": "uG3RZsshMKYc"
      },
      "outputs": [],
      "source": [
        "TD_encuestasHechas = encHechas.pivot_table(index=['Sucursal','Supervisor','Codigo','Cliente','NombreVendedor','CodVendedor'], columns=['TipoEncuesta'], values='Valor', aggfunc=np.mean)\n",
        "TD_encuestasHechas =  TD_encuestasHechas.reset_index()\n",
        "TD_encuestasHechas['FEGCacao'] = np.where((TD_encuestasHechas.FEGCacao > 0),1,np.nan)\n",
        "TD_encuestasHechas['FEGCafe'] = np.where((TD_encuestasHechas.FEGCafe > 0),1,np.nan)\n",
        "TD_encuestasHechas['FEGCondimentos'] = np.where((TD_encuestasHechas.FEGCondimentos > 0),1,np.nan)\n",
        "TD_encuestasHechas['FEGEdulcorantes'] = np.where((TD_encuestasHechas.FEGEdulcorantes > 0),1,np.nan)\n",
        "TD_encuestasHechas['FEGPSecas'] = np.where((TD_encuestasHechas.FEGPSecas > 0),1,np.nan)\n",
        "TD_encuestasHechas['FEGTe'] = np.where((TD_encuestasHechas.FEGTe > 0),1,np.nan)"
      ]
    },
    {
      "cell_type": "code",
      "execution_count": null,
      "metadata": {
        "id": "_3LN2NcyOQEo"
      },
      "outputs": [],
      "source": [
        "TD_encuestasHechas['Hechas'] = TD_encuestasHechas[['FEGCacao','FEGCafe','FEGCondimentos','FEGEdulcorantes','FEGPSecas','FEGTe']].sum(axis=1, skipna=True)\n",
        "TD_encuestasHechas['Total'] = 6\n",
        "TD_encuestasHechas['FEGCacao'] = np.where((TD_encuestasHechas.FEGCacao > 0),'Hecha',np.nan)\n",
        "TD_encuestasHechas['FEGCafe'] = np.where((TD_encuestasHechas.FEGCafe > 0),'Hecha',np.nan)\n",
        "TD_encuestasHechas['FEGCondimentos'] = np.where((TD_encuestasHechas.FEGCondimentos > 0),'Hecha',np.nan)\n",
        "TD_encuestasHechas['FEGEdulcorantes'] = np.where((TD_encuestasHechas.FEGEdulcorantes > 0),'Hecha',np.nan)\n",
        "TD_encuestasHechas['FEGPSecas'] = np.where((TD_encuestasHechas.FEGPSecas > 0),'Hecha',np.nan)\n",
        "TD_encuestasHechas['FEGTe'] = np.where((TD_encuestasHechas.FEGTe > 0),'Hecha',np.nan)\n",
        "TD_encuestasHechas['Fecha'] = fechaHoy"
      ]
    },
    {
      "cell_type": "markdown",
      "metadata": {
        "id": "gDRHYJ1t8Bx6"
      },
      "source": []
    },
    {
      "cell_type": "code",
      "execution_count": null,
      "metadata": {
        "id": "Je98XiqOPm6c"
      },
      "outputs": [],
      "source": [
        "TD_resulTomadas = encHechas.pivot_table(index=['Sucursal','Codigo','Cliente','Supervisor','CodVendedor','NombreVendedor'], columns=['TituloPregunta'], values='Pondera3', aggfunc=np.sum)\n",
        "TD_resulTomadas =  TD_resulTomadas.reset_index()\n",
        "TD_resulTomadas['NotaCafé'] = TD_resulTomadas[['CAFÉ-Bloque de marca Molido + Inst.+ Mixes+Caps.  ---- (Respuesta: 0, 50 o 100).','CAFÉ-Criterios de exhibición-Bloque Azul Molido+ Inst. ---- (Respuesta: 0, 50 o 100).',\n",
        "                                               'CAFÉ-Criterios de exhibición-Bloque Mixes e Instantáneo. ---- (Respuesta: 0, 50 o 100).','CAFÉ-Exhibiciones Secundarias-Punteras/ Islas/ Muebles. ---- (Respuesta: 0, 50 o 100).',\n",
        "                                               'CAFÉ-Exhibiciones Secundarias-Tiras impulsivas (Fuera de Góndola Primaria) ---- (Respuesta: 0, 50 o 100).','CAFÉ-Material POP-Uso material POP. ---- (Respuesta: 0, 50 o 100). Si Mun.Conflictivo = 100.']].sum(axis=1, skipna=True)\n",
        "TD_resulTomadas['NotaEdulcorante'] = TD_resulTomadas[['EDULCORANTES-Criterios de exhibición-Esquema/Bloque de Marca Líquido-Polvo---- (Respuesta: 0, 50 o 100).','EDULCORANTES-Criterios de exhibición-Tuy/Hileret---- (Respuesta: 0, 50 o 100). Si no está Hileret va 100',\n",
        "                                                      'EDULCORANTES-Material POP-Uso material POP---- (Respuesta: 0, 50 o 100). Si Mun.Conflictivo = 100.']].sum(axis=1, skipna=True)\n",
        "TD_resulTomadas['NotaCondEspecias'] = TD_resulTomadas[['ESPECIAS Y CONDIMENTOS-Criterios de exhibición-Planograma . En Mueble especiero o Bandejas exhibidoras (Respuesta: 0, 50 o 100). Sin mueble o bandeja Alicante (Respuesta: 0, 50)',\n",
        "                                                       'ESPECIAS Y CONDIMENTOS-Criterios de exhibición-Repostería en góndola primaria o Mueble Cross (99342). ---- (Respuesta: 0, 50 o 100).','ESPECIAS Y CONDIMENTOS-Exhibiciones secundarias-Tiras de exhibición cruzada. ---- (Respuesta: 0, 50 o 100).',\n",
        "                                                       'ESPECIAS Y CONDIMENTOS-Exhibidor limpio sin cajas ni productos de otras marcas. ---- (Respuesta: 0, 50 o 100).','ESPECIAS Y CONDIMENTOS-Material POP-Uso material POP en sublineas Caldos, Salsas,  Sopas,Cocina en Bolsa  ---- (Respuesta: 0, 50 o 100). Ubicar en Góndola primaria (no en especiero). Si Mun.Conflictivo = 100.']].sum(axis=1, skipna=True)\n",
        "TD_resulTomadas['NotaPastaSecas'] = TD_resulTomadas[['PASTAS SECAS-Criterios de exhibición- Exhibición mínima 60% vs. Competencia ---- (Respuesta: 0, 50 o 100).','PASTAS SECAS-Material POP-Uso material POP---- (Respuesta: 0, 50 o 100). Si Mun.Conflictivo = 100.']].sum(axis=1, skipna=True)\n",
        "TD_resulTomadas['NotaCacao'] = TD_resulTomadas[['POLVOS CHOCOLATADOS-Criterios de exhibición-Chocolino junto a Nesquik.---- (Respuesta: 0, 50 o 100).','POLVOS CHOCOLATADOS-Criterios de exhibición-Chocolino Mínimo 30% exhibición.---- (Respuesta: 0, 50 o 100).',\n",
        "                                                'POLVOS CHOCOLATADOS-Material POP-Uso material POP---- (Respuesta: 0, 50 o 100). Si Mun.Conflictivo = 100.']].sum(axis=1, skipna=True)\n",
        "TD_resulTomadas['NotaTé'] = TD_resulTomadas[['TÉ-Bloque de Marca Total Clvsa  ---- (Respuesta: 0, 50 o 100). ','TÉ-Bloque por segmentos Herboristería/Especiales/Saborizado/Común  ---- (Respuesta: 0, 50 o 100).',\n",
        "                                             'TÉ-Material POP-Uso material POP---- (Respuesta: 0, 50 o 100). Si Mun.Conflictivo = 100.']].sum(axis=1, skipna=True)\n",
        "TD_resulTomadas['TotalCafé'] = TD_resulTomadas['NotaCafé']/0.25\n",
        "TD_resulTomadas['TotalTé'] = TD_resulTomadas['NotaTé']/0.20\n",
        "TD_resulTomadas['TotalCacao'] = TD_resulTomadas['NotaCacao']/0.10\n",
        "TD_resulTomadas['TotalEdulcorante'] = TD_resulTomadas['NotaEdulcorante']/0.10\n",
        "TD_resulTomadas['TotalPastasSecas'] = TD_resulTomadas['NotaPastaSecas']/0.10\n",
        "TD_resulTomadas['TotalCondEspecias'] = TD_resulTomadas['NotaCondEspecias']/0.25\n",
        "TD_resulTomadas['NotaExhibición'] = TD_resulTomadas[['NotaCafé','NotaTé','NotaCacao','NotaEdulcorante','NotaPastaSecas','NotaCondEspecias']].sum(axis=1, skipna=True)\n",
        "TD_resulTomadas = TD_resulTomadas.drop(['CAFÉ-Exhibiciones Secundarias-Punteras/ Islas/ Muebles - Tomar foto si Rta. en pregunta anterior fue 50 o 100','CAFÉ-Exhibiciones Secundarias-Tiras impulsivas - Tomar foto si Rta. en pregunta anterior fue 50 o 100',\n",
        "                                        'CAFÉ-Tomar foto de Góndola primaria. Rta Obligatoria.','EDULCORANTES-Tomar foto de Góndola primaria. Rta Obligatoria.','ESPECIAS Y CONDIMENTOS-Criterios de exhibición-Repostería en góndola primaria o Mueble Cross (99342)-Tomar foto si Rta. en pregunta anterior fue 50 o 100.',\n",
        "                                        'ESPECIAS Y CONDIMENTOS-Exhibiciones secundarias-Tiras de exhibición cruzada-Tomar foto si Rta. en pregunta anterior fue 50 o 100.','ESPECIAS Y CONDIMENTOS-Material POP-Uso material POP en sublineas Caldos, Salsas, Sopas, Cocina en Bolsa-Tomar foto si Rta. en pregunta anterior fue 50 o 100.',\n",
        "                                        'ESPECIAS Y CONDIMENTOS-Tomar foto de Góndola primaria. Rta Obligatoria.','PASTAS SECAS-Tomar foto de Góndola primaria. Rta Obligatoria.','POLVOS CHOCOLATADOS-Tomar foto de Góndola primaria. Rta Obligatoria.',\n",
        "                                        'TÉ-Tomar foto de Góndola primaria. Rta Obligatoria.'], axis=1)\n",
        "TD_resulTomadas['Fecha'] = fechaHoy"
      ]
    },
    {
      "cell_type": "markdown",
      "metadata": {
        "id": "JW8CL3Nf8D8t"
      },
      "source": []
    },
    {
      "cell_type": "code",
      "execution_count": null,
      "metadata": {
        "id": "i3NNOEOoud70"
      },
      "outputs": [],
      "source": [
        "auxNota = TD_resulTomadas[['Codigo','NotaExhibición']]\n",
        "TD_encuestasHechas = pd.merge(TD_encuestasHechas, auxNota, on='Codigo', how='left')\n",
        "TD_encuestasHechas = pd.merge(TD_encuestasHechas, kg30_consol, on='Codigo', how='left')\n",
        "TD_encuestasHechas = pd.merge(TD_encuestasHechas, kg30_boca, on='Codigo', how='left')\n",
        "TD_encuestasHechas['Kg'] = np.where((TD_encuestasHechas.KgC > 0),TD_encuestasHechas.KgC,TD_encuestasHechas.KgB)\n",
        "TD_encuestasHechas = TD_encuestasHechas.drop(['KgC','KgB'], axis=1)\n",
        "\n",
        "TD_encuestasHechas = pd.merge(TD_encuestasHechas, kg30_consol_12M, on='Codigo', how='left')\n",
        "TD_encuestasHechas = pd.merge(TD_encuestasHechas, kg30_boca_12M, on='Codigo', how='left')\n",
        "TD_encuestasHechas['KgUltimo_12M'] = np.where((TD_encuestasHechas.KgC12M > 0),TD_encuestasHechas.KgC12M,TD_encuestasHechas.KgB12M)\n",
        "TD_encuestasHechas = TD_encuestasHechas.drop(['KgC12M','KgB12M'], axis=1)"
      ]
    },
    {
      "cell_type": "code",
      "execution_count": null,
      "metadata": {
        "id": "zJNx728X8RWW"
      },
      "outputs": [],
      "source": [
        "TD_encuestasHechas['Codigo'] = '0' + TD_encuestasHechas['Codigo'].astype(str)\n",
        "TD_resulTomadas['Codigo'] = '0' + TD_resulTomadas['Codigo'].astype(str)"
      ]
    },
    {
      "cell_type": "code",
      "execution_count": null,
      "metadata": {
        "id": "w4qQwZRftrYw"
      },
      "outputs": [],
      "source": [
        "TD_encuestasHechas = TD_encuestasHechas.replace({'nan':''})\n",
        "TD_resulTomadas = TD_resulTomadas.replace({'nan':''})"
      ]
    },
    {
      "cell_type": "code",
      "execution_count": null,
      "metadata": {
        "id": "dTXmjVak3lBG"
      },
      "outputs": [],
      "source": [
        "TD_encuestasHechas2 = TD_encuestasHechas\n",
        "TD_encuestasHechas2 = TD_encuestasHechas2.drop(['KgUltimo_12M'], axis=1)"
      ]
    },
    {
      "cell_type": "code",
      "execution_count": null,
      "metadata": {
        "id": "Ih5FqYLvXtfm"
      },
      "outputs": [],
      "source": [
        "TD_encuestasHechas2['Fecha'] = ''\n",
        "TD_encuestasHechas2 = TD_encuestasHechas2[['Fecha','Sucursal', 'Supervisor', 'Codigo', 'Cliente', 'NombreVendedor',\n",
        "       'CodVendedor', 'FEGCacao', 'FEGCafe', 'FEGCondimentos',\n",
        "       'FEGEdulcorantes', 'FEGPSecas', 'FEGTe', 'Hechas', 'Total','NotaExhibición', 'Kg']]"
      ]
    },
    {
      "cell_type": "code",
      "execution_count": null,
      "metadata": {
        "id": "zkYRkgPjYGCZ"
      },
      "outputs": [],
      "source": [
        "TD_resulTomadas['CÁPSULAS DG - Material POP-Uso material POP. ---- (Respuesta: 0, 50 o 100). Si Mun.Conflictivo = 100.'] = ''\n",
        "TD_resulTomadas['SumaControl'] = ''\n",
        "TD_resulTomadas['Fecha'] = ''\n",
        "TD_resulTomadas = TD_resulTomadas[['Fecha','Sucursal', 'Codigo', 'Cliente', 'Supervisor', 'CodVendedor','NombreVendedor','CAFÉ-Bloque de marca Molido + Inst.+ Mixes+Caps.  ---- (Respuesta: 0, 50 o 100).',\n",
        "       'CAFÉ-Criterios de exhibición-Bloque Azul Molido+ Inst. ---- (Respuesta: 0, 50 o 100).','CAFÉ-Criterios de exhibición-Bloque Mixes e Instantáneo. ---- (Respuesta: 0, 50 o 100).',\n",
        "       'CAFÉ-Material POP-Uso material POP. ---- (Respuesta: 0, 50 o 100). Si Mun.Conflictivo = 100.','CAFÉ-Exhibiciones Secundarias-Punteras/ Islas/ Muebles. ---- (Respuesta: 0, 50 o 100).',\n",
        "       'CAFÉ-Exhibiciones Secundarias-Tiras impulsivas (Fuera de Góndola Primaria) ---- (Respuesta: 0, 50 o 100).','CÁPSULAS DG - Material POP-Uso material POP. ---- (Respuesta: 0, 50 o 100). Si Mun.Conflictivo = 100.',\n",
        "       'EDULCORANTES-Criterios de exhibición-Esquema/Bloque de Marca Líquido-Polvo---- (Respuesta: 0, 50 o 100).','EDULCORANTES-Criterios de exhibición-Tuy/Hileret---- (Respuesta: 0, 50 o 100). Si no está Hileret va 100',\n",
        "       'EDULCORANTES-Material POP-Uso material POP---- (Respuesta: 0, 50 o 100). Si Mun.Conflictivo = 100.','ESPECIAS Y CONDIMENTOS-Criterios de exhibición-Planograma . En Mueble especiero o Bandejas exhibidoras (Respuesta: 0, 50 o 100). Sin mueble o bandeja Alicante (Respuesta: 0, 50)',\n",
        "       'ESPECIAS Y CONDIMENTOS-Exhibidor limpio sin cajas ni productos de otras marcas. ---- (Respuesta: 0, 50 o 100).','ESPECIAS Y CONDIMENTOS-Criterios de exhibición-Repostería en góndola primaria o Mueble Cross (99342). ---- (Respuesta: 0, 50 o 100).',\n",
        "       'ESPECIAS Y CONDIMENTOS-Material POP-Uso material POP en sublineas Caldos, Salsas,  Sopas,Cocina en Bolsa  ---- (Respuesta: 0, 50 o 100). Ubicar en Góndola primaria (no en especiero). Si Mun.Conflictivo = 100.',\n",
        "       'ESPECIAS Y CONDIMENTOS-Exhibiciones secundarias-Tiras de exhibición cruzada. ---- (Respuesta: 0, 50 o 100).','PASTAS SECAS-Criterios de exhibición- Exhibición mínima 60% vs. Competencia ---- (Respuesta: 0, 50 o 100).',\n",
        "       'PASTAS SECAS-Material POP-Uso material POP---- (Respuesta: 0, 50 o 100). Si Mun.Conflictivo = 100.','POLVOS CHOCOLATADOS-Criterios de exhibición-Chocolino junto a Nesquik.---- (Respuesta: 0, 50 o 100).',\n",
        "       'POLVOS CHOCOLATADOS-Criterios de exhibición-Chocolino Mínimo 30% exhibición.---- (Respuesta: 0, 50 o 100).','POLVOS CHOCOLATADOS-Material POP-Uso material POP---- (Respuesta: 0, 50 o 100). Si Mun.Conflictivo = 100.',\n",
        "       'TÉ-Bloque por segmentos Herboristería/Especiales/Saborizado/Común  ---- (Respuesta: 0, 50 o 100).','TÉ-Bloque de Marca Total Clvsa  ---- (Respuesta: 0, 50 o 100). ','TÉ-Material POP-Uso material POP---- (Respuesta: 0, 50 o 100). Si Mun.Conflictivo = 100.',\n",
        "       'NotaExhibición','NotaCafé','NotaTé','NotaCacao','NotaEdulcorante','NotaPastaSecas','NotaCondEspecias','SumaControl','TotalCafé', 'TotalTé', 'TotalCacao','TotalEdulcorante', 'TotalPastasSecas', 'TotalCondEspecias']]"
      ]
    },
    {
      "cell_type": "code",
      "execution_count": null,
      "metadata": {
        "id": "N3jidbV81o7G"
      },
      "outputs": [],
      "source": [
        "TD_encuestasHechas2.to_excel('TD_encuestasHechas_.xlsx', index=False)\n",
        "!cp TD_encuestasHechas_.xlsx \"/content/drive/Shareddrives/Trade Mktg/Trade/3 - FEG Venta/1 - Dashboard Mensual/FEG Mensual con Python\""
      ]
    },
    {
      "cell_type": "code",
      "execution_count": null,
      "metadata": {
        "id": "PaxDnE-9SFXq"
      },
      "outputs": [],
      "source": [
        "TD_resulTomadas.to_excel('TD_resulTomadas_.xlsx', index=False)\n",
        "!cp TD_resulTomadas_.xlsx \"/content/drive/Shareddrives/Trade Mktg/Trade/3 - FEG Venta/1 - Dashboard Mensual/FEG Mensual con Python\""
      ]
    },
    {
      "cell_type": "markdown",
      "metadata": {
        "id": "6FojBTKz7OS5"
      },
      "source": []
    },
    {
      "cell_type": "code",
      "execution_count": null,
      "metadata": {
        "id": "nYGE82Gj7OmW",
        "colab": {
          "base_uri": "https://localhost:8080/"
        },
        "outputId": "2d2dca1d-b041-4c1b-8916-fa7c10626565"
      },
      "outputs": [
        {
          "output_type": "stream",
          "name": "stderr",
          "text": [
            "<ipython-input-16-3ca282af6053>:2: SettingWithCopyWarning: \n",
            "A value is trying to be set on a copy of a slice from a DataFrame.\n",
            "Try using .loc[row_indexer,col_indexer] = value instead\n",
            "\n",
            "See the caveats in the documentation: https://pandas.pydata.org/pandas-docs/stable/user_guide/indexing.html#returning-a-view-versus-a-copy\n",
            "  controlFotos['Codigo'] = '0' + controlFotos['Codigo'].astype(str)\n",
            "<ipython-input-16-3ca282af6053>:3: SettingWithCopyWarning: \n",
            "A value is trying to be set on a copy of a slice from a DataFrame.\n",
            "Try using .loc[row_indexer,col_indexer] = value instead\n",
            "\n",
            "See the caveats in the documentation: https://pandas.pydata.org/pandas-docs/stable/user_guide/indexing.html#returning-a-view-versus-a-copy\n",
            "  controlFotos['Url'] = controlFotos['Url'].str[7:]\n"
          ]
        }
      ],
      "source": [
        "controlFotos = encHechas[['Sucursal','Codigo','Cliente','TipoEncuesta','TituloPregunta','Supervisor','NombreVendedor','Valor','Url','FechaRelvamiento']]\n",
        "controlFotos['Codigo'] = '0' + controlFotos['Codigo'].astype(str)\n",
        "controlFotos['Url'] = controlFotos['Url'].str[7:]"
      ]
    },
    {
      "cell_type": "code",
      "execution_count": null,
      "metadata": {
        "id": "wjBx07hf7X6t"
      },
      "outputs": [],
      "source": [
        "controlFotos.to_excel('controlFotos_.xlsx', index=False)\n",
        "!cp controlFotos_.xlsx \"/content/drive/Shareddrives/Trade Mktg/Trade/3 - FEG Venta/1 - Dashboard Mensual/FEG Mensual con Python\""
      ]
    },
    {
      "cell_type": "markdown",
      "metadata": {
        "id": "p4siRSqM8M0v"
      },
      "source": []
    },
    {
      "cell_type": "code",
      "execution_count": null,
      "metadata": {
        "id": "eiT5orvbDEAM",
        "colab": {
          "base_uri": "https://localhost:8080/"
        },
        "outputId": "01b17f47-e8a8-4029-f50f-643218ab3aa3"
      },
      "outputs": [
        {
          "output_type": "stream",
          "name": "stderr",
          "text": [
            "<ipython-input-18-5ce50dd68e1c>:2: SettingWithCopyWarning: \n",
            "A value is trying to be set on a copy of a slice from a DataFrame.\n",
            "Try using .loc[row_indexer,col_indexer] = value instead\n",
            "\n",
            "See the caveats in the documentation: https://pandas.pydata.org/pandas-docs/stable/user_guide/indexing.html#returning-a-view-versus-a-copy\n",
            "  baseAmarilla['Kg Carga'] = baseAmarilla[['CLIENTE A0','CLIENTE A1','CLIENTE A2']].sum(axis=1, skipna=True)*0.85\n",
            "<ipython-input-18-5ce50dd68e1c>:3: SettingWithCopyWarning: \n",
            "A value is trying to be set on a copy of a slice from a DataFrame.\n",
            "Try using .loc[row_indexer,col_indexer] = value instead\n",
            "\n",
            "See the caveats in the documentation: https://pandas.pydata.org/pandas-docs/stable/user_guide/indexing.html#returning-a-view-versus-a-copy\n",
            "  baseAmarilla['Fuente'] = 'SIC'\n",
            "<ipython-input-18-5ce50dd68e1c>:4: SettingWithCopyWarning: \n",
            "A value is trying to be set on a copy of a slice from a DataFrame.\n",
            "Try using .loc[row_indexer,col_indexer] = value instead\n",
            "\n",
            "See the caveats in the documentation: https://pandas.pydata.org/pandas-docs/stable/user_guide/indexing.html#returning-a-view-versus-a-copy\n",
            "  baseAmarilla['FechaRelvamiento'] = fechaHoy\n"
          ]
        }
      ],
      "source": [
        "baseAmarilla = kgSic[['Sucursal','Totales','CLIENTE A0','CLIENTE A1','CLIENTE A2']]\n",
        "baseAmarilla['Kg Carga'] = baseAmarilla[['CLIENTE A0','CLIENTE A1','CLIENTE A2']].sum(axis=1, skipna=True)*0.85\n",
        "baseAmarilla['Fuente'] = 'SIC'\n",
        "baseAmarilla['FechaRelvamiento'] = fechaHoy\n",
        "baseAmarilla = baseAmarilla.rename(columns={'Totales':'Kg ultimo mes'})\n",
        "baseAmarilla = baseAmarilla.drop(['CLIENTE A0','CLIENTE A1','CLIENTE A2'],axis=1)\n",
        "baseAmarilla = pd.merge(baseAmarilla, kgSic_12M, on='Sucursal')\n",
        "baseAmarilla = baseAmarilla[['Sucursal', 'Kg ultimo mes', 'Kg Carga', 'Fuente', 'FechaRelvamiento','Totales']]\n",
        "baseAmarilla = baseAmarilla.rename(columns={'Totales':'KgEquiv_12M'})"
      ]
    },
    {
      "cell_type": "code",
      "execution_count": null,
      "metadata": {
        "id": "Urj7kOYmFTzn"
      },
      "outputs": [],
      "source": [
        "baseAzul = TD_encuestasHechas\n",
        "baseAzul['NotaExhReco'] = np.where((baseAzul['NotaExhibición']<0.255),'De 0% a 25%',np.where((baseAzul['NotaExhibición']<0.505),'De 26% a 50%',np.where((baseAzul['NotaExhibición']<0.695),'De 51% a 69%',\n",
        "                                    np.where((baseAzul['NotaExhibición']>0.6949),'De 70% a 100%',np.nan))))\n",
        "baseAzul['Nota 70% o mas'] = np.where((baseAzul['NotaExhibición']>0.6949),'70% o más',np.nan)\n",
        "baseAzul['Fuente'] = 'EncuestasHechas'\n",
        "baseAzul['FechaRelvamiento'] = fechaHoy\n",
        "baseAzul = baseAzul.rename(columns={'Kg':'Kg ultimo mes'})"
      ]
    },
    {
      "cell_type": "code",
      "execution_count": null,
      "metadata": {
        "id": "F_pwlfzsvaz2"
      },
      "outputs": [],
      "source": [
        "TD_nota = baseAzul.pivot_table(index='CodVendedor', values='NotaExhibición', aggfunc=np.mean)\n",
        "TD_nota =  TD_nota.reset_index()\n",
        "TD_nota = TD_nota.rename(columns={'NotaExhibición':'Nota Vend-Suc'})"
      ]
    },
    {
      "cell_type": "code",
      "execution_count": null,
      "metadata": {
        "id": "Po-WHjpaKOXE"
      },
      "outputs": [],
      "source": [
        "baseVioleta = TD_resulTomadas\n",
        "auxHechas = TD_encuestasHechas[['Codigo','Hechas']]\n",
        "baseVioleta = pd.merge(baseVioleta, auxHechas, on='Codigo', how='left')\n",
        "TD_violeta = baseVioleta.pivot_table(index=['Sucursal','Supervisor','CodVendedor','NombreVendedor'], values=['TotalCafé','TotalEdulcorante','TotalCondEspecias','TotalPastasSecas','TotalCacao','TotalTé',\n",
        "                                                                                                    'Codigo','NotaExhibición','Hechas'], aggfunc={'TotalCafé':np.mean,'TotalEdulcorante':np.mean,\n",
        "                                                                                                                                                  'TotalCondEspecias':np.mean,'TotalPastasSecas':np.mean,\n",
        "                                                                                                                                                  'TotalCacao':np.mean,'TotalTé':np.mean,'Codigo':'count',\n",
        "                                                                                                                                                  'NotaExhibición':np.sum,'Hechas':np.sum})"
      ]
    },
    {
      "cell_type": "code",
      "execution_count": null,
      "metadata": {
        "id": "VXLyiTNoam1U"
      },
      "outputs": [],
      "source": [
        "objBoca = pd.merge(objBoca, kg30_consol, on='Codigo', how='left')\n",
        "objBoca = pd.merge(objBoca, kg30_boca, on='Codigo', how='left')\n",
        "objBoca['Kg'] = np.where((objBoca.KgC > 0),objBoca.KgC,objBoca.KgB)\n",
        "objBoca = objBoca.drop(['KgC','KgB'], axis=1)\n",
        "\n",
        "objBoca = pd.merge(objBoca, kg30_consol_12M, on='Codigo', how='left')\n",
        "objBoca = pd.merge(objBoca, kg30_boca_12M, on='Codigo', how='left')\n",
        "objBoca['Kg30Bocas_12M'] = np.where((objBoca.KgC12M > 0),objBoca.KgC12M,objBoca.KgB12M)\n",
        "objBoca = objBoca.drop(['KgC12M','KgB12M'], axis=1)"
      ]
    },
    {
      "cell_type": "code",
      "execution_count": null,
      "metadata": {
        "id": "npqARfYQ6UMY"
      },
      "outputs": [],
      "source": [
        "KgU12M = TD_encuestasHechas.pivot_table(index=['CodVendedor'], values='KgUltimo_12M', aggfunc=np.sum)\n",
        "KgSic12M = baseAmarilla[['Sucursal','KgEquiv_12M']]\n",
        "Kg30B12M = objBoca.pivot_table(index=['CodVendedor'], values='Kg30Bocas_12M', aggfunc=np.sum)\n",
        "Kg30B12M = pd.merge(Kg30B12M, usuario, on='CodVendedor', how='left')\n",
        "Kg30B12M = Kg30B12M[['CodVendedor','NombreVendedor','Kg30Bocas_12M']]\n",
        "Kg30B12M = pd.merge(Kg30B12M, objBoca, on='CodVendedor', how='left')\n",
        "Kg30B12M = Kg30B12M[['CodVendedor','NombreVendedor','Kg30Bocas_12M_x','Supervisor','Sucursal']]\n",
        "Kg30B12M = Kg30B12M.drop_duplicates()\n",
        "Kg30B12M = pd.merge(Kg30B12M, KgSic12M, on='Sucursal', how='left')\n",
        "Kg30B12M = pd.merge(Kg30B12M, KgU12M, on='CodVendedor', how='left')\n",
        "Kg30B12M = Kg30B12M[['Sucursal','Supervisor','NombreVendedor','KgEquiv_12M','Kg30Bocas_12M_x','KgUltimo_12M']]\n",
        "Kg30B12M = Kg30B12M.rename(columns={'KgEquiv_12M':'KgCLVSA_12M','Kg30Bocas_12M_x':'KgFEG_12M','KgUltimo_12M':'KgFegHecha_12M'})\n",
        "Kg30B12M = Kg30B12M.fillna(0)"
      ]
    },
    {
      "cell_type": "markdown",
      "metadata": {
        "id": "eIVm8bbSI1H3"
      },
      "source": [
        "## IMPORTANTE correr primero notebook EGC y despues este para crear total FEG correctamente"
      ]
    },
    {
      "cell_type": "code",
      "execution_count": null,
      "metadata": {
        "id": "oH4QOwPt_IMP"
      },
      "outputs": [],
      "source": [
        "fegRepo = pd.read_excel('/content/drive/Shareddrives/Trade Mktg/Trade/3 - FEG Venta/1 - Dashboard Mensual/FEG Mensual con Python/TotalFEG_Repo_.xlsx')\n",
        "totalFegRepo = fegRepo.pivot_table(index='Sucursal', values=['KgFEG_12M','KgFegHecha_12M'], aggfunc=np.sum)\n",
        "totalFegVta = Kg30B12M.pivot_table(index='Sucursal', values=['KgCLVSA_12M','KgFEG_12M','KgFegHecha_12M'], aggfunc={'KgCLVSA_12M':np.min,\n",
        "                                                                                                                   'KgFEG_12M':np.sum,\n",
        "                                                                                                                   'KgFegHecha_12M':np.sum})\n",
        "totalFegRepo =  totalFegRepo.reset_index()\n",
        "totalFegVta =  totalFegVta.reset_index()"
      ]
    },
    {
      "cell_type": "code",
      "execution_count": null,
      "metadata": {
        "id": "HJ3PtlE8GbZB"
      },
      "outputs": [],
      "source": [
        "totalFEG = pd.merge(totalFegVta, totalFegRepo, on='Sucursal', how='left')\n",
        "totalFEG = totalFEG.rename(columns={'KgFEG_12M_x':'KgFEG_Vta','KgFegHecha_12M_x':'KgFegHecha_Vta','KgFEG_12M_y':'KgFEG_Repo','KgFegHecha_12M_y':'KgFegHecha_Repo'})"
      ]
    },
    {
      "cell_type": "code",
      "execution_count": null,
      "metadata": {
        "id": "GkVAvDqqH-ZG"
      },
      "outputs": [],
      "source": [
        "totalFEG.to_excel('totalFEG_.xlsx', index=False)\n",
        "!cp totalFEG_.xlsx \"/content/drive/Shareddrives/Trade Mktg/Trade/3 - FEG Venta/1 - Dashboard Mensual/FEG Mensual con Python\""
      ]
    },
    {
      "cell_type": "code",
      "execution_count": null,
      "metadata": {
        "id": "iyDDLAXk6Vp1"
      },
      "outputs": [],
      "source": [
        "Kg30B12M.to_excel('TotalFEG_Vta_.xlsx', index=False)\n",
        "!cp TotalFEG_Vta_.xlsx \"/content/drive/Shareddrives/Trade Mktg/Trade/3 - FEG Venta/1 - Dashboard Mensual/FEG Mensual con Python\""
      ]
    },
    {
      "cell_type": "code",
      "execution_count": null,
      "metadata": {
        "id": "eXxaDiEPVhbv"
      },
      "outputs": [],
      "source": [
        "TD_objBocas = objBoca.pivot_table(index='CodVendedor', values=['Codigo','Kg','Kg30Bocas_12M'], aggfunc={'Codigo':'count','Kg':np.sum,'Kg30Bocas_12M':np.sum})\n",
        "TD_objBocas =  TD_objBocas.reset_index()\n",
        "TD_objBocas = TD_objBocas.rename(columns={'Codigo':'ObjBoca'})\n",
        "TD_objBocas['ObjEnc'] = TD_objBocas['ObjBoca']*6\n",
        "TD_violeta =  TD_violeta.reset_index()\n",
        "TD_violeta = pd.merge(TD_violeta, TD_nota, on='CodVendedor', how='left')\n",
        "TD_violeta = pd.merge(TD_violeta, TD_objBocas, on='CodVendedor', how='outer')\n",
        "TD_violeta['Fuente'] = 'StatusVendedores'\n",
        "TD_violeta = pd.merge(TD_violeta, nombreSac, on='CodVendedor', how='left')\n",
        "TD_violeta = pd.merge(TD_violeta, kgCartera, on='NombreSAC', how='left')\n",
        "TD_violeta = TD_violeta.drop('NombreSAC', axis=1)\n",
        "TD_violeta['FechaRelvamiento'] = fechaHoy"
      ]
    },
    {
      "cell_type": "code",
      "execution_count": null,
      "metadata": {
        "id": "Aks_bXDnjHEb"
      },
      "outputs": [],
      "source": [
        "auxVioleta = pd.merge(usuario, objBoca, on='CodVendedor', how='left')\n",
        "auxVioleta = auxVioleta[['CodVendedor','NombreVendedor','Sucursal','Supervisor']]\n",
        "auxVioleta = auxVioleta.drop_duplicates()\n",
        "TD_violeta = pd.merge(TD_violeta, auxVioleta, on='CodVendedor', how='left')\n",
        "TD_violeta = TD_violeta[['Sucursal_y', 'Supervisor_y','NombreVendedor_y','CodVendedor', 'Codigo', 'Hechas', 'NotaExhibición', 'TotalCacao', 'TotalCafé', 'TotalCondEspecias', 'TotalEdulcorante',\n",
        "                         'TotalPastasSecas', 'TotalTé', 'Nota Vend-Suc', 'ObjBoca', 'Kg', 'ObjEnc', 'Fuente', 'KgCartera', 'FechaRelvamiento','Kg30Bocas_12M']]"
      ]
    },
    {
      "cell_type": "code",
      "execution_count": null,
      "metadata": {
        "id": "KxhUHAG3g5r_"
      },
      "outputs": [],
      "source": [
        "TD_violeta = TD_violeta.rename(columns={'Sucursal_y':'Sucursal', 'Supervisor_y':'Supervisor','NombreVendedor_y':'NombreVendedor','Kg':'Kg 30 Boca Mes','Codigo':'BocasHechas','Hechas':'EncuestasHechas','NotaExhibición':'SumaNotas'})\n",
        "baseAzul = baseAzul.rename(columns={'Kg':'Kg ultimo mes'})\n",
        "TD_violeta['RatioFEG'] = TD_violeta['Kg 30 Boca Mes']/TD_violeta['KgCartera']\n",
        "baseAmarilla['FechaRelvamiento'] = pd.to_datetime(baseAmarilla.FechaRelvamiento, format='%Y/%m/%d')\n",
        "baseAzul['FechaRelvamiento'] = pd.to_datetime(baseAzul.FechaRelvamiento, format='%Y/%m/%d')\n",
        "TD_violeta['FechaRelvamiento'] = pd.to_datetime(TD_violeta.FechaRelvamiento, format='%Y/%m/%d')\n",
        "baseAmarilla['FechaRelvamiento'] = baseAmarilla.FechaRelvamiento.dt.strftime('%m/%d/%Y')\n",
        "baseAzul['FechaRelvamiento'] = baseAzul.FechaRelvamiento.dt.strftime('%m/%d/%Y')\n",
        "TD_violeta['FechaRelvamiento'] = TD_violeta.FechaRelvamiento.dt.strftime('%m/%d/%Y')\n",
        "TD_violeta['Status'] = 'FEG'"
      ]
    },
    {
      "cell_type": "code",
      "execution_count": null,
      "metadata": {
        "id": "SH8kUyEPnvoz"
      },
      "outputs": [],
      "source": [
        "TD_violeta[['TotalCafé','TotalTé','TotalCacao','TotalEdulcorante','TotalCondEspecias','TotalPastasSecas','EncuestasHechas','BocasHechas','SumaNotas','Nota Vend-Suc','KgCartera','RatioFEG']] = TD_violeta[['TotalCafé','TotalTé','TotalCacao','TotalEdulcorante','TotalCondEspecias','TotalPastasSecas','EncuestasHechas','BocasHechas','SumaNotas','Nota Vend-Suc','KgCartera','RatioFEG']].fillna(0)"
      ]
    },
    {
      "cell_type": "code",
      "execution_count": null,
      "metadata": {
        "id": "0wXplnl70gwx"
      },
      "outputs": [],
      "source": [
        "baseConsol = pd.concat([baseAmarilla,TD_violeta,baseAzul])\n",
        "baseConsol = baseConsol[['Fuente','FechaRelvamiento','Sucursal','Kg ultimo mes','Kg Carga','Supervisor','Codigo','Cliente','NombreVendedor','CodVendedor','FEGCacao','FEGCafe','FEGCondimentos',\n",
        "                         'FEGEdulcorantes','FEGPSecas','FEGTe','Hechas','Total','NotaExhibición','NotaExhReco','Nota 70% o mas','TotalCafé','TotalTé','TotalCacao','TotalEdulcorante',\n",
        "                         'TotalPastasSecas','TotalCondEspecias','ObjBoca','ObjEnc','EncuestasHechas','BocasHechas','SumaNotas','Nota Vend-Suc','Kg 30 Boca Mes','KgCartera','RatioFEG',\n",
        "                         'Status','KgEquiv_12M','KgUltimo_12M','Kg30Bocas_12M']]\n",
        "baseConsol = baseConsol.replace({'nan':''})\n",
        "baseConsol['FechaRelvamiento'] = ''"
      ]
    },
    {
      "cell_type": "code",
      "execution_count": null,
      "metadata": {
        "id": "ECBwiw85mud1"
      },
      "outputs": [],
      "source": [
        "baseConsol.to_excel('baseConsol_.xlsx', index=False)\n",
        "!cp baseConsol_.xlsx \"/content/drive/Shareddrives/Trade Mktg/Trade/3 - FEG Venta/1 - Dashboard Mensual/FEG Mensual con Python\""
      ]
    }
  ],
  "metadata": {
    "colab": {
      "provenance": [],
      "authorship_tag": "ABX9TyNYzuRuz6KcH3VoQHxRy4X7",
      "include_colab_link": true
    },
    "kernelspec": {
      "display_name": "Python 3",
      "name": "python3"
    },
    "language_info": {
      "name": "python"
    }
  },
  "nbformat": 4,
  "nbformat_minor": 0
}