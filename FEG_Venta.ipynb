{
  "nbformat": 4,
  "nbformat_minor": 0,
  "metadata": {
    "colab": {
      "provenance": [],
      "authorship_tag": "ABX9TyM537uDnuYq86RdDGPxLvyI",
      "include_colab_link": true
    },
    "kernelspec": {
      "name": "python3",
      "display_name": "Python 3"
    },
    "language_info": {
      "name": "python"
    }
  },
  "cells": [
    {
      "cell_type": "markdown",
      "metadata": {
        "id": "view-in-github",
        "colab_type": "text"
      },
      "source": [
        "<a href=\"https://colab.research.google.com/github/MilciadesGonzalez/TradeLaVirginia/blob/main/FEG_Venta.ipynb\" target=\"_parent\"><img src=\"https://colab.research.google.com/assets/colab-badge.svg\" alt=\"Open In Colab\"/></a>"
      ]
    },
    {
      "cell_type": "code",
      "execution_count": 67,
      "metadata": {
        "id": "EqMmb84iBZed",
        "colab": {
          "base_uri": "https://localhost:8080/"
        },
        "outputId": "9680581a-bfcb-440d-f259-dff21c33755b"
      },
      "outputs": [
        {
          "output_type": "stream",
          "name": "stdout",
          "text": [
            "Drive already mounted at /content/drive; to attempt to forcibly remount, call drive.mount(\"/content/drive\", force_remount=True).\n"
          ]
        }
      ],
      "source": [
        "import pandas as pd\n",
        "import numpy as np\n",
        "import datetime\n",
        "import calendar\n",
        "from google.colab import drive\n",
        "drive.mount('/content/drive')"
      ]
    },
    {
      "cell_type": "code",
      "source": [
        "crudo = pd.read_excel('/content/drive/Shareddrives/Trade Mktg/Trade/3 - FEG Venta/1 - Dashboard Mensual/FEG Mensual con Python/1 - Crudo/DescargaEncuestasFEG.xlsx')\n",
        "kg30_consol = pd.read_excel('/content/drive/Shareddrives/Trade Mktg/Trade/3 - FEG Venta/1 - Dashboard Mensual/FEG Mensual con Python/1.5 - Kgs/Kg 30 bocas.xlsx', sheet_name='Hoja1')\n",
        "kg30_boca = pd.read_excel('/content/drive/Shareddrives/Trade Mktg/Trade/3 - FEG Venta/1 - Dashboard Mensual/FEG Mensual con Python/1.5 - Kgs/Kg 30 bocas.xlsx', sheet_name='Kg 30 bocas')\n",
        "kg30_consol_12M = pd.read_excel('/content/drive/Shareddrives/Trade Mktg/Trade/3 - FEG Venta/1 - Dashboard Mensual/FEG Mensual con Python/1.5 - Kgs/Kg 30 bocas_12-Meses.xlsx', sheet_name='Hoja1')\n",
        "kg30_boca_12M = pd.read_excel('/content/drive/Shareddrives/Trade Mktg/Trade/3 - FEG Venta/1 - Dashboard Mensual/FEG Mensual con Python/1.5 - Kgs/Kg 30 bocas_12-Meses.xlsx', sheet_name='Kg 30 bocas_12-Meses')\n",
        "kgCartera = pd.read_excel('/content/drive/Shareddrives/Trade Mktg/Trade/3 - FEG Venta/1 - Dashboard Mensual/FEG Mensual con Python/1.5 - Kgs/Kg Cartera.xlsx')\n",
        "kgSic = pd.read_excel('/content/drive/Shareddrives/Trade Mktg/Trade/3 - FEG Venta/1 - Dashboard Mensual/FEG Mensual con Python/1.5 - Kgs/Kg Sic.xlsx')\n",
        "kgSic_12M = pd.read_excel('/content/drive/Shareddrives/Trade Mktg/Trade/3 - FEG Venta/1 - Dashboard Mensual/FEG Mensual con Python/1.5 - Kgs/Kg Sic_12-Meses.xlsx')\n",
        "kgCarga_12M = pd.read_excel('/content/drive/Shareddrives/Trade Mktg/Trade/3 - FEG Venta/1 - Dashboard Mensual/FEG Mensual con Python/1.5 - Kgs/Kg_Carga-12M.xlsx')\n",
        "pondera = pd.read_excel('/content/drive/Shareddrives/Trade Mktg/Trade/3 - FEG Venta/1 - Dashboard Mensual/FEG Mensual con Python/1.5 - Kgs/DatosExternos.xlsx', sheet_name='Pondera')\n",
        "usuario = pd.read_excel('/content/drive/Shareddrives/Trade Mktg/Trade/3 - FEG Venta/1 - Dashboard Mensual/FEG Mensual con Python/1.5 - Kgs/DatosExternos.xlsx', sheet_name='Usuarios')\n",
        "nombreSac = pd.read_excel('/content/drive/Shareddrives/Trade Mktg/Trade/3 - FEG Venta/1 - Dashboard Mensual/FEG Mensual con Python/1.5 - Kgs/DatosExternos.xlsx', sheet_name='ControlNombreSac')\n",
        "objBoca = pd.read_excel('/content/drive/Shareddrives/Trade Mktg/Trade/3 - FEG Venta/1 - Dashboard Mensual/FEG Mensual con Python/1.5 - Kgs/DatosExternos.xlsx', sheet_name='ObjetivosBoca')\n"
      ],
      "metadata": {
        "id": "rZZjuSy9DMwu"
      },
      "execution_count": 68,
      "outputs": []
    },
    {
      "cell_type": "markdown",
      "source": [],
      "metadata": {
        "id": "NCYOebnp7-bt"
      }
    },
    {
      "cell_type": "code",
      "source": [
        "encHechas = pd.merge(crudo, usuario, on='RealizadaPor', how='left')\n",
        "encHechas = pd.merge(encHechas, pondera, on='TituloPregunta', how='left')\n",
        "encHechas['Pondera3'] = (encHechas['Valor']/100)*encHechas['Pondera2']\n",
        "encHechas['FechaRelvamiento'] = encHechas['FechaRelvamiento'].astype(str)"
      ],
      "metadata": {
        "id": "LZJpglR9MMOT"
      },
      "execution_count": 69,
      "outputs": []
    },
    {
      "cell_type": "code",
      "source": [
        "# date = datetime.datetime.now()\n",
        "# year_month = date.strftime('%d/%m/%Y')"
      ],
      "metadata": {
        "id": "_EyJA3BIPTXI"
      },
      "execution_count": 70,
      "outputs": []
    },
    {
      "cell_type": "code",
      "source": [
        "hoy=datetime.datetime.now()\n",
        "fechaHoy=\"%s/%s/2\" % (hoy.year, hoy.month)"
      ],
      "metadata": {
        "id": "kwElLNIcoudS"
      },
      "execution_count": 71,
      "outputs": []
    },
    {
      "cell_type": "code",
      "source": [
        "TD_encuestasHechas = encHechas.pivot_table(index=['Sucursal','Supervisor','Codigo','Cliente','NombreVendedor','CodVendedor','RealizadaPor'], columns=['TipoEncuesta'], values='Valor', aggfunc=np.mean)\n",
        "TD_encuestasHechas =  TD_encuestasHechas.reset_index()\n",
        "TD_encuestasHechas['FEGCacao'] = np.where((TD_encuestasHechas.FEGCacao > 0),1,np.nan)\n",
        "TD_encuestasHechas['FEGCafe'] = np.where((TD_encuestasHechas.FEGCafe > 0),1,np.nan)\n",
        "TD_encuestasHechas['FEGCondimentos'] = np.where((TD_encuestasHechas.FEGCondimentos > 0),1,np.nan)\n",
        "TD_encuestasHechas['FEGEdulcorantes'] = np.where((TD_encuestasHechas.FEGEdulcorantes > 0),1,np.nan)\n",
        "TD_encuestasHechas['FEGPSecas'] = np.where((TD_encuestasHechas.FEGPSecas > 0),1,np.nan)\n",
        "TD_encuestasHechas['FEGTe'] = np.where((TD_encuestasHechas.FEGTe > 0),1,np.nan)"
      ],
      "metadata": {
        "id": "uG3RZsshMKYc"
      },
      "execution_count": 72,
      "outputs": []
    },
    {
      "cell_type": "code",
      "source": [
        "TD_encuestasHechas['Hechas'] = TD_encuestasHechas[['FEGCacao','FEGCafe','FEGCondimentos','FEGEdulcorantes','FEGPSecas','FEGTe']].sum(axis=1, skipna=True)\n",
        "TD_encuestasHechas['Total'] = 6\n",
        "TD_encuestasHechas['FEGCacao'] = np.where((TD_encuestasHechas.FEGCacao > 0),'Hecha',np.nan)\n",
        "TD_encuestasHechas['FEGCafe'] = np.where((TD_encuestasHechas.FEGCafe > 0),'Hecha',np.nan)\n",
        "TD_encuestasHechas['FEGCondimentos'] = np.where((TD_encuestasHechas.FEGCondimentos > 0),'Hecha',np.nan)\n",
        "TD_encuestasHechas['FEGEdulcorantes'] = np.where((TD_encuestasHechas.FEGEdulcorantes > 0),'Hecha',np.nan)\n",
        "TD_encuestasHechas['FEGPSecas'] = np.where((TD_encuestasHechas.FEGPSecas > 0),'Hecha',np.nan)\n",
        "TD_encuestasHechas['FEGTe'] = np.where((TD_encuestasHechas.FEGTe > 0),'Hecha',np.nan)\n",
        "TD_encuestasHechas['Fecha'] = fechaHoy"
      ],
      "metadata": {
        "id": "_3LN2NcyOQEo"
      },
      "execution_count": 73,
      "outputs": []
    },
    {
      "cell_type": "markdown",
      "source": [],
      "metadata": {
        "id": "gDRHYJ1t8Bx6"
      }
    },
    {
      "cell_type": "code",
      "source": [
        "TD_resulTomadas = encHechas.pivot_table(index=['Sucursal','Codigo','Cliente','Supervisor','CodVendedor','NombreVendedor'], columns=['TituloPregunta'], values='Pondera3', aggfunc=np.sum)\n",
        "TD_resulTomadas =  TD_resulTomadas.reset_index()\n",
        "TD_resulTomadas['NotaCafé'] = TD_resulTomadas[['CAFÉ-Bloque de marca Molido + Inst.+ Mixes+Caps.  ---- (Respuesta: 0, 50 o 100).','CAFÉ-Criterios de exhibición-Bloque Azul Molido+ Inst. ---- (Respuesta: 0, 50 o 100).',\n",
        "                                               'CAFÉ-Criterios de exhibición-Bloque Mixes e Instantáneo. ---- (Respuesta: 0, 50 o 100).','CAFÉ-Exhibiciones Secundarias-Punteras/ Islas/ Muebles. ---- (Respuesta: 0, 50 o 100).',\n",
        "                                               'CAFÉ-Exhibiciones Secundarias-Tiras impulsivas (Fuera de Góndola Primaria) ---- (Respuesta: 0, 50 o 100).','CAFÉ-Material POP-Uso material POP. ---- (Respuesta: 0, 50 o 100). Si Mun.Conflictivo = 100.']].sum(axis=1, skipna=True)\n",
        "TD_resulTomadas['NotaEdulcorante'] = TD_resulTomadas[['EDULCORANTES-Criterios de exhibición-Esquema/Bloque de Marca Líquido-Polvo---- (Respuesta: 0, 50 o 100).','EDULCORANTES-Criterios de exhibición-Tuy/Hileret---- (Respuesta: 0, 50 o 100). Si no está Hileret va 100',\n",
        "                                                      'EDULCORANTES-Material POP-Uso material POP---- (Respuesta: 0, 50 o 100). Si Mun.Conflictivo = 100.']].sum(axis=1, skipna=True)\n",
        "TD_resulTomadas['NotaCondEspecias'] = TD_resulTomadas[['ESPECIAS Y CONDIMENTOS-Criterios de exhibición-Planograma . En Mueble especiero o Bandejas exhibidoras (Respuesta: 0, 50 o 100). Sin mueble o bandeja Alicante (Respuesta: 0, 50)',\n",
        "                                                       'ESPECIAS Y CONDIMENTOS-Criterios de exhibición-Repostería en góndola primaria o Mueble Cross (99342). ---- (Respuesta: 0, 50 o 100).','ESPECIAS Y CONDIMENTOS-Exhibiciones secundarias-Tiras de exhibición cruzada. ---- (Respuesta: 0, 50 o 100).',\n",
        "                                                       'ESPECIAS Y CONDIMENTOS-Exhibidor limpio sin cajas ni productos de otras marcas. ---- (Respuesta: 0, 50 o 100).','ESPECIAS Y CONDIMENTOS-Material POP-Uso material POP en sublineas Caldos, Salsas,  Sopas,Cocina en Bolsa  ---- (Respuesta: 0, 50 o 100). Ubicar en Góndola primaria (no en especiero). Si Mun.Conflictivo = 100.']].sum(axis=1, skipna=True)\n",
        "TD_resulTomadas['NotaPastaSecas'] = TD_resulTomadas[['PASTAS SECAS-Criterios de exhibición- Exhibición mínima 60% vs. Competencia ---- (Respuesta: 0, 50 o 100).','PASTAS SECAS-Material POP-Uso material POP---- (Respuesta: 0, 50 o 100). Si Mun.Conflictivo = 100.']].sum(axis=1, skipna=True)\n",
        "TD_resulTomadas['NotaCacao'] = TD_resulTomadas[['POLVOS CHOCOLATADOS-Criterios de exhibición-Chocolino junto a Nesquik.---- (Respuesta: 0, 50 o 100).','POLVOS CHOCOLATADOS-Criterios de exhibición-Chocolino Mínimo 30% exhibición.---- (Respuesta: 0, 50 o 100).',\n",
        "                                                'POLVOS CHOCOLATADOS-Material POP-Uso material POP---- (Respuesta: 0, 50 o 100). Si Mun.Conflictivo = 100.']].sum(axis=1, skipna=True)\n",
        "TD_resulTomadas['NotaTé'] = TD_resulTomadas[['TÉ-Bloque de Marca Total Clvsa  ---- (Respuesta: 0, 50 o 100). ','TÉ-Bloque por segmentos Herboristería/Especiales/Saborizado/Común  ---- (Respuesta: 0, 50 o 100).',\n",
        "                                             'TÉ-Material POP-Uso material POP---- (Respuesta: 0, 50 o 100). Si Mun.Conflictivo = 100.']].sum(axis=1, skipna=True)\n",
        "TD_resulTomadas['TotalCafé'] = TD_resulTomadas['NotaCafé']/0.25\n",
        "TD_resulTomadas['TotalTé'] = TD_resulTomadas['NotaTé']/0.20\n",
        "TD_resulTomadas['TotalCacao'] = TD_resulTomadas['NotaCacao']/0.10\n",
        "TD_resulTomadas['TotalEdulcorante'] = TD_resulTomadas['NotaEdulcorante']/0.10\n",
        "TD_resulTomadas['TotalPastasSecas'] = TD_resulTomadas['NotaPastaSecas']/0.10\n",
        "TD_resulTomadas['TotalCondEspecias'] = TD_resulTomadas['NotaCondEspecias']/0.25\n",
        "TD_resulTomadas['NotaExhibición'] = TD_resulTomadas[['NotaCafé','NotaTé','NotaCacao','NotaEdulcorante','NotaPastaSecas','NotaCondEspecias']].sum(axis=1, skipna=True)\n",
        "TD_resulTomadas = TD_resulTomadas.drop(['CAFÉ-Exhibiciones Secundarias-Punteras/ Islas/ Muebles - Tomar foto si Rta. en pregunta anterior fue 50 o 100','CAFÉ-Exhibiciones Secundarias-Tiras impulsivas - Tomar foto si Rta. en pregunta anterior fue 50 o 100',\n",
        "                                        'CAFÉ-Tomar foto de Góndola primaria. Rta Obligatoria.','EDULCORANTES-Tomar foto de Góndola primaria. Rta Obligatoria.','ESPECIAS Y CONDIMENTOS-Criterios de exhibición-Repostería en góndola primaria o Mueble Cross (99342)-Tomar foto si Rta. en pregunta anterior fue 50 o 100.',\n",
        "                                        'ESPECIAS Y CONDIMENTOS-Exhibiciones secundarias-Tiras de exhibición cruzada-Tomar foto si Rta. en pregunta anterior fue 50 o 100.','ESPECIAS Y CONDIMENTOS-Material POP-Uso material POP en sublineas Caldos, Salsas, Sopas, Cocina en Bolsa-Tomar foto si Rta. en pregunta anterior fue 50 o 100.',\n",
        "                                        'ESPECIAS Y CONDIMENTOS-Tomar foto de Góndola primaria. Rta Obligatoria.','PASTAS SECAS-Tomar foto de Góndola primaria. Rta Obligatoria.','POLVOS CHOCOLATADOS-Tomar foto de Góndola primaria. Rta Obligatoria.',\n",
        "                                        'TÉ-Tomar foto de Góndola primaria. Rta Obligatoria.'], axis=1)\n",
        "TD_resulTomadas['Fecha'] = fechaHoy"
      ],
      "metadata": {
        "id": "Je98XiqOPm6c"
      },
      "execution_count": 74,
      "outputs": []
    },
    {
      "cell_type": "markdown",
      "source": [],
      "metadata": {
        "id": "JW8CL3Nf8D8t"
      }
    },
    {
      "cell_type": "code",
      "source": [
        "auxNota = TD_resulTomadas[['Codigo','NotaExhibición']]\n",
        "TD_encuestasHechas = pd.merge(TD_encuestasHechas, auxNota, on='Codigo', how='left')\n",
        "TD_encuestasHechas = pd.merge(TD_encuestasHechas, kg30_consol, on='Codigo', how='left')\n",
        "TD_encuestasHechas = pd.merge(TD_encuestasHechas, kg30_boca, on='Codigo', how='left')\n",
        "TD_encuestasHechas['Kg'] = np.where((TD_encuestasHechas.KgC > 0),TD_encuestasHechas.KgC,TD_encuestasHechas.KgB)\n",
        "TD_encuestasHechas = TD_encuestasHechas.drop(['KgC','KgB'], axis=1)\n",
        "\n",
        "TD_encuestasHechas = pd.merge(TD_encuestasHechas, kg30_consol_12M, on='Codigo', how='left')\n",
        "TD_encuestasHechas = pd.merge(TD_encuestasHechas, kg30_boca_12M, on='Codigo', how='left')\n",
        "TD_encuestasHechas['KgUltimo_12M'] = np.where((TD_encuestasHechas.KgC12M > 0),TD_encuestasHechas.KgC12M,TD_encuestasHechas.KgB12M)\n",
        "TD_encuestasHechas = TD_encuestasHechas.drop(['KgC12M','KgB12M'], axis=1)"
      ],
      "metadata": {
        "id": "i3NNOEOoud70"
      },
      "execution_count": 75,
      "outputs": []
    },
    {
      "cell_type": "code",
      "source": [
        "TD_encuestasHechas['Codigo'] = '0' + TD_encuestasHechas['Codigo'].astype(str)\n",
        "TD_resulTomadas['Codigo'] = '0' + TD_resulTomadas['Codigo'].astype(str)"
      ],
      "metadata": {
        "id": "zJNx728X8RWW"
      },
      "execution_count": 76,
      "outputs": []
    },
    {
      "cell_type": "code",
      "source": [
        "TD_encuestasHechas = TD_encuestasHechas.replace({'nan':''})\n",
        "TD_resulTomadas = TD_resulTomadas.replace({'nan':''})"
      ],
      "metadata": {
        "id": "w4qQwZRftrYw"
      },
      "execution_count": 77,
      "outputs": []
    },
    {
      "cell_type": "code",
      "source": [
        "TD_encuestasHechas2 = TD_encuestasHechas\n",
        "TD_encuestasHechas2 = TD_encuestasHechas2.drop(['KgUltimo_12M'], axis=1)"
      ],
      "metadata": {
        "id": "dTXmjVak3lBG"
      },
      "execution_count": 78,
      "outputs": []
    },
    {
      "cell_type": "code",
      "source": [
        "TD_encuestasHechas2['Fecha'] = ''\n",
        "TD_encuestasHechas2 = TD_encuestasHechas2[['Fecha','Sucursal', 'Supervisor', 'Codigo', 'Cliente', 'NombreVendedor',\n",
        "       'CodVendedor', 'RealizadaPor', 'FEGCacao', 'FEGCafe', 'FEGCondimentos',\n",
        "       'FEGEdulcorantes', 'FEGPSecas', 'FEGTe', 'Hechas', 'Total','NotaExhibición', 'Kg']]"
      ],
      "metadata": {
        "id": "Ih5FqYLvXtfm"
      },
      "execution_count": 79,
      "outputs": []
    },
    {
      "cell_type": "code",
      "source": [
        "TD_resulTomadas['CÁPSULAS DG - Material POP-Uso material POP. ---- (Respuesta: 0, 50 o 100). Si Mun.Conflictivo = 100.'] = ''\n",
        "TD_resulTomadas['SumaControl'] = ''\n",
        "TD_resulTomadas['Fecha'] = ''\n",
        "TD_resulTomadas = TD_resulTomadas[['Fecha','Sucursal', 'Codigo', 'Cliente', 'Supervisor', 'CodVendedor','NombreVendedor','CAFÉ-Bloque de marca Molido + Inst.+ Mixes+Caps.  ---- (Respuesta: 0, 50 o 100).',\n",
        "       'CAFÉ-Criterios de exhibición-Bloque Azul Molido+ Inst. ---- (Respuesta: 0, 50 o 100).','CAFÉ-Criterios de exhibición-Bloque Mixes e Instantáneo. ---- (Respuesta: 0, 50 o 100).',\n",
        "       'CAFÉ-Material POP-Uso material POP. ---- (Respuesta: 0, 50 o 100). Si Mun.Conflictivo = 100.','CAFÉ-Exhibiciones Secundarias-Punteras/ Islas/ Muebles. ---- (Respuesta: 0, 50 o 100).',\n",
        "       'CAFÉ-Exhibiciones Secundarias-Tiras impulsivas (Fuera de Góndola Primaria) ---- (Respuesta: 0, 50 o 100).','CÁPSULAS DG - Material POP-Uso material POP. ---- (Respuesta: 0, 50 o 100). Si Mun.Conflictivo = 100.',\n",
        "       'EDULCORANTES-Criterios de exhibición-Esquema/Bloque de Marca Líquido-Polvo---- (Respuesta: 0, 50 o 100).','EDULCORANTES-Criterios de exhibición-Tuy/Hileret---- (Respuesta: 0, 50 o 100). Si no está Hileret va 100',\n",
        "       'EDULCORANTES-Material POP-Uso material POP---- (Respuesta: 0, 50 o 100). Si Mun.Conflictivo = 100.','ESPECIAS Y CONDIMENTOS-Criterios de exhibición-Planograma . En Mueble especiero o Bandejas exhibidoras (Respuesta: 0, 50 o 100). Sin mueble o bandeja Alicante (Respuesta: 0, 50)',\n",
        "       'ESPECIAS Y CONDIMENTOS-Exhibidor limpio sin cajas ni productos de otras marcas. ---- (Respuesta: 0, 50 o 100).','ESPECIAS Y CONDIMENTOS-Criterios de exhibición-Repostería en góndola primaria o Mueble Cross (99342). ---- (Respuesta: 0, 50 o 100).',\n",
        "       'ESPECIAS Y CONDIMENTOS-Material POP-Uso material POP en sublineas Caldos, Salsas,  Sopas,Cocina en Bolsa  ---- (Respuesta: 0, 50 o 100). Ubicar en Góndola primaria (no en especiero). Si Mun.Conflictivo = 100.',\n",
        "       'ESPECIAS Y CONDIMENTOS-Exhibiciones secundarias-Tiras de exhibición cruzada. ---- (Respuesta: 0, 50 o 100).','PASTAS SECAS-Criterios de exhibición- Exhibición mínima 60% vs. Competencia ---- (Respuesta: 0, 50 o 100).',\n",
        "       'PASTAS SECAS-Material POP-Uso material POP---- (Respuesta: 0, 50 o 100). Si Mun.Conflictivo = 100.','POLVOS CHOCOLATADOS-Criterios de exhibición-Chocolino junto a Nesquik.---- (Respuesta: 0, 50 o 100).',\n",
        "       'POLVOS CHOCOLATADOS-Criterios de exhibición-Chocolino Mínimo 30% exhibición.---- (Respuesta: 0, 50 o 100).','POLVOS CHOCOLATADOS-Material POP-Uso material POP---- (Respuesta: 0, 50 o 100). Si Mun.Conflictivo = 100.',\n",
        "       'TÉ-Bloque por segmentos Herboristería/Especiales/Saborizado/Común  ---- (Respuesta: 0, 50 o 100).','TÉ-Bloque de Marca Total Clvsa  ---- (Respuesta: 0, 50 o 100). ','TÉ-Material POP-Uso material POP---- (Respuesta: 0, 50 o 100). Si Mun.Conflictivo = 100.',\n",
        "       'NotaExhibición','NotaCafé','NotaTé','NotaCacao','NotaEdulcorante','NotaPastaSecas','NotaCondEspecias','SumaControl','TotalCafé', 'TotalTé', 'TotalCacao','TotalEdulcorante', 'TotalPastasSecas', 'TotalCondEspecias']]"
      ],
      "metadata": {
        "id": "zkYRkgPjYGCZ"
      },
      "execution_count": 80,
      "outputs": []
    },
    {
      "cell_type": "code",
      "source": [
        "TD_encuestasHechas2.to_excel('TD_encuestasHechas_.xlsx', index=False)\n",
        "!cp TD_encuestasHechas_.xlsx \"/content/drive/Shareddrives/Trade Mktg/Trade/3 - FEG Venta/1 - Dashboard Mensual/FEG Mensual con Python\""
      ],
      "metadata": {
        "id": "N3jidbV81o7G"
      },
      "execution_count": 81,
      "outputs": []
    },
    {
      "cell_type": "code",
      "source": [
        "TD_resulTomadas.to_excel('TD_resulTomadas_.xlsx', index=False)\n",
        "!cp TD_resulTomadas_.xlsx \"/content/drive/Shareddrives/Trade Mktg/Trade/3 - FEG Venta/1 - Dashboard Mensual/FEG Mensual con Python\""
      ],
      "metadata": {
        "id": "PaxDnE-9SFXq"
      },
      "execution_count": 82,
      "outputs": []
    },
    {
      "cell_type": "markdown",
      "source": [],
      "metadata": {
        "id": "6FojBTKz7OS5"
      }
    },
    {
      "cell_type": "code",
      "source": [
        "controlFotos = pd.merge(crudo, usuario, on='RealizadaPor', how='left')\n",
        "controlFotos = encHechas[['Sucursal','Codigo','Cliente','TipoEncuesta','TituloPregunta','Supervisor','NombreVendedor','Valor','Url','FechaRelvamiento']]\n",
        "controlFotos['Codigo'] = '0' + controlFotos['Codigo'].astype(str)"
      ],
      "metadata": {
        "id": "nYGE82Gj7OmW",
        "colab": {
          "base_uri": "https://localhost:8080/"
        },
        "outputId": "2301dce7-d253-4ac0-892f-6af261afd3e0"
      },
      "execution_count": 83,
      "outputs": [
        {
          "output_type": "stream",
          "name": "stderr",
          "text": [
            "<ipython-input-83-8766c3b0089a>:3: SettingWithCopyWarning: \n",
            "A value is trying to be set on a copy of a slice from a DataFrame.\n",
            "Try using .loc[row_indexer,col_indexer] = value instead\n",
            "\n",
            "See the caveats in the documentation: https://pandas.pydata.org/pandas-docs/stable/user_guide/indexing.html#returning-a-view-versus-a-copy\n",
            "  controlFotos['Codigo'] = '0' + controlFotos['Codigo'].astype(str)\n"
          ]
        }
      ]
    },
    {
      "cell_type": "code",
      "source": [
        "controlFotos.to_excel('controlFotos_.xlsx', index=False)\n",
        "!cp controlFotos_.xlsx \"/content/drive/Shareddrives/Trade Mktg/Trade/3 - FEG Venta/1 - Dashboard Mensual/FEG Mensual con Python\""
      ],
      "metadata": {
        "id": "wjBx07hf7X6t"
      },
      "execution_count": 84,
      "outputs": []
    },
    {
      "cell_type": "markdown",
      "source": [],
      "metadata": {
        "id": "p4siRSqM8M0v"
      }
    },
    {
      "cell_type": "code",
      "source": [
        "baseAmarilla = kgSic[['Sucursal','Totales','CLIENTE A0','CLIENTE A1','CLIENTE A2']]\n",
        "baseAmarilla['Kg Carga'] = baseAmarilla[['CLIENTE A0','CLIENTE A1','CLIENTE A2']].sum(axis=1, skipna=True)*0.85\n",
        "baseAmarilla['Fuente'] = 'SIC'\n",
        "baseAmarilla['FechaRelvamiento'] = fechaHoy\n",
        "baseAmarilla = baseAmarilla.rename(columns={'Totales':'Kg ultimo mes'})\n",
        "baseAmarilla = baseAmarilla.drop(['CLIENTE A0','CLIENTE A1','CLIENTE A2'],axis=1)\n",
        "baseAmarilla = pd.merge(baseAmarilla, kgSic_12M, on='Sucursal')\n",
        "baseAmarilla = baseAmarilla[['Sucursal', 'Kg ultimo mes', 'Kg Carga', 'Fuente', 'FechaRelvamiento','Totales']]\n",
        "baseAmarilla = baseAmarilla.rename(columns={'Totales':'KgEquiv_12M'})"
      ],
      "metadata": {
        "id": "eiT5orvbDEAM",
        "colab": {
          "base_uri": "https://localhost:8080/"
        },
        "outputId": "60d1c560-9178-4630-f818-a6203732d559"
      },
      "execution_count": 85,
      "outputs": [
        {
          "output_type": "stream",
          "name": "stderr",
          "text": [
            "<ipython-input-85-5ce50dd68e1c>:2: SettingWithCopyWarning: \n",
            "A value is trying to be set on a copy of a slice from a DataFrame.\n",
            "Try using .loc[row_indexer,col_indexer] = value instead\n",
            "\n",
            "See the caveats in the documentation: https://pandas.pydata.org/pandas-docs/stable/user_guide/indexing.html#returning-a-view-versus-a-copy\n",
            "  baseAmarilla['Kg Carga'] = baseAmarilla[['CLIENTE A0','CLIENTE A1','CLIENTE A2']].sum(axis=1, skipna=True)*0.85\n",
            "<ipython-input-85-5ce50dd68e1c>:3: SettingWithCopyWarning: \n",
            "A value is trying to be set on a copy of a slice from a DataFrame.\n",
            "Try using .loc[row_indexer,col_indexer] = value instead\n",
            "\n",
            "See the caveats in the documentation: https://pandas.pydata.org/pandas-docs/stable/user_guide/indexing.html#returning-a-view-versus-a-copy\n",
            "  baseAmarilla['Fuente'] = 'SIC'\n",
            "<ipython-input-85-5ce50dd68e1c>:4: SettingWithCopyWarning: \n",
            "A value is trying to be set on a copy of a slice from a DataFrame.\n",
            "Try using .loc[row_indexer,col_indexer] = value instead\n",
            "\n",
            "See the caveats in the documentation: https://pandas.pydata.org/pandas-docs/stable/user_guide/indexing.html#returning-a-view-versus-a-copy\n",
            "  baseAmarilla['FechaRelvamiento'] = fechaHoy\n"
          ]
        }
      ]
    },
    {
      "cell_type": "code",
      "source": [
        "baseAzul = TD_encuestasHechas\n",
        "baseAzul['NotaExhReco'] = np.where((baseAzul['NotaExhibición']<0.255),'De 0% a 25%',np.where((baseAzul['NotaExhibición']<0.505),'De 26% a 50%',np.where((baseAzul['NotaExhibición']<0.695),'De 51% a 69%',\n",
        "                                    np.where((baseAzul['NotaExhibición']>0.6949),'De 70% a 100%',np.nan))))\n",
        "baseAzul['Nota 70% o mas'] = np.where((baseAzul['NotaExhibición']>0.6949),'70% o más',np.nan)\n",
        "baseAzul['Fuente'] = 'EncuestasHechas'\n",
        "baseAzul['FechaRelvamiento'] = fechaHoy\n",
        "baseAzul = baseAzul.rename(columns={'Kg':'Kg ultimo mes'})"
      ],
      "metadata": {
        "id": "Urj7kOYmFTzn"
      },
      "execution_count": 86,
      "outputs": []
    },
    {
      "cell_type": "code",
      "source": [
        "TD_nota = baseAzul.pivot_table(index='CodVendedor', values='NotaExhibición', aggfunc=np.mean)\n",
        "TD_nota =  TD_nota.reset_index()\n",
        "TD_nota = TD_nota.rename(columns={'NotaExhibición':'Nota Vend-Suc'})"
      ],
      "metadata": {
        "id": "F_pwlfzsvaz2"
      },
      "execution_count": 87,
      "outputs": []
    },
    {
      "cell_type": "code",
      "source": [
        "baseVioleta = TD_resulTomadas\n",
        "auxHechas = TD_encuestasHechas[['Codigo','Hechas']]\n",
        "baseVioleta = pd.merge(baseVioleta, auxHechas, on='Codigo', how='left')\n",
        "TD_violeta = baseVioleta.pivot_table(index=['Sucursal','Supervisor','CodVendedor','NombreVendedor'], values=['TotalCafé','TotalEdulcorante','TotalCondEspecias','TotalPastasSecas','TotalCacao','TotalTé',\n",
        "                                                                                                    'Codigo','NotaExhibición','Hechas'], aggfunc={'TotalCafé':np.mean,'TotalEdulcorante':np.mean,\n",
        "                                                                                                                                                  'TotalCondEspecias':np.mean,'TotalPastasSecas':np.mean,\n",
        "                                                                                                                                                  'TotalCacao':np.mean,'TotalTé':np.mean,'Codigo':'count',\n",
        "                                                                                                                                                  'NotaExhibición':np.sum,'Hechas':np.sum})"
      ],
      "metadata": {
        "id": "Po-WHjpaKOXE"
      },
      "execution_count": 88,
      "outputs": []
    },
    {
      "cell_type": "code",
      "source": [
        "objBoca = pd.merge(objBoca, kg30_consol, on='Codigo', how='left')\n",
        "objBoca = pd.merge(objBoca, kg30_boca, on='Codigo', how='left')\n",
        "objBoca['Kg'] = np.where((objBoca.KgC > 0),objBoca.KgC,objBoca.KgB)\n",
        "objBoca = objBoca.drop(['KgC','KgB'], axis=1)\n",
        "\n",
        "objBoca = pd.merge(objBoca, kg30_consol_12M, on='Codigo', how='left')\n",
        "objBoca = pd.merge(objBoca, kg30_boca_12M, on='Codigo', how='left')\n",
        "objBoca['Kg30Bocas_12M'] = np.where((objBoca.KgC12M > 0),objBoca.KgC12M,objBoca.KgB12M)\n",
        "objBoca = objBoca.drop(['KgC12M','KgB12M'], axis=1)"
      ],
      "metadata": {
        "id": "VXLyiTNoam1U"
      },
      "execution_count": 89,
      "outputs": []
    },
    {
      "cell_type": "code",
      "source": [
        "KgU12M = TD_encuestasHechas.pivot_table(index=['CodVendedor'], values='KgUltimo_12M', aggfunc=np.sum)\n",
        "KgSic12M = baseAmarilla[['Sucursal','KgEquiv_12M']]\n",
        "Kg30B12M = objBoca.pivot_table(index=['CodVendedor'], values='Kg30Bocas_12M', aggfunc=np.sum)\n",
        "Kg30B12M = pd.merge(Kg30B12M, usuario, on='CodVendedor', how='left')\n",
        "Kg30B12M = Kg30B12M[['CodVendedor','NombreVendedor','Kg30Bocas_12M']]\n",
        "Kg30B12M = pd.merge(Kg30B12M, objBoca, on='CodVendedor', how='left')\n",
        "Kg30B12M = Kg30B12M[['CodVendedor','NombreVendedor','Kg30Bocas_12M_x','Supervisor','Sucursal']]\n",
        "Kg30B12M = Kg30B12M.drop_duplicates()\n",
        "Kg30B12M = pd.merge(Kg30B12M, KgSic12M, on='Sucursal', how='left')\n",
        "Kg30B12M = pd.merge(Kg30B12M, KgU12M, on='CodVendedor', how='left')\n",
        "Kg30B12M = Kg30B12M[['Sucursal','Supervisor','NombreVendedor','KgEquiv_12M','Kg30Bocas_12M_x','KgUltimo_12M']]\n",
        "Kg30B12M = Kg30B12M.rename(columns={'KgEquiv_12M':'KgCLVSA_12M','Kg30Bocas_12M_x':'KgFEG_12M','KgUltimo_12M':'KgFegHecha_12M'})\n",
        "Kg30B12M = Kg30B12M.fillna(0)"
      ],
      "metadata": {
        "id": "npqARfYQ6UMY"
      },
      "execution_count": 90,
      "outputs": []
    },
    {
      "cell_type": "markdown",
      "source": [
        "## IMPORTANTE correr primero notebook EGC y despues este para crear total FEG correctamente"
      ],
      "metadata": {
        "id": "eIVm8bbSI1H3"
      }
    },
    {
      "cell_type": "code",
      "source": [
        "fegRepo = pd.read_excel('/content/drive/Shareddrives/Trade Mktg/Trade/3 - FEG Venta/1 - Dashboard Mensual/FEG Mensual con Python/TotalFEG_Repo_.xlsx')\n",
        "totalFegRepo = fegRepo.pivot_table(index='Sucursal', values=['KgFEG_12M','KgFegHecha_12M'], aggfunc=np.sum)\n",
        "totalFegVta = Kg30B12M.pivot_table(index='Sucursal', values=['KgCLVSA_12M','KgFEG_12M','KgFegHecha_12M'], aggfunc={'KgCLVSA_12M':np.min,\n",
        "                                                                                                                   'KgFEG_12M':np.sum,\n",
        "                                                                                                                   'KgFegHecha_12M':np.sum})"
      ],
      "metadata": {
        "id": "oH4QOwPt_IMP"
      },
      "execution_count": 91,
      "outputs": []
    },
    {
      "cell_type": "code",
      "source": [
        "totalFEG = pd.merge(totalFegVta, totalFegRepo, on='Sucursal', how='left')\n",
        "totalFEG = totalFEG.rename(columns={'KgFEG_12M_x':'KgFEG_Vta','KgFegHecha_12M_x':'KgFegHecha_Vta','KgFEG_12M_y':'KgFEG_Repo','KgFegHecha_12M_y':'KgFegHecha_Repo'})"
      ],
      "metadata": {
        "id": "HJ3PtlE8GbZB"
      },
      "execution_count": 92,
      "outputs": []
    },
    {
      "cell_type": "code",
      "source": [
        "totalFEG.to_excel('totalFEG_.xlsx', index=False)\n",
        "!cp totalFEG_.xlsx \"/content/drive/Shareddrives/Trade Mktg/Trade/3 - FEG Venta/1 - Dashboard Mensual/FEG Mensual con Python\""
      ],
      "metadata": {
        "id": "GkVAvDqqH-ZG"
      },
      "execution_count": 93,
      "outputs": []
    },
    {
      "cell_type": "code",
      "source": [
        "Kg30B12M.to_excel('TotalFEG_Vta_.xlsx', index=False)\n",
        "!cp TotalFEG_Vta_.xlsx \"/content/drive/Shareddrives/Trade Mktg/Trade/3 - FEG Venta/1 - Dashboard Mensual/FEG Mensual con Python\""
      ],
      "metadata": {
        "id": "iyDDLAXk6Vp1"
      },
      "execution_count": 94,
      "outputs": []
    },
    {
      "cell_type": "code",
      "source": [
        "TD_objBocas = objBoca.pivot_table(index='CodVendedor', values=['Codigo','Kg','Kg30Bocas_12M'], aggfunc={'Codigo':'count','Kg':np.sum,'Kg30Bocas_12M':np.sum})\n",
        "TD_objBocas =  TD_objBocas.reset_index()\n",
        "TD_objBocas = TD_objBocas.rename(columns={'Codigo':'ObjBoca'})\n",
        "TD_objBocas['ObjEnc'] = TD_objBocas['ObjBoca']*6\n",
        "TD_violeta =  TD_violeta.reset_index()\n",
        "TD_violeta = pd.merge(TD_violeta, TD_nota, on='CodVendedor', how='left')\n",
        "TD_violeta = pd.merge(TD_violeta, TD_objBocas, on='CodVendedor', how='outer')\n",
        "TD_violeta['Fuente'] = 'StatusVendedores'\n",
        "TD_violeta = pd.merge(TD_violeta, nombreSac, on='CodVendedor', how='left')\n",
        "TD_violeta = pd.merge(TD_violeta, kgCartera, on='NombreSAC', how='left')\n",
        "TD_violeta = TD_violeta.drop('NombreSAC', axis=1)\n",
        "TD_violeta['FechaRelvamiento'] = fechaHoy"
      ],
      "metadata": {
        "id": "eXxaDiEPVhbv"
      },
      "execution_count": 95,
      "outputs": []
    },
    {
      "cell_type": "code",
      "source": [
        "auxVioleta = pd.merge(usuario, objBoca, on='CodVendedor', how='left')\n",
        "auxVioleta = auxVioleta[['CodVendedor','NombreVendedor','Sucursal','Supervisor']]\n",
        "auxVioleta = auxVioleta.drop_duplicates()\n",
        "TD_violeta = pd.merge(TD_violeta, auxVioleta, on='CodVendedor', how='left')\n",
        "TD_violeta = TD_violeta[['Sucursal_y', 'Supervisor_y','NombreVendedor_y','CodVendedor', 'Codigo', 'Hechas', 'NotaExhibición', 'TotalCacao', 'TotalCafé', 'TotalCondEspecias', 'TotalEdulcorante',\n",
        "                         'TotalPastasSecas', 'TotalTé', 'Nota Vend-Suc', 'ObjBoca', 'Kg', 'ObjEnc', 'Fuente', 'KgCartera', 'FechaRelvamiento','Kg30Bocas_12M']]"
      ],
      "metadata": {
        "id": "Aks_bXDnjHEb"
      },
      "execution_count": 96,
      "outputs": []
    },
    {
      "cell_type": "code",
      "source": [
        "TD_violeta = TD_violeta.rename(columns={'Sucursal_y':'Sucursal', 'Supervisor_y':'Supervisor','NombreVendedor_y':'NombreVendedor','Kg':'Kg 30 Boca Mes','Codigo':'BocasHechas','Hechas':'EncuestasHechas','NotaExhibición':'SumaNotas'})\n",
        "baseAzul = baseAzul.rename(columns={'Kg':'Kg ultimo mes'})\n",
        "baseAzul = baseAzul.drop(['RealizadaPor'], axis=1)\n",
        "TD_violeta['RatioFEG'] = TD_violeta['Kg 30 Boca Mes']/TD_violeta['KgCartera']\n",
        "baseAmarilla['FechaRelvamiento'] = pd.to_datetime(baseAmarilla.FechaRelvamiento, format='%Y/%m/%d')\n",
        "baseAzul['FechaRelvamiento'] = pd.to_datetime(baseAzul.FechaRelvamiento, format='%Y/%m/%d')\n",
        "TD_violeta['FechaRelvamiento'] = pd.to_datetime(TD_violeta.FechaRelvamiento, format='%Y/%m/%d')\n",
        "baseAmarilla['FechaRelvamiento'] = baseAmarilla.FechaRelvamiento.dt.strftime('%m/%d/%Y')\n",
        "baseAzul['FechaRelvamiento'] = baseAzul.FechaRelvamiento.dt.strftime('%m/%d/%Y')\n",
        "TD_violeta['FechaRelvamiento'] = TD_violeta.FechaRelvamiento.dt.strftime('%m/%d/%Y')\n",
        "TD_violeta['Status'] = 'FEG'"
      ],
      "metadata": {
        "id": "KxhUHAG3g5r_"
      },
      "execution_count": 97,
      "outputs": []
    },
    {
      "cell_type": "code",
      "source": [
        "TD_violeta[['TotalCafé','TotalTé','TotalCacao','TotalEdulcorante','TotalCondEspecias','TotalPastasSecas','EncuestasHechas','BocasHechas','SumaNotas','Nota Vend-Suc','KgCartera','RatioFEG']] = TD_violeta[['TotalCafé','TotalTé','TotalCacao','TotalEdulcorante','TotalCondEspecias','TotalPastasSecas','EncuestasHechas','BocasHechas','SumaNotas','Nota Vend-Suc','KgCartera','RatioFEG']].fillna(0)"
      ],
      "metadata": {
        "id": "SH8kUyEPnvoz"
      },
      "execution_count": 98,
      "outputs": []
    },
    {
      "cell_type": "code",
      "source": [
        "baseConsol = pd.concat([baseAmarilla,TD_violeta,baseAzul])\n",
        "baseConsol = baseConsol[['Fuente','FechaRelvamiento','Sucursal','Kg ultimo mes','Kg Carga','Supervisor','Codigo','Cliente','NombreVendedor','CodVendedor','FEGCacao','FEGCafe','FEGCondimentos',\n",
        "                         'FEGEdulcorantes','FEGPSecas','FEGTe','Hechas','Total','NotaExhibición','NotaExhReco','Nota 70% o mas','TotalCafé','TotalTé','TotalCacao','TotalEdulcorante',\n",
        "                         'TotalPastasSecas','TotalCondEspecias','ObjBoca','ObjEnc','EncuestasHechas','BocasHechas','SumaNotas','Nota Vend-Suc','Kg 30 Boca Mes','KgCartera','RatioFEG',\n",
        "                         'Status','KgEquiv_12M','KgUltimo_12M','Kg30Bocas_12M']]\n",
        "baseConsol = baseConsol.replace({'nan':''})\n",
        "baseConsol['FechaRelvamiento'] = ''"
      ],
      "metadata": {
        "id": "0wXplnl70gwx"
      },
      "execution_count": 99,
      "outputs": []
    },
    {
      "cell_type": "code",
      "source": [
        "baseConsol.to_excel('baseConsol_.xlsx', index=False)\n",
        "!cp baseConsol_.xlsx \"/content/drive/Shareddrives/Trade Mktg/Trade/3 - FEG Venta/1 - Dashboard Mensual/FEG Mensual con Python\""
      ],
      "metadata": {
        "id": "ECBwiw85mud1"
      },
      "execution_count": 100,
      "outputs": []
    }
  ]
}