{
  "nbformat": 4,
  "nbformat_minor": 0,
  "metadata": {
    "colab": {
      "provenance": [],
      "authorship_tag": "ABX9TyP25LtLIHDpkhyKnE2RImA4",
      "include_colab_link": true
    },
    "kernelspec": {
      "name": "python3",
      "display_name": "Python 3"
    },
    "language_info": {
      "name": "python"
    }
  },
  "cells": [
    {
      "cell_type": "markdown",
      "metadata": {
        "id": "view-in-github",
        "colab_type": "text"
      },
      "source": [
        "<a href=\"https://colab.research.google.com/github/MilciadesGonzalez/TradeLaVirginia/blob/main/FEG_Semanal_Venta.ipynb\" target=\"_parent\"><img src=\"https://colab.research.google.com/assets/colab-badge.svg\" alt=\"Open In Colab\"/></a>"
      ]
    },
    {
      "cell_type": "code",
      "execution_count": null,
      "metadata": {
        "id": "NOfupneXvdTr",
        "colab": {
          "base_uri": "https://localhost:8080/"
        },
        "outputId": "1d1d2919-58a3-4e25-d6d3-96250c3eba0e"
      },
      "outputs": [
        {
          "output_type": "stream",
          "name": "stdout",
          "text": [
            "Drive already mounted at /content/drive; to attempt to forcibly remount, call drive.mount(\"/content/drive\", force_remount=True).\n"
          ]
        }
      ],
      "source": [
        "import pandas as pd\n",
        "import numpy as np\n",
        "from datetime import datetime\n",
        "from google.colab import drive\n",
        "drive.mount('/content/drive')"
      ]
    },
    {
      "cell_type": "code",
      "source": [
        "crudo = pd.read_excel('/content/drive/Shareddrives/Trade Mktg/Trade/3 - FEG Venta/2 - Reporte Quincenal/Feg Semanal con Python/1 - Crudo/EncuestasFEG.xlsx')\n",
        "vendedores = pd.read_excel('/content/drive/Shareddrives/Trade Mktg/Trade/3 - FEG Venta/2 - Reporte Quincenal/Feg Semanal con Python/2 - DatosExternos/DatosExternos.xlsx', sheet_name='Vendedores')\n",
        "usuariosSac = pd.read_excel('/content/drive/Shareddrives/Trade Mktg/Trade/3 - FEG Venta/2 - Reporte Quincenal/Feg Semanal con Python/2 - DatosExternos/DatosExternos.xlsx', sheet_name='UsuariosSAC')\n",
        "recorrido = pd.read_excel('/content/drive/Shareddrives/Trade Mktg/Trade/3 - FEG Venta/2 - Reporte Quincenal/Feg Semanal con Python/2 - DatosExternos/DatosExternos.xlsx', sheet_name='Recorrido')\n",
        "kgCartera = pd.read_excel('/content/drive/Shareddrives/Trade Mktg/Trade/3 - FEG Venta/2 - Reporte Quincenal/Feg Semanal con Python/2 - DatosExternos/DatosExternos.xlsx', sheet_name='KgCartera')\n",
        "kgConsolidador = pd.read_excel('/content/drive/Shareddrives/Trade Mktg/Trade/3 - FEG Venta/2 - Reporte Quincenal/Feg Semanal con Python/2 - DatosExternos/DatosExternos.xlsx', sheet_name='KgConsolidador')\n",
        "kgBoca = pd.read_excel('/content/drive/Shareddrives/Trade Mktg/Trade/3 - FEG Venta/2 - Reporte Quincenal/Feg Semanal con Python/2 - DatosExternos/DatosExternos.xlsx', sheet_name='KgBoca')\n",
        "regionales = pd.read_excel('/content/drive/Shareddrives/Trade Mktg/Trade/3 - FEG Venta/2 - Reporte Quincenal/Feg Semanal con Python/2 - DatosExternos/DatosExternos.xlsx', sheet_name='Regionales')\n",
        "pondera = pd.read_excel('/content/drive/Shareddrives/Trade Mktg/Trade/3 - FEG Venta/2 - Reporte Quincenal/Feg Semanal con Python/2 - DatosExternos/DatosExternos.xlsx', sheet_name='Pondera')\n",
        "resumenVend = pd.read_excel('/content/drive/Shareddrives/Trade Mktg/Trade/3 - FEG Venta/2 - Reporte Quincenal/Feg Semanal con Python/2 - DatosExternos/DatosExternos.xlsx', sheet_name='ResumenVendedor')"
      ],
      "metadata": {
        "id": "uyxGaAgIvwsx"
      },
      "execution_count": null,
      "outputs": []
    },
    {
      "cell_type": "markdown",
      "source": [],
      "metadata": {
        "id": "OkLwco7TnFWA"
      }
    },
    {
      "cell_type": "code",
      "source": [
        "base = pd.merge(crudo, vendedores, on='RealizadaPor', how='left')\n",
        "recorridoV = pd.merge(recorrido, kgConsolidador, on='Codigo', how='left')\n",
        "recorridoV = pd.merge(recorridoV, kgBoca, on='Codigo', how='left')\n",
        "recorridoV['Kg'] = np.where((recorridoV.KgC > 0),recorridoV.KgC,recorridoV.KgB)\n",
        "recorridoV = recorridoV.drop(['KgC','KgB'], axis=1)"
      ],
      "metadata": {
        "id": "62Oi_6QFwK1R"
      },
      "execution_count": null,
      "outputs": []
    },
    {
      "cell_type": "code",
      "source": [
        "TD_encuestasHechas = base.pivot_table(index=['Sucursal','Supervisor','Codigo','Cliente','NombreVendedor','CodVendedor','RealizadaPor'], columns=['TipoEncuesta'], values='Valor', aggfunc=np.mean)\n",
        "TD_encuestasHechas =  TD_encuestasHechas.reset_index()\n",
        "TD_encuestasHechas['FEGCacao'] = np.where((TD_encuestasHechas.FEGCacao > 0),1,np.nan)\n",
        "TD_encuestasHechas['FEGCafe'] = np.where((TD_encuestasHechas.FEGCafe > 0),1,np.nan)\n",
        "TD_encuestasHechas['FEGCondimentos'] = np.where((TD_encuestasHechas.FEGCondimentos > 0),1,np.nan)\n",
        "TD_encuestasHechas['FEGEdulcorantes'] = np.where((TD_encuestasHechas.FEGEdulcorantes > 0),1,np.nan)\n",
        "TD_encuestasHechas['FEGPSecas'] = np.where((TD_encuestasHechas.FEGPSecas > 0),1,np.nan)\n",
        "TD_encuestasHechas['FEGTe'] = np.where((TD_encuestasHechas.FEGTe > 0),1,np.nan)"
      ],
      "metadata": {
        "id": "dxQo8d9qxtW3"
      },
      "execution_count": null,
      "outputs": []
    },
    {
      "cell_type": "code",
      "source": [
        "TD_encuestasHechas['Hechas'] = TD_encuestasHechas[['FEGCacao','FEGCafe','FEGCondimentos','FEGEdulcorantes','FEGPSecas','FEGTe']].sum(axis=1, skipna=True)\n",
        "TD_encuestasHechas['Total'] = 6\n",
        "TD_encuestasHechas['FEGCacao'] = np.where((TD_encuestasHechas.FEGCacao > 0),'Hecha',np.nan)\n",
        "TD_encuestasHechas['FEGCafe'] = np.where((TD_encuestasHechas.FEGCafe > 0),'Hecha',np.nan)\n",
        "TD_encuestasHechas['FEGCondimentos'] = np.where((TD_encuestasHechas.FEGCondimentos > 0),'Hecha',np.nan)\n",
        "TD_encuestasHechas['FEGEdulcorantes'] = np.where((TD_encuestasHechas.FEGEdulcorantes > 0),'Hecha',np.nan)\n",
        "TD_encuestasHechas['FEGPSecas'] = np.where((TD_encuestasHechas.FEGPSecas > 0),'Hecha',np.nan)\n",
        "TD_encuestasHechas['FEGTe'] = np.where((TD_encuestasHechas.FEGTe > 0),'Hecha',np.nan)\n",
        "TD_encuestasHechas['%'] = TD_encuestasHechas['Hechas']/TD_encuestasHechas['Total']"
      ],
      "metadata": {
        "id": "SYQjY_Kb2lys"
      },
      "execution_count": null,
      "outputs": []
    },
    {
      "cell_type": "markdown",
      "source": [],
      "metadata": {
        "id": "HxRNyMGS7qQW"
      }
    },
    {
      "cell_type": "code",
      "source": [
        "controlFotos = base[['Sucursal','Supervisor','Codigo','Cliente','NombreVendedor','CodVendedor','TipoEncuesta','TituloPregunta','Valor','Url','FechaRelvamiento']]\n",
        "controlFotos = pd.merge(controlFotos, regionales, on='Sucursal', how='left')"
      ],
      "metadata": {
        "id": "Py7LIQVO6Wqq"
      },
      "execution_count": null,
      "outputs": []
    },
    {
      "cell_type": "markdown",
      "source": [],
      "metadata": {
        "id": "7W-VN8MBN2hl"
      }
    },
    {
      "cell_type": "code",
      "source": [
        "sumaHechas = TD_encuestasHechas.pivot_table(index='CodVendedor', values='Hechas', aggfunc=np.sum)\n",
        "bocasVisitadas = TD_encuestasHechas.pivot_table(index='CodVendedor', values='Codigo', aggfunc='count')\n",
        "bocasObj = recorridoV.pivot_table(index='CodVendedor', values='Codigo', aggfunc='count')\n",
        "kgObj = recorridoV.pivot_table(index='CodVendedor', values='Kg', aggfunc=np.sum)"
      ],
      "metadata": {
        "id": "tKSnuKsfN25w"
      },
      "execution_count": null,
      "outputs": []
    },
    {
      "cell_type": "code",
      "source": [
        "sumaHechas =  sumaHechas.reset_index()\n",
        "bocasVisitadas =  bocasVisitadas.reset_index()\n",
        "bocasObj =  bocasObj.reset_index()\n",
        "kgObj =  kgObj.reset_index()\n",
        "sumaHechas = sumaHechas.rename(columns={'Hechas':'EncuestasHechas'})\n",
        "bocasVisitadas = bocasVisitadas.rename(columns={'Codigo':'BocasVisitadas'})\n",
        "bocasObj = bocasObj.rename(columns={'Codigo':'ObjBocas'})\n",
        "bocasObj['ObjEnc'] = 6 * bocasObj['ObjBocas']"
      ],
      "metadata": {
        "id": "CIXIUaFWTh-A"
      },
      "execution_count": null,
      "outputs": []
    },
    {
      "cell_type": "markdown",
      "source": [],
      "metadata": {
        "id": "8RkNpO8snsbd"
      }
    },
    {
      "cell_type": "code",
      "source": [
        "puntos = pd.merge(controlFotos, pondera, on='TituloPregunta', how='left')\n",
        "puntos['Valor'] = puntos['Valor']/100\n",
        "puntos['PjeFinal'] = puntos['Valor']*puntos['Pondera2']"
      ],
      "metadata": {
        "id": "9RLwSeBzjOwr"
      },
      "execution_count": null,
      "outputs": []
    },
    {
      "cell_type": "code",
      "source": [
        "TD_puntos = puntos.pivot_table(index=['Codigo','CodVendedor'], values='PjeFinal', aggfunc=np.sum)\n",
        "TD_puntos = TD_puntos.reset_index()\n",
        "TD_puntos = pd.merge(TD_puntos, recorridoV, on='Codigo', how='left')\n",
        "TD_puntos['Kg_70%'] = np.where((TD_puntos['PjeFinal'] >= 0.695),'70%o+','-de70%')\n",
        "nota70 = TD_puntos.pivot_table(index=['CodVendedor_x','Kg_70%'], values='Kg', aggfunc=np.sum)\n",
        "nota70 = nota70.reset_index()\n",
        "kilos70 = nota70[nota70['Kg_70%']=='70%o+']\n",
        "kilos70 = kilos70.rename(columns={'CodVendedor_x':'CodVendedor', 'Kg':'KG_70%'})"
      ],
      "metadata": {
        "id": "TwDlA1sdRNgi"
      },
      "execution_count": null,
      "outputs": []
    },
    {
      "cell_type": "markdown",
      "source": [],
      "metadata": {
        "id": "XuJ4OHaYiicK"
      }
    },
    {
      "cell_type": "code",
      "source": [
        "resumen = pd.merge(resumenVend, sumaHechas, on='CodVendedor', how='left')\n",
        "resumen = pd.merge(resumen, bocasVisitadas, on='CodVendedor', how='left')\n",
        "resumen = pd.merge(resumen, bocasObj, on='CodVendedor', how='left')\n",
        "resumen = pd.merge(resumen, kgObj, on='CodVendedor', how='left')\n",
        "resumen['%_EncHechas'] = resumen['EncuestasHechas']/resumen['ObjEnc']\n",
        "resumen['%_BocasHechas'] = resumen['BocasVisitadas']/resumen['ObjBocas']\n",
        "resumen = pd.merge(resumen, usuariosSac, on='CodVendedor', how='left')\n",
        "resumen = pd.merge(resumen, kgCartera, on='VendedorSAC', how='left')\n",
        "resumen = resumen.drop('VendedorSAC', axis=1)\n",
        "resumen['RatioFeg'] = resumen['Kg']/resumen['KgCartera']\n",
        "resumen = pd.merge(resumen, kilos70, on='CodVendedor', how='left')\n",
        "resumen['%Kg_arriba_70'] = resumen['KG_70%']/resumen['Kg']"
      ],
      "metadata": {
        "id": "kNiRqWYuTHqD"
      },
      "execution_count": null,
      "outputs": []
    },
    {
      "cell_type": "markdown",
      "source": [],
      "metadata": {
        "id": "qwxXIvU1ioXY"
      }
    },
    {
      "cell_type": "code",
      "source": [
        "TD_encuestasHechas['Codigo'] = '0' + TD_encuestasHechas['Codigo'].astype(str)\n",
        "TD_encuestasHechas.to_excel('TD_encuestasHechas.xlsx', index=False)\n",
        "!cp TD_encuestasHechas.xlsx \"/content/drive/Shareddrives/Trade Mktg/Trade/3 - FEG Venta/2 - Reporte Quincenal/Feg Semanal con Python\""
      ],
      "metadata": {
        "id": "vje_u7CrSE5m"
      },
      "execution_count": null,
      "outputs": []
    },
    {
      "cell_type": "code",
      "source": [
        "controlFotos['Codigo'] = '0' + controlFotos['Codigo'].astype(str)\n",
        "controlFotos.to_excel('controlFotos.xlsx', index=False)\n",
        "!cp controlFotos.xlsx \"/content/drive/Shareddrives/Trade Mktg/Trade/3 - FEG Venta/2 - Reporte Quincenal/Feg Semanal con Python\""
      ],
      "metadata": {
        "id": "LOHHbK2mSJ7Q"
      },
      "execution_count": null,
      "outputs": []
    },
    {
      "cell_type": "code",
      "source": [
        "TD_Resumen = resumen.pivot_table(index=['Sucursal','Supervisor','NombreVendedor'], values=['%_EncHechas','%_BocasHechas','%Kg_arriba_70','KgCartera','Kg','RatioFeg','ObjBocas'], aggfunc=np.mean)\n",
        "TD_Resumen = TD_Resumen.reset_index()\n",
        "TD_Resumen = TD_Resumen[['Sucursal','Supervisor','NombreVendedor','%_EncHechas','%_BocasHechas','%Kg_arriba_70','KgCartera','Kg','RatioFeg','ObjBocas']]"
      ],
      "metadata": {
        "id": "bORgS-1uhzqk"
      },
      "execution_count": null,
      "outputs": []
    },
    {
      "cell_type": "code",
      "source": [
        "TD_Resumen.to_excel('TD_Resumen.xlsx', index=False)\n",
        "!cp TD_Resumen.xlsx \"/content/drive/Shareddrives/Trade Mktg/Trade/3 - FEG Venta/2 - Reporte Quincenal/Feg Semanal con Python\""
      ],
      "metadata": {
        "id": "5XYqJgzWriOd"
      },
      "execution_count": null,
      "outputs": []
    }
  ]
}