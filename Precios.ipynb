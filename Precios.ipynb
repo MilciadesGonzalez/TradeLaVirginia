{
  "nbformat": 4,
  "nbformat_minor": 0,
  "metadata": {
    "colab": {
      "provenance": [],
      "authorship_tag": "ABX9TyOFjB052k+fADLzuUECleGS",
      "include_colab_link": true
    },
    "kernelspec": {
      "name": "python3",
      "display_name": "Python 3"
    },
    "language_info": {
      "name": "python"
    }
  },
  "cells": [
    {
      "cell_type": "markdown",
      "metadata": {
        "id": "view-in-github",
        "colab_type": "text"
      },
      "source": [
        "<a href=\"https://colab.research.google.com/github/MilciadesGonzalez/TradeLaVirginia/blob/main/Precios.ipynb\" target=\"_parent\"><img src=\"https://colab.research.google.com/assets/colab-badge.svg\" alt=\"Open In Colab\"/></a>"
      ]
    },
    {
      "cell_type": "code",
      "execution_count": null,
      "metadata": {
        "id": "AL5lH0IBvQxX",
        "colab": {
          "base_uri": "https://localhost:8080/"
        },
        "outputId": "559794ab-3ec9-48ce-f991-287fa54a9f29"
      },
      "outputs": [
        {
          "output_type": "stream",
          "name": "stdout",
          "text": [
            "Mounted at /content/drive\n"
          ]
        }
      ],
      "source": [
        "import pandas as pd\n",
        "import numpy as np\n",
        "from google.colab import drive\n",
        "drive.mount('/content/drive')"
      ]
    },
    {
      "cell_type": "code",
      "source": [
        "hecha = pd.read_excel('/content/drive/Shareddrives/Trade Mktg/Trade/1.6 - Correción de Precios/Precio con Python/DescargaEncuestaPrecios.xlsx')\n",
        "objBocas = pd.read_excel('/content/drive/Shareddrives/Trade Mktg/Trade/1.6 - Correción de Precios/Precio con Python/Obj_Bocas.xlsx')\n",
        "objMaterial = pd.read_excel('/content/drive/Shareddrives/Trade Mktg/Trade/1.6 - Correción de Precios/Precio con Python/Obj_Producto.xlsx')\n",
        "regional = pd.read_excel('/content/drive/Shareddrives/Trade Mktg/Trade/1.6 - Correción de Precios/Precio con Python/Region.xlsx')"
      ],
      "metadata": {
        "id": "7u4-DljmveR8"
      },
      "execution_count": null,
      "outputs": []
    },
    {
      "cell_type": "code",
      "source": [
        "cierreSemanal = '2023-10-09'\n",
        "cierreQuincenal = '2023-10-02'\n",
        "cierreG1 = '2023-09-18'\n",
        "cierreG2 = '2023-10-02'\n",
        "cierreSemanal = pd.to_datetime(cierreSemanal)\n",
        "cierreQuincenal = pd.to_datetime(cierreQuincenal)\n",
        "cierreG1 = pd.to_datetime(cierreG1)\n",
        "cierreG2 = pd.to_datetime(cierreG2)"
      ],
      "metadata": {
        "id": "Y6ZWRmk2P46O"
      },
      "execution_count": null,
      "outputs": []
    },
    {
      "cell_type": "code",
      "source": [
        "obj_hechas = hecha\n",
        "aux_hechas = pd.merge(objBocas, hecha, on=['CódigoBoca', 'Relevamiento'], how='left')\n",
        "noHechas = aux_hechas[aux_hechas['Relevado'].isnull()]\n",
        "hechas = obj_hechas[obj_hechas['Relevado'].notnull()]\n",
        "noHechas = noHechas.rename(columns={'Sucursal_x':'Sucursal', 'Cliente_x':'Cliente','Boca_x':'Boca','Categoria_x':'Categoria','Repositor_x':'Repositor','Supervisor_x':'Supervisor'})\n",
        "noHechas = noHechas[['Sucursal','Cliente', 'CódigoBoca', 'Boca','Categoria', 'Relevamiento', 'Relevado', 'Repositor', 'Supervisor','CodigoProducto','Producto']]\n",
        "hechas = hechas.rename(columns={'Sucursal_y':'Sucursal', 'Cliente_y':'Cliente','Boca_y':'Boca','Categoria_y':'Categoria','Repositor_y':'Repositor','Supervisor_y':'Supervisor'})\n",
        "hechas = hechas[['Sucursal','Cliente', 'CódigoBoca', 'Boca','Categoria', 'Relevamiento', 'Relevado', 'Repositor', 'Supervisor','CodigoProducto','Producto']]"
      ],
      "metadata": {
        "id": "603srGNgb40P"
      },
      "execution_count": null,
      "outputs": []
    },
    {
      "cell_type": "code",
      "source": [
        "obj_material = pd.merge(objMaterial, hecha, on=['CodigoProducto', 'Relevamiento'], how='left')\n",
        "matHechas = obj_material[obj_material['Producto_y'].notnull()]\n",
        "matNoHechas = obj_material[obj_material['Producto_y'].isnull()]\n",
        "matHechas = matHechas.rename(columns={'Producto_x':'Producto'})\n",
        "matNoHechas = matNoHechas.rename(columns={'Producto_x':'Producto'})\n",
        "matHechas = matHechas[['Sucursal','Cliente', 'CódigoBoca', 'Boca','Categoria', 'Relevamiento', 'Relevado', 'Repositor', 'Supervisor','CodigoProducto','Producto']]\n",
        "matNoHechas = matNoHechas[['Relevamiento', 'CodigoProducto','Producto']]\n",
        "matHechas = matHechas.drop_duplicates(subset=['CodigoProducto','CódigoBoca','Relevamiento'])\n",
        "matNoHechas = matNoHechas.drop_duplicates(subset=['CodigoProducto','Relevamiento'])"
      ],
      "metadata": {
        "id": "_auA-Q2lD4Ua"
      },
      "execution_count": null,
      "outputs": []
    },
    {
      "cell_type": "code",
      "source": [
        "matNoHechas.to_excel('matNoHechas_.xlsx', index=False)\n",
        "!cp matNoHechas_.xlsx \"/content/drive/Shareddrives/Trade Mktg/Trade/1.6 - Correción de Precios/Precio con Python/\""
      ],
      "metadata": {
        "id": "45JW_j3oiamP"
      },
      "execution_count": null,
      "outputs": []
    },
    {
      "cell_type": "code",
      "source": [
        "td_hecha = matHechas.pivot_table(index=('CódigoBoca', 'Relevamiento'), values='CodigoProducto', aggfunc='count')\n",
        "td_objMat = objMaterial.pivot_table(index='Relevamiento', values='CodigoProducto', aggfunc='count')\n",
        "td_hecha =  td_hecha.reset_index()\n",
        "td_objMat =  td_objMat.reset_index()"
      ],
      "metadata": {
        "id": "TGSUADfV_yMT"
      },
      "execution_count": null,
      "outputs": []
    },
    {
      "cell_type": "code",
      "source": [
        "noHechas = pd.merge(noHechas, hechas, on='CódigoBoca', how='left')\n",
        "noHechas = noHechas.rename(columns={'Sucursal_x':'Sucursal', 'Cliente_x':'Cliente', 'Boca_x':'Boca', 'Categoria_x':'Categoria','Relevamiento_x':'Relevamiento','Repositor_x':'Repositor',\n",
        "                                'Supervisor_x':'Supervisor'})\n",
        "noHechas['Repositor'] = noHechas['Repositor'].fillna(noHechas['Repositor'])"
      ],
      "metadata": {
        "id": "PyyXpXd-XgCD"
      },
      "execution_count": null,
      "outputs": []
    },
    {
      "cell_type": "code",
      "source": [
        "noHechas['Relevado'] = ''"
      ],
      "metadata": {
        "id": "vvoKxxrVwDnQ"
      },
      "execution_count": null,
      "outputs": []
    },
    {
      "cell_type": "code",
      "source": [
        "hechas = hechas[['Sucursal', 'Cliente', 'CódigoBoca', 'Boca', 'Categoria', 'Relevamiento', 'Relevado', 'Repositor', 'Supervisor']]\n",
        "noHechas = noHechas[['Sucursal', 'Cliente', 'CódigoBoca', 'Boca', 'Categoria', 'Relevamiento', 'Relevado', 'Repositor', 'Supervisor']]\n",
        "hechas['Status'] = 'Hecha'\n",
        "noHechas['Status'] = 'NoHecha'\n",
        "hechas = hechas.drop_duplicates(subset=['CódigoBoca','Relevamiento'])\n",
        "hechas = pd.merge(hechas, td_hecha, on=['CódigoBoca','Relevamiento'], how='left')\n",
        "hechas = pd.merge(hechas, td_objMat, on='Relevamiento', how='left')\n",
        "noHechas = pd.merge(noHechas, td_objMat, on='Relevamiento', how='left')\n",
        "noHechas['CodigoProducto_x'] = 0\n",
        "hechas = hechas.rename(columns={'CodigoProducto_x':'ProductosRelevados', 'CodigoProducto_y':'ObjProductos'})\n",
        "noHechas = noHechas.rename(columns={'CodigoProducto_x':'ProductosRelevados', 'CodigoProducto':'ObjProductos'})"
      ],
      "metadata": {
        "id": "vDihd_Itw0_g",
        "colab": {
          "base_uri": "https://localhost:8080/"
        },
        "outputId": "cf243af1-f1cb-4c23-d40a-54260dba9601"
      },
      "execution_count": null,
      "outputs": [
        {
          "output_type": "stream",
          "name": "stderr",
          "text": [
            "<ipython-input-10-c78a89473186>:3: SettingWithCopyWarning: \n",
            "A value is trying to be set on a copy of a slice from a DataFrame.\n",
            "Try using .loc[row_indexer,col_indexer] = value instead\n",
            "\n",
            "See the caveats in the documentation: https://pandas.pydata.org/pandas-docs/stable/user_guide/indexing.html#returning-a-view-versus-a-copy\n",
            "  hechas['Status'] = 'Hecha'\n"
          ]
        }
      ]
    },
    {
      "cell_type": "code",
      "source": [
        "base = pd.concat([hechas, noHechas])\n",
        "base['PreciosTomados'] = np.where((base.Status == 'Hecha'), 1, 0)\n",
        "base['PreciosSinTomar'] = np.where((base.Status == 'NoHecha'), 1, 0)\n",
        "base['TotalGral'] = 1\n",
        "base = pd.merge(base, regional, on='Sucursal', how='left')\n",
        "base['CódigoBoca'] = '0' + base['CódigoBoca'].astype(str)\n",
        "base = base.drop_duplicates(subset=['CódigoBoca','Relevamiento'])"
      ],
      "metadata": {
        "id": "u28yJREnyTFv"
      },
      "execution_count": null,
      "outputs": []
    },
    {
      "cell_type": "code",
      "source": [
        "base['Relevado'] = np.where(((base.Relevamiento == 'Cadenas Semanal')|(base.Relevamiento == 'Mayoristas Semanal')),cierreSemanal,\n",
        "                                np.where(((base.Relevamiento == 'Cadenas Mensual Grupo 1')|(base.Relevamiento == 'Mayoristas Mensual Grupo 1')),cierreG1,\n",
        "                                np.where(((base.Relevamiento == 'Cadenas Mensual Grupo 2')|(base.Relevamiento == 'Mayoristas Mensual Grupo 2')),cierreG2,\n",
        "                                np.where(((base.Relevamiento == 'Autoservicios Quincenal (V1)')|(base.Relevamiento == 'Minoristas Quincenal (V1)')),cierreQuincenal,\n",
        "                                np.where(((base.Relevamiento == 'Autoservicios Mensual Grupo 1')|(base.Relevamiento == 'Minoristas Mensual Grupo 1')),cierreG1,\n",
        "                                np.where(((base.Relevamiento == 'Autoservicios Mensual Grupo 2')|(base.Relevamiento == 'Minoristas Mensual Grupo 2')),cierreG2,''))))))"
      ],
      "metadata": {
        "id": "j2YrylG6UgUl",
        "colab": {
          "base_uri": "https://localhost:8080/"
        },
        "outputId": "98e4bffb-3a51-4eb8-a843-195ddb678e95"
      },
      "execution_count": null,
      "outputs": [
        {
          "output_type": "stream",
          "name": "stderr",
          "text": [
            "<ipython-input-12-a0b4d1d4c24d>:1: SettingWithCopyWarning: \n",
            "A value is trying to be set on a copy of a slice from a DataFrame.\n",
            "Try using .loc[row_indexer,col_indexer] = value instead\n",
            "\n",
            "See the caveats in the documentation: https://pandas.pydata.org/pandas-docs/stable/user_guide/indexing.html#returning-a-view-versus-a-copy\n",
            "  base['Relevado'] = np.where(((base.Relevamiento == 'Cadenas Semanal')|(base.Relevamiento == 'Mayoristas Semanal')),cierreSemanal,\n"
          ]
        }
      ]
    },
    {
      "cell_type": "code",
      "source": [
        "base.to_excel('Base_.xlsx', index=False)\n",
        "!cp Base_.xlsx \"/content/drive/Shareddrives/Trade Mktg/Trade/1.6 - Correción de Precios/Precio con Python/\""
      ],
      "metadata": {
        "id": "KsRWJTV020MZ"
      },
      "execution_count": null,
      "outputs": []
    }
  ]
}