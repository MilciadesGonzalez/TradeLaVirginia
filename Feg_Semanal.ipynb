{
  "nbformat": 4,
  "nbformat_minor": 0,
  "metadata": {
    "colab": {
      "provenance": [],
      "authorship_tag": "ABX9TyPUM/EzCfvl2IO2D3ET2fMX",
      "include_colab_link": true
    },
    "kernelspec": {
      "name": "python3",
      "display_name": "Python 3"
    },
    "language_info": {
      "name": "python"
    }
  },
  "cells": [
    {
      "cell_type": "markdown",
      "metadata": {
        "id": "view-in-github",
        "colab_type": "text"
      },
      "source": [
        "<a href=\"https://colab.research.google.com/github/MilciadesGonzalez/TradeLaVirginia/blob/main/Feg_Semanal.ipynb\" target=\"_parent\"><img src=\"https://colab.research.google.com/assets/colab-badge.svg\" alt=\"Open In Colab\"/></a>"
      ]
    },
    {
      "cell_type": "code",
      "execution_count": null,
      "metadata": {
        "id": "dKC92cQ9rywA",
        "colab": {
          "base_uri": "https://localhost:8080/"
        },
        "outputId": "fc2b8a85-88ac-4c9f-e3ad-e577c254c1c2"
      },
      "outputs": [
        {
          "output_type": "stream",
          "name": "stdout",
          "text": [
            "Mounted at /content/drive\n"
          ]
        }
      ],
      "source": [
        "import pandas as pd\n",
        "import numpy as np\n",
        "from datetime import datetime\n",
        "from google.colab import drive\n",
        "drive.mount('/content/drive')"
      ]
    },
    {
      "cell_type": "markdown",
      "source": [],
      "metadata": {
        "id": "Mw6vJHKt9PXV"
      }
    },
    {
      "cell_type": "code",
      "source": [
        "crudo = pd.read_excel('/content/drive/Shareddrives/Trade Mktg/Trade/3 - FEG Venta/2 - Reporte Quincenal/Feg Semanal con Python/1 - Crudo/EncuestasFEG.xlsx')\n",
        "vendedores = pd.read_excel('/content/drive/Shareddrives/Trade Mktg/Trade/3 - FEG Venta/2 - Reporte Quincenal/Feg Semanal con Python/2 - DatosExternos/DatosExternos.xlsx', sheet_name='Vendedores')\n",
        "usuariosSac = pd.read_excel('/content/drive/Shareddrives/Trade Mktg/Trade/3 - FEG Venta/2 - Reporte Quincenal/Feg Semanal con Python/2 - DatosExternos/DatosExternos.xlsx', sheet_name='UsuariosSAC')\n",
        "recorrido = pd.read_excel('/content/drive/Shareddrives/Trade Mktg/Trade/3 - FEG Venta/2 - Reporte Quincenal/Feg Semanal con Python/2 - DatosExternos/DatosExternos.xlsx', sheet_name='Recorrido')\n",
        "kgCartera = pd.read_excel('/content/drive/Shareddrives/Trade Mktg/Trade/3 - FEG Venta/2 - Reporte Quincenal/Feg Semanal con Python/2 - DatosExternos/DatosExternos.xlsx', sheet_name='KgCartera')\n",
        "kgConsolidador = pd.read_excel('/content/drive/Shareddrives/Trade Mktg/Trade/3 - FEG Venta/2 - Reporte Quincenal/Feg Semanal con Python/2 - DatosExternos/DatosExternos.xlsx', sheet_name='KgConsolidador')\n",
        "kgBoca = pd.read_excel('/content/drive/Shareddrives/Trade Mktg/Trade/3 - FEG Venta/2 - Reporte Quincenal/Feg Semanal con Python/2 - DatosExternos/DatosExternos.xlsx', sheet_name='KgBoca')\n",
        "regionales = pd.read_excel('/content/drive/Shareddrives/Trade Mktg/Trade/3 - FEG Venta/2 - Reporte Quincenal/Feg Semanal con Python/2 - DatosExternos/DatosExternos.xlsx', sheet_name='Regionales')\n",
        "pondera = pd.read_excel('/content/drive/Shareddrives/Trade Mktg/Trade/3 - FEG Venta/2 - Reporte Quincenal/Feg Semanal con Python/2 - DatosExternos/DatosExternos.xlsx', sheet_name='Pondera')\n",
        "resumenVend = pd.read_excel('/content/drive/Shareddrives/Trade Mktg/Trade/3 - FEG Venta/2 - Reporte Quincenal/Feg Semanal con Python/2 - DatosExternos/DatosExternos.xlsx', sheet_name='ResumenVendedor')"
      ],
      "metadata": {
        "id": "q0mt1fb7r0Af"
      },
      "execution_count": null,
      "outputs": []
    },
    {
      "cell_type": "code",
      "source": [
        "base = pd.merge(crudo, vendedores, on='RealizadaPor', how='left')\n",
        "recorridoV = pd.merge(recorrido, kgConsolidador, on='Codigo', how='left')\n",
        "recorridoV = pd.merge(recorridoV, kgBoca, on='Codigo', how='left')\n",
        "recorridoV['Kg'] = np.where((recorridoV.KgC > 0),recorridoV.KgC,recorridoV.KgB)\n",
        "recorridoV = recorridoV.drop(['KgC','KgB'], axis=1)"
      ],
      "metadata": {
        "id": "QiIE9vRTr27p"
      },
      "execution_count": null,
      "outputs": []
    },
    {
      "cell_type": "code",
      "source": [
        "controlFotos = base[['Sucursal','Supervisor','Codigo','Cliente','NombreVendedor','CodVendedor','TipoEncuesta','TituloPregunta','Valor','Url','FechaRelvamiento']]\n",
        "controlFotos = pd.merge(controlFotos, regionales, on='Sucursal', how='left')"
      ],
      "metadata": {
        "id": "uhexDYWTr-r0"
      },
      "execution_count": null,
      "outputs": []
    },
    {
      "cell_type": "code",
      "source": [
        "auxPuntos = pd.merge(controlFotos, pondera, on='TituloPregunta', how='left')\n",
        "puntos = auxPuntos[['Sucursal','Supervisor','Codigo','Cliente','NombreVendedor','CodVendedor','Valor','Pondera1','Pondera2','TipoEncuesta']]\n",
        "puntos['Valor'] = puntos['Valor']/100\n",
        "puntos['PjeFinal'] = puntos['Valor']*puntos['Pondera2']\n",
        "puntos['PjeCategoría'] = puntos['Valor']*puntos['Pondera1']"
      ],
      "metadata": {
        "id": "Mtl6VKtQsDhR",
        "colab": {
          "base_uri": "https://localhost:8080/"
        },
        "outputId": "9239c1a8-4292-4b40-d9fa-e94a03af2b50"
      },
      "execution_count": null,
      "outputs": [
        {
          "output_type": "stream",
          "name": "stderr",
          "text": [
            "<ipython-input-5-6155b26c1acc>:3: SettingWithCopyWarning: \n",
            "A value is trying to be set on a copy of a slice from a DataFrame.\n",
            "Try using .loc[row_indexer,col_indexer] = value instead\n",
            "\n",
            "See the caveats in the documentation: https://pandas.pydata.org/pandas-docs/stable/user_guide/indexing.html#returning-a-view-versus-a-copy\n",
            "  puntos['Valor'] = puntos['Valor']/100\n",
            "<ipython-input-5-6155b26c1acc>:4: SettingWithCopyWarning: \n",
            "A value is trying to be set on a copy of a slice from a DataFrame.\n",
            "Try using .loc[row_indexer,col_indexer] = value instead\n",
            "\n",
            "See the caveats in the documentation: https://pandas.pydata.org/pandas-docs/stable/user_guide/indexing.html#returning-a-view-versus-a-copy\n",
            "  puntos['PjeFinal'] = puntos['Valor']*puntos['Pondera2']\n",
            "<ipython-input-5-6155b26c1acc>:5: SettingWithCopyWarning: \n",
            "A value is trying to be set on a copy of a slice from a DataFrame.\n",
            "Try using .loc[row_indexer,col_indexer] = value instead\n",
            "\n",
            "See the caveats in the documentation: https://pandas.pydata.org/pandas-docs/stable/user_guide/indexing.html#returning-a-view-versus-a-copy\n",
            "  puntos['PjeCategoría'] = puntos['Valor']*puntos['Pondera1']\n"
          ]
        }
      ]
    },
    {
      "cell_type": "code",
      "source": [
        "puntosCateg = puntos.pivot_table(index='Codigo', columns='TipoEncuesta', values='PjeCategoría', aggfunc=np.sum)\n",
        "puntosCateg = puntosCateg.reset_index()"
      ],
      "metadata": {
        "id": "vwfu4yn2vhqs"
      },
      "execution_count": null,
      "outputs": []
    },
    {
      "cell_type": "code",
      "source": [
        "TD_puntos = puntos.pivot_table(index=['Codigo','CodVendedor'], values='PjeFinal', aggfunc=np.sum)\n",
        "TD_puntos = TD_puntos.reset_index()"
      ],
      "metadata": {
        "id": "ah15X9QrvkiC"
      },
      "execution_count": null,
      "outputs": []
    },
    {
      "cell_type": "code",
      "source": [
        "TD_puntos = pd.merge(TD_puntos, recorridoV, on='Codigo', how='left')\n",
        "TD_puntos['Kg_70%'] = np.where((TD_puntos['PjeFinal'] >= 0.695),'70%o+','-de70%')\n",
        "nota70 = TD_puntos.pivot_table(index=['CodVendedor_x','Kg_70%'], values='Kg', aggfunc=np.sum)\n",
        "nota70 = nota70.reset_index()\n",
        "kilos70 = nota70[nota70['Kg_70%']=='70%o+']\n",
        "kilos70 = kilos70.rename(columns={'CodVendedor_x':'CodVendedor', 'Kg':'KG_70%'})"
      ],
      "metadata": {
        "id": "QPMrx1zEsF78"
      },
      "execution_count": null,
      "outputs": []
    },
    {
      "cell_type": "code",
      "source": [
        "control = TD_puntos[['Sucursal','Supervisor','Codigo','NombreVendedor','CodVendedor_x','PjeFinal']]\n",
        "control = pd.merge(control, puntosCateg, on='Codigo', how='left')\n",
        "auxBase = base[['Codigo','Cliente',]]\n",
        "control = pd.merge(control, auxBase, on='Codigo', how='left')\n",
        "control = pd.merge(control, regionales, on='Sucursal', how='left')\n",
        "control = control.drop_duplicates()\n",
        "control['EncHechas'] = control[['FEGCacao', 'FEGCafe', 'FEGCondimentos', 'FEGEdulcorantes','FEGPSecas', 'FEGTe']].count(axis=1)"
      ],
      "metadata": {
        "id": "I_5vL9mgsiCS",
        "colab": {
          "base_uri": "https://localhost:8080/"
        },
        "outputId": "2b90578f-09db-45eb-c8d5-d275e5e521ca"
      },
      "execution_count": null,
      "outputs": [
        {
          "output_type": "stream",
          "name": "stderr",
          "text": [
            "<ipython-input-9-4f03e65312c8>:7: SettingWithCopyWarning: \n",
            "A value is trying to be set on a copy of a slice from a DataFrame.\n",
            "Try using .loc[row_indexer,col_indexer] = value instead\n",
            "\n",
            "See the caveats in the documentation: https://pandas.pydata.org/pandas-docs/stable/user_guide/indexing.html#returning-a-view-versus-a-copy\n",
            "  control['EncHechas'] = control[['FEGCacao', 'FEGCafe', 'FEGCondimentos', 'FEGEdulcorantes','FEGPSecas', 'FEGTe']].count(axis=1)\n"
          ]
        }
      ]
    },
    {
      "cell_type": "code",
      "source": [
        "control = control.rename(columns={'CodVendedor_x':'CodVendedor','PjeFinal':'NotaTotal'})\n",
        "control = control[['Sucursal','Supervisor','Codigo','Cliente','NombreVendedor','CodVendedor','FEGCacao','FEGCafe','FEGCondimentos','FEGEdulcorantes','FEGPSecas','FEGTe','EncHechas','NotaTotal','Regional']]\n",
        "control.fillna('Hacer', inplace=True)"
      ],
      "metadata": {
        "id": "v8atmkG21Qt-"
      },
      "execution_count": null,
      "outputs": []
    },
    {
      "cell_type": "code",
      "source": [
        "TD_encuestasHechas = base.pivot_table(index=['Sucursal','Supervisor','Codigo','Cliente','NombreVendedor','CodVendedor','RealizadaPor'], columns=['TipoEncuesta'], values='Valor', aggfunc=np.mean)\n",
        "TD_encuestasHechas =  TD_encuestasHechas.reset_index()\n",
        "TD_encuestasHechas['FEGCacao'] = np.where((TD_encuestasHechas.FEGCacao > 0),1,np.nan)\n",
        "TD_encuestasHechas['FEGCafe'] = np.where((TD_encuestasHechas.FEGCafe > 0),1,np.nan)\n",
        "TD_encuestasHechas['FEGCondimentos'] = np.where((TD_encuestasHechas.FEGCondimentos > 0),1,np.nan)\n",
        "TD_encuestasHechas['FEGEdulcorantes'] = np.where((TD_encuestasHechas.FEGEdulcorantes > 0),1,np.nan)\n",
        "TD_encuestasHechas['FEGPSecas'] = np.where((TD_encuestasHechas.FEGPSecas > 0),1,np.nan)\n",
        "TD_encuestasHechas['FEGTe'] = np.where((TD_encuestasHechas.FEGTe > 0),1,np.nan)"
      ],
      "metadata": {
        "id": "8Tcos-z96dD3"
      },
      "execution_count": null,
      "outputs": []
    },
    {
      "cell_type": "code",
      "source": [
        "TD_encuestasHechas['Hechas'] = TD_encuestasHechas[['FEGCacao','FEGCafe','FEGCondimentos','FEGEdulcorantes','FEGPSecas','FEGTe']].sum(axis=1, skipna=True)\n",
        "TD_encuestasHechas['Total'] = 6\n",
        "TD_encuestasHechas['FEGCacao'] = np.where((TD_encuestasHechas.FEGCacao > 0),'Hecha',np.nan)\n",
        "TD_encuestasHechas['FEGCafe'] = np.where((TD_encuestasHechas.FEGCafe > 0),'Hecha',np.nan)\n",
        "TD_encuestasHechas['FEGCondimentos'] = np.where((TD_encuestasHechas.FEGCondimentos > 0),'Hecha',np.nan)\n",
        "TD_encuestasHechas['FEGEdulcorantes'] = np.where((TD_encuestasHechas.FEGEdulcorantes > 0),'Hecha',np.nan)\n",
        "TD_encuestasHechas['FEGPSecas'] = np.where((TD_encuestasHechas.FEGPSecas > 0),'Hecha',np.nan)\n",
        "TD_encuestasHechas['FEGTe'] = np.where((TD_encuestasHechas.FEGTe > 0),'Hecha',np.nan)\n",
        "TD_encuestasHechas['%'] = TD_encuestasHechas['Hechas']/TD_encuestasHechas['Total']"
      ],
      "metadata": {
        "id": "FugkAeMd6fFV"
      },
      "execution_count": null,
      "outputs": []
    },
    {
      "cell_type": "code",
      "source": [
        "sumaHechas = TD_encuestasHechas.pivot_table(index='CodVendedor', values='Hechas', aggfunc=np.sum)\n",
        "bocasVisitadas = TD_encuestasHechas.pivot_table(index='CodVendedor', values='Codigo', aggfunc='count')\n",
        "bocasObj = recorridoV.pivot_table(index='CodVendedor', values='Codigo', aggfunc='count')\n",
        "kgObj = recorridoV.pivot_table(index='CodVendedor', values='Kg', aggfunc=np.sum)"
      ],
      "metadata": {
        "id": "lBSriw0v6f3K"
      },
      "execution_count": null,
      "outputs": []
    },
    {
      "cell_type": "code",
      "source": [
        "sumaHechas =  sumaHechas.reset_index()\n",
        "bocasVisitadas =  bocasVisitadas.reset_index()\n",
        "bocasObj =  bocasObj.reset_index()\n",
        "kgObj =  kgObj.reset_index()\n",
        "sumaHechas = sumaHechas.rename(columns={'Hechas':'EncuestasHechas'})\n",
        "bocasVisitadas = bocasVisitadas.rename(columns={'Codigo':'BocasVisitadas'})\n",
        "bocasObj = bocasObj.rename(columns={'Codigo':'ObjBocas'})\n",
        "bocasObj['ObjEnc'] = 6 * bocasObj['ObjBocas']"
      ],
      "metadata": {
        "id": "CPsx5KJk7nGZ"
      },
      "execution_count": null,
      "outputs": []
    },
    {
      "cell_type": "code",
      "source": [
        "resumen = pd.merge(resumenVend, sumaHechas, on='CodVendedor', how='left')\n",
        "resumen = pd.merge(resumen, bocasVisitadas, on='CodVendedor', how='left')\n",
        "resumen = pd.merge(resumen, bocasObj, on='CodVendedor', how='left')\n",
        "resumen = pd.merge(resumen, kgObj, on='CodVendedor', how='left')\n",
        "resumen['%_EncHechas'] = resumen['EncuestasHechas']/resumen['ObjEnc']\n",
        "resumen['%_BocasHechas'] = resumen['BocasVisitadas']/resumen['ObjBocas']\n",
        "resumen = pd.merge(resumen, usuariosSac, on='CodVendedor', how='left')\n",
        "resumen = pd.merge(resumen, kgCartera, on='VendedorSAC', how='left')\n",
        "resumen = resumen.drop('VendedorSAC', axis=1)\n",
        "resumen['RatioFeg'] = resumen['Kg']/resumen['KgCartera']\n",
        "resumen = pd.merge(resumen, kilos70, on='CodVendedor', how='left')\n",
        "resumen['%Kg_arriba_70'] = resumen['KG_70%']/resumen['Kg']"
      ],
      "metadata": {
        "id": "nGmNGjYX7o1p"
      },
      "execution_count": null,
      "outputs": []
    },
    {
      "cell_type": "code",
      "source": [
        "control['Codigo'] = '0' + control['Codigo'].astype(str)\n",
        "control.to_excel('TD_Control_.xlsx', index=False)\n",
        "!cp TD_Control_.xlsx \"/content/drive/Shareddrives/Trade Mktg/Trade/3 - FEG Venta/2 - Reporte Quincenal/Feg Semanal con Python\""
      ],
      "metadata": {
        "id": "TJI0ztmU7shM"
      },
      "execution_count": null,
      "outputs": []
    },
    {
      "cell_type": "code",
      "source": [
        "controlFotos['Codigo'] = '0' + controlFotos['Codigo'].astype(str)\n",
        "controlFotos.to_excel('controlFotos_.xlsx', index=False)\n",
        "!cp controlFotos_.xlsx \"/content/drive/Shareddrives/Trade Mktg/Trade/3 - FEG Venta/2 - Reporte Quincenal/Feg Semanal con Python\""
      ],
      "metadata": {
        "id": "9TIa80Pp79uf"
      },
      "execution_count": null,
      "outputs": []
    },
    {
      "cell_type": "code",
      "source": [
        "TD_Resumen = resumen.pivot_table(index=['Sucursal','Supervisor','NombreVendedor'], values=['%_EncHechas','%_BocasHechas','%Kg_arriba_70','KgCartera','Kg','RatioFeg','ObjBocas'], aggfunc=np.mean)\n",
        "TD_Resumen = TD_Resumen.reset_index()\n",
        "TD_Resumen = TD_Resumen[['Sucursal','Supervisor','NombreVendedor','%_EncHechas','%_BocasHechas','%Kg_arriba_70','KgCartera','Kg','RatioFeg','ObjBocas']]"
      ],
      "metadata": {
        "id": "yA5hful27_pZ"
      },
      "execution_count": null,
      "outputs": []
    },
    {
      "cell_type": "code",
      "source": [
        "TD_Resumen.to_excel('TD_Resumen_.xlsx', index=False)\n",
        "!cp TD_Resumen_.xlsx \"/content/drive/Shareddrives/Trade Mktg/Trade/3 - FEG Venta/2 - Reporte Quincenal/Feg Semanal con Python\""
      ],
      "metadata": {
        "id": "WXRUyWQo8BWG"
      },
      "execution_count": null,
      "outputs": []
    }
  ]
}